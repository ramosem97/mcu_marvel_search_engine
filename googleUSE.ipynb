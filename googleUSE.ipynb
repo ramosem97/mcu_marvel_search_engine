{
 "cells": [
  {
   "cell_type": "markdown",
   "id": "a94e61fa-f538-4edf-a9f6-91d2d9524271",
   "metadata": {},
   "source": [
    "# Rank BM 25 Search Engine"
   ]
  },
  {
   "cell_type": "markdown",
   "id": "9040d0fb-624e-452e-8f92-06be856b079d",
   "metadata": {},
   "source": [
    "## Configuration"
   ]
  },
  {
   "cell_type": "code",
   "execution_count": 1,
   "id": "b48d84d4-adeb-442d-989d-511aa4e5a276",
   "metadata": {},
   "outputs": [
    {
     "data": {
      "text/html": [
       "<pre>✔️ 0 ns (2021-12-07T09:05:47/2021-12-07T09:05:47)</pre>"
      ],
      "text/plain": [
       "<IPython.core.display.HTML object>"
      ]
     },
     "metadata": {},
     "output_type": "display_data"
    }
   ],
   "source": [
    "%load_ext autotime"
   ]
  },
  {
   "cell_type": "code",
   "execution_count": 2,
   "id": "6af25b7e-3abc-430e-b8b1-b336b357b5be",
   "metadata": {},
   "outputs": [
    {
     "data": {
      "text/html": [
       "<pre>✔️ 937 ms (2021-12-07T09:05:47/2021-12-07T09:05:48)</pre>"
      ],
      "text/plain": [
       "<IPython.core.display.HTML object>"
      ]
     },
     "metadata": {},
     "output_type": "display_data"
    }
   ],
   "source": [
    "from rank_bm25 import *\n",
    "\n",
    "import pandas as pd\n",
    "pd.options.display.max_rows = 999\n",
    "pd.set_option(\"max_colwidth\", 100)\n",
    "import numpy as np\n",
    "\n",
    "import seaborn as sns\n",
    "import matplotlib.pyplot as plt\n",
    "\n",
    "import os"
   ]
  },
  {
   "cell_type": "code",
   "execution_count": 3,
   "id": "f02104b7-61fc-4964-8d6e-4a83b459ebe4",
   "metadata": {},
   "outputs": [
    {
     "data": {
      "text/html": [
       "<pre>✔️ 0 ns (2021-12-07T09:05:48/2021-12-07T09:05:48)</pre>"
      ],
      "text/plain": [
       "<IPython.core.display.HTML object>"
      ]
     },
     "metadata": {},
     "output_type": "display_data"
    },
    {
     "name": "stdout",
     "output_type": "stream",
     "text": [
      "Path:  C:\\Users\\ramos\\OneDrive\\Documents\\SyracuseUniversity\\9th_Quarter\\IST736\\mcu_marvel_search_engine\\clean_data\\\n"
     ]
    }
   ],
   "source": [
    "path = os.getcwd()+'\\\\clean_data\\\\'\n",
    "print('Path: ', path)"
   ]
  },
  {
   "cell_type": "markdown",
   "id": "2a233f79-9cce-4e00-bdf5-8daf893a60ff",
   "metadata": {},
   "source": [
    "## Analysis"
   ]
  },
  {
   "cell_type": "markdown",
   "id": "ab561196-0f01-4ee6-bf9b-3c323215a8eb",
   "metadata": {},
   "source": [
    "### About the Data"
   ]
  },
  {
   "cell_type": "code",
   "execution_count": 4,
   "id": "e046f976-dd73-4254-8c29-6301108aeb88",
   "metadata": {},
   "outputs": [
    {
     "data": {
      "text/html": [
       "<pre>✔️ 47 ms (2021-12-07T09:05:48/2021-12-07T09:05:48)</pre>"
      ],
      "text/plain": [
       "<IPython.core.display.HTML object>"
      ]
     },
     "metadata": {},
     "output_type": "display_data"
    },
    {
     "name": "stdout",
     "output_type": "stream",
     "text": [
      "Entries:  18387\n"
     ]
    },
    {
     "data": {
      "text/html": [
       "<div>\n",
       "<style scoped>\n",
       "    .dataframe tbody tr th:only-of-type {\n",
       "        vertical-align: middle;\n",
       "    }\n",
       "\n",
       "    .dataframe tbody tr th {\n",
       "        vertical-align: top;\n",
       "    }\n",
       "\n",
       "    .dataframe thead th {\n",
       "        text-align: right;\n",
       "    }\n",
       "</style>\n",
       "<table border=\"1\" class=\"dataframe\">\n",
       "  <thead>\n",
       "    <tr style=\"text-align: right;\">\n",
       "      <th></th>\n",
       "      <th>character</th>\n",
       "      <th>line</th>\n",
       "      <th>movie</th>\n",
       "      <th>year</th>\n",
       "    </tr>\n",
       "  </thead>\n",
       "  <tbody>\n",
       "    <tr>\n",
       "      <th>0</th>\n",
       "      <td>TONY STARK</td>\n",
       "      <td>Oh, I get it.  You guys aren’t allowed to talk.  Is that it?  Are you not allowed to talk?</td>\n",
       "      <td>Iron Man</td>\n",
       "      <td>2008</td>\n",
       "    </tr>\n",
       "    <tr>\n",
       "      <th>1</th>\n",
       "      <td>IRON MAN JIMMY</td>\n",
       "      <td>No.  We’re allowed to talk.</td>\n",
       "      <td>Iron Man</td>\n",
       "      <td>2008</td>\n",
       "    </tr>\n",
       "    <tr>\n",
       "      <th>2</th>\n",
       "      <td>TONY STARK</td>\n",
       "      <td>Oh.  I see.  So it’s personal.</td>\n",
       "      <td>Iron Man</td>\n",
       "      <td>2008</td>\n",
       "    </tr>\n",
       "    <tr>\n",
       "      <th>3</th>\n",
       "      <td>RAMIREZ</td>\n",
       "      <td>I think they’re intimidated.</td>\n",
       "      <td>Iron Man</td>\n",
       "      <td>2008</td>\n",
       "    </tr>\n",
       "    <tr>\n",
       "      <th>4</th>\n",
       "      <td>TONY STARK</td>\n",
       "      <td>Good God, you’re a woman. I, honestly, I couldn’t have called that. I would apologize, but isn’t...</td>\n",
       "      <td>Iron Man</td>\n",
       "      <td>2008</td>\n",
       "    </tr>\n",
       "  </tbody>\n",
       "</table>\n",
       "</div>"
      ],
      "text/plain": [
       "        character  \\\n",
       "0      TONY STARK   \n",
       "1  IRON MAN JIMMY   \n",
       "2      TONY STARK   \n",
       "3         RAMIREZ   \n",
       "4      TONY STARK   \n",
       "\n",
       "                                                                                                  line  \\\n",
       "0           Oh, I get it.  You guys aren’t allowed to talk.  Is that it?  Are you not allowed to talk?   \n",
       "1                                                                          No.  We’re allowed to talk.   \n",
       "2                                                                       Oh.  I see.  So it’s personal.   \n",
       "3                                                                         I think they’re intimidated.   \n",
       "4  Good God, you’re a woman. I, honestly, I couldn’t have called that. I would apologize, but isn’t...   \n",
       "\n",
       "      movie  year  \n",
       "0  Iron Man  2008  \n",
       "1  Iron Man  2008  \n",
       "2  Iron Man  2008  \n",
       "3  Iron Man  2008  \n",
       "4  Iron Man  2008  "
      ]
     },
     "execution_count": 4,
     "metadata": {},
     "output_type": "execute_result"
    }
   ],
   "source": [
    "df = pd.read_csv(path + 'mcu_data_clean_all.csv', index_col=0).reset_index(drop=True)[['character', 'line', 'movie', 'year']]\n",
    "print('Entries: ', len(df))\n",
    "df.head()"
   ]
  },
  {
   "cell_type": "markdown",
   "id": "bb74ae11-7b26-499f-8d59-50b23deb0562",
   "metadata": {},
   "source": [
    "#### Get Lines for Important Characters"
   ]
  },
  {
   "cell_type": "code",
   "execution_count": 8,
   "id": "45ab4660-aab8-40a3-81f4-db77aacf397a",
   "metadata": {},
   "outputs": [
    {
     "data": {
      "text/html": [
       "<pre>✔️ 0 ns (2021-12-07T09:06:24/2021-12-07T09:06:24)</pre>"
      ],
      "text/plain": [
       "<IPython.core.display.HTML object>"
      ]
     },
     "metadata": {},
     "output_type": "display_data"
    }
   ],
   "source": [
    "char_line = np.unique(df['character'].values, return_counts=True)\n",
    "char_line = pd.DataFrame(zip(char_line[0], char_line[1]), columns=['character', 'line_count'])\n",
    "imp_chars = char_line.loc[char_line['line_count']>30]['character'].unique()"
   ]
  },
  {
   "cell_type": "markdown",
   "id": "1289922e-22fe-4e68-ac85-2b07781d9581",
   "metadata": {},
   "source": [
    "## Get Datasets for Training"
   ]
  },
  {
   "cell_type": "markdown",
   "id": "4972ae66-59ae-4296-b209-a1205403d07d",
   "metadata": {},
   "source": [
    "### Character Lines"
   ]
  },
  {
   "cell_type": "code",
   "execution_count": 9,
   "id": "922ea460-3ad7-40a6-b3fb-b30417fb38d9",
   "metadata": {},
   "outputs": [
    {
     "data": {
      "text/html": [
       "<pre>✔️ 46 ms (2021-12-07T09:06:25/2021-12-07T09:06:25)</pre>"
      ],
      "text/plain": [
       "<IPython.core.display.HTML object>"
      ]
     },
     "metadata": {},
     "output_type": "display_data"
    }
   ],
   "source": [
    "lines = df.loc[df['character'].isin(imp_chars)].reset_index(drop=True)\n",
    "lines.to_csv(path + 'mcu_data_lines.csv')"
   ]
  },
  {
   "cell_type": "markdown",
   "id": "0856fa31-6233-4b03-8815-be7746afbca8",
   "metadata": {},
   "source": [
    "### Characters"
   ]
  },
  {
   "cell_type": "code",
   "execution_count": 57,
   "id": "37fa7eed-89ba-4c8f-861b-b28262d2ea5a",
   "metadata": {},
   "outputs": [
    {
     "data": {
      "text/html": [
       "<pre>✔️ 31 ms (2021-12-07T09:51:06/2021-12-07T09:51:06)</pre>"
      ],
      "text/plain": [
       "<IPython.core.display.HTML object>"
      ]
     },
     "metadata": {},
     "output_type": "display_data"
    },
    {
     "name": "stdout",
     "output_type": "stream",
     "text": [
      "103\n"
     ]
    },
    {
     "data": {
      "text/html": [
       "<div>\n",
       "<style scoped>\n",
       "    .dataframe tbody tr th:only-of-type {\n",
       "        vertical-align: middle;\n",
       "    }\n",
       "\n",
       "    .dataframe tbody tr th {\n",
       "        vertical-align: top;\n",
       "    }\n",
       "\n",
       "    .dataframe thead th {\n",
       "        text-align: right;\n",
       "    }\n",
       "</style>\n",
       "<table border=\"1\" class=\"dataframe\">\n",
       "  <thead>\n",
       "    <tr style=\"text-align: right;\">\n",
       "      <th></th>\n",
       "      <th>character</th>\n",
       "      <th>line</th>\n",
       "    </tr>\n",
       "  </thead>\n",
       "  <tbody>\n",
       "    <tr>\n",
       "      <th>0</th>\n",
       "      <td>ADRIAN TOOMES</td>\n",
       "      <td>I am Adrian Toomes /nThings are never gonna be the same now. I mean, look at this. You got alien...</td>\n",
       "    </tr>\n",
       "    <tr>\n",
       "      <th>1</th>\n",
       "      <td>ALDRICH KILLIAN</td>\n",
       "      <td>I am Aldrich Killian /nMr. Stark! \\nOh, wow! Hey, Tony! Aldrich Killian. I'm a big fan of your w...</td>\n",
       "    </tr>\n",
       "    <tr>\n",
       "      <th>2</th>\n",
       "      <td>ALEXANDER PIERCE</td>\n",
       "      <td>I am Alexander Pierce /nFor the record, councilman, he's Algerian. I can draw a map if it'll hel...</td>\n",
       "    </tr>\n",
       "    <tr>\n",
       "      <th>3</th>\n",
       "      <td>AUNT MAY</td>\n",
       "      <td>I am Aunt May /nMmm. Hey. How was school today? \\nYou didn't tell me about the grant. \\nYou didn...</td>\n",
       "    </tr>\n",
       "    <tr>\n",
       "      <th>4</th>\n",
       "      <td>BETTY BRANT</td>\n",
       "      <td>I am Betty Brant /nRise and shine, Midtown Science and Technology. \\nThanks, Jason, but I alread...</td>\n",
       "    </tr>\n",
       "  </tbody>\n",
       "</table>\n",
       "</div>"
      ],
      "text/plain": [
       "          character  \\\n",
       "0     ADRIAN TOOMES   \n",
       "1   ALDRICH KILLIAN   \n",
       "2  ALEXANDER PIERCE   \n",
       "3          AUNT MAY   \n",
       "4       BETTY BRANT   \n",
       "\n",
       "                                                                                                  line  \n",
       "0  I am Adrian Toomes /nThings are never gonna be the same now. I mean, look at this. You got alien...  \n",
       "1  I am Aldrich Killian /nMr. Stark! \\nOh, wow! Hey, Tony! Aldrich Killian. I'm a big fan of your w...  \n",
       "2  I am Alexander Pierce /nFor the record, councilman, he's Algerian. I can draw a map if it'll hel...  \n",
       "3  I am Aunt May /nMmm. Hey. How was school today? \\nYou didn't tell me about the grant. \\nYou didn...  \n",
       "4  I am Betty Brant /nRise and shine, Midtown Science and Technology. \\nThanks, Jason, but I alread...  "
      ]
     },
     "execution_count": 57,
     "metadata": {},
     "output_type": "execute_result"
    }
   ],
   "source": [
    "chars = df.loc[df['character'].isin(imp_chars)].groupby(['character'])['line'].apply(lambda x: ' \\n'.join(x)).reset_index()\n",
    "print(len(chars))\n",
    "chars['line'] = ['I am ' + char.title() + ' /n' + line for char, line in chars.values]\n",
    "chars.to_csv(path + 'mcu_data_chars.csv')\n",
    "chars.head()"
   ]
  },
  {
   "cell_type": "markdown",
   "id": "d850a4ab-5299-4bc7-bd36-2aeaef8c9a88",
   "metadata": {},
   "source": [
    "### Movies"
   ]
  },
  {
   "cell_type": "code",
   "execution_count": 59,
   "id": "19df58a9-97f0-49b4-a9d7-cc809300ea70",
   "metadata": {},
   "outputs": [
    {
     "data": {
      "text/html": [
       "<pre>✔️ 62 ms (2021-12-07T09:52:23/2021-12-07T09:52:23)</pre>"
      ],
      "text/plain": [
       "<IPython.core.display.HTML object>"
      ]
     },
     "metadata": {},
     "output_type": "display_data"
    },
    {
     "name": "stdout",
     "output_type": "stream",
     "text": [
      "Entries:  23\n"
     ]
    }
   ],
   "source": [
    "movies = pd.read_csv('raw_data/mcu_scipts.csv', index_col=0)\n",
    "print('Entries: ', len(movies))\n",
    "movies.head(23)\n",
    "movies.to_csv(path + 'mcu_data_movies.csv')"
   ]
  },
  {
   "cell_type": "markdown",
   "id": "440ac98f-c25b-4908-8e1a-e88a76c97601",
   "metadata": {},
   "source": [
    "## Google Universal Sentence Encoder"
   ]
  },
  {
   "cell_type": "code",
   "execution_count": 19,
   "id": "7ed3827c-5e74-4762-8845-6bd445134b47",
   "metadata": {},
   "outputs": [
    {
     "data": {
      "text/html": [
       "<pre>✔️ 6.95 s (2021-12-07T09:13:08/2021-12-07T09:13:15)</pre>"
      ],
      "text/plain": [
       "<IPython.core.display.HTML object>"
      ]
     },
     "metadata": {},
     "output_type": "display_data"
    }
   ],
   "source": [
    "import tensorflow as tf\n",
    "import tensorflow_hub as hub\n",
    "\n",
    "from sklearn.metrics.pairwise import linear_kernel\n",
    "\n",
    "import shutil"
   ]
  },
  {
   "cell_type": "code",
   "execution_count": 20,
   "id": "989e89a8-91d2-438d-95f4-4171dfa55dc4",
   "metadata": {},
   "outputs": [
    {
     "data": {
      "text/html": [
       "<pre>✔️ 8.52 s (2021-12-07T09:13:15/2021-12-07T09:13:24)</pre>"
      ],
      "text/plain": [
       "<IPython.core.display.HTML object>"
      ]
     },
     "metadata": {},
     "output_type": "display_data"
    }
   ],
   "source": [
    "#Model load through URL path:\n",
    "module_url = \"https://tfhub.dev/google/universal-sentence-encoder/4\"\n",
    "model = hub.load(module_url)\n",
    "\n",
    "#Create function for using model training\n",
    "def embed(input):\n",
    "    return model(input)"
   ]
  },
  {
   "cell_type": "code",
   "execution_count": 44,
   "id": "30d4188b-e132-4124-8546-b333fadb11d0",
   "metadata": {},
   "outputs": [
    {
     "data": {
      "text/html": [
       "<pre>✔️ 0 ns (2021-12-07T09:32:00/2021-12-07T09:32:00)</pre>"
      ],
      "text/plain": [
       "<IPython.core.display.HTML object>"
      ]
     },
     "metadata": {},
     "output_type": "display_data"
    }
   ],
   "source": [
    "def train_model(data, model_name):\n",
    "    \n",
    "    ## Training\n",
    "    Model_USE= embed(data)\n",
    "\n",
    "    ## Save model\n",
    "    exported = tf.train.Checkpoint(v=tf.Variable(Model_USE))\n",
    "    exported.f = tf.function(\n",
    "        lambda  x: exported.v * x,\n",
    "        input_signature=[tf.TensorSpec(shape=None, dtype=tf.float32)])\n",
    "\n",
    "    dirpath = os.getcwd()+'\\\\trained_models\\\\{model_name}'.format(model_name=model_name)\n",
    "    if os.path.exists(dirpath) and os.path.isdir(dirpath):\n",
    "        shutil.rmtree(dirpath)\n",
    "\n",
    "    tf.saved_model.save(exported,dirpath)"
   ]
  },
  {
   "cell_type": "code",
   "execution_count": 54,
   "id": "5946cbaf-1f2b-4682-93dd-9df739b8f359",
   "metadata": {},
   "outputs": [
    {
     "data": {
      "text/html": [
       "<pre>✔️ 5.66 s (2021-12-07T09:43:56/2021-12-07T09:44:02)</pre>"
      ],
      "text/plain": [
       "<IPython.core.display.HTML object>"
      ]
     },
     "metadata": {},
     "output_type": "display_data"
    },
    {
     "name": "stdout",
     "output_type": "stream",
     "text": [
      "INFO:tensorflow:Assets written to: C:\\Users\\ramos\\OneDrive\\Documents\\SyracuseUniversity\\9th_Quarter\\IST736\\mcu_marvel_search_engine\\trained_models\\relevant_lines\\assets\n"
     ]
    },
    {
     "name": "stderr",
     "output_type": "stream",
     "text": [
      "INFO:tensorflow:Assets written to: C:\\Users\\ramos\\OneDrive\\Documents\\SyracuseUniversity\\9th_Quarter\\IST736\\mcu_marvel_search_engine\\trained_models\\relevant_lines\\assets\n"
     ]
    },
    {
     "name": "stdout",
     "output_type": "stream",
     "text": [
      "INFO:tensorflow:Assets written to: C:\\Users\\ramos\\OneDrive\\Documents\\SyracuseUniversity\\9th_Quarter\\IST736\\mcu_marvel_search_engine\\trained_models\\relevant_chars\\assets\n"
     ]
    },
    {
     "name": "stderr",
     "output_type": "stream",
     "text": [
      "INFO:tensorflow:Assets written to: C:\\Users\\ramos\\OneDrive\\Documents\\SyracuseUniversity\\9th_Quarter\\IST736\\mcu_marvel_search_engine\\trained_models\\relevant_chars\\assets\n"
     ]
    },
    {
     "name": "stdout",
     "output_type": "stream",
     "text": [
      "INFO:tensorflow:Assets written to: C:\\Users\\ramos\\OneDrive\\Documents\\SyracuseUniversity\\9th_Quarter\\IST736\\mcu_marvel_search_engine\\trained_models\\relevant_movies\\assets\n"
     ]
    },
    {
     "name": "stderr",
     "output_type": "stream",
     "text": [
      "INFO:tensorflow:Assets written to: C:\\Users\\ramos\\OneDrive\\Documents\\SyracuseUniversity\\9th_Quarter\\IST736\\mcu_marvel_search_engine\\trained_models\\relevant_movies\\assets\n"
     ]
    }
   ],
   "source": [
    "train_model(data=lines['line'], model_name='relevant_lines')\n",
    "\n",
    "train_model(data=chars['line'], model_name='relevant_chars')\n",
    "\n",
    "train_model(data=movies['script'], model_name='relevant_movies')"
   ]
  },
  {
   "cell_type": "markdown",
   "id": "5ac9a5c5-c5b8-4d44-99c4-c7143bb51a83",
   "metadata": {},
   "source": [
    "## Create Search Function"
   ]
  },
  {
   "cell_type": "code",
   "execution_count": 52,
   "id": "4d125d09-cbb1-4af6-b1fa-cb7ddaabc30f",
   "metadata": {},
   "outputs": [
    {
     "data": {
      "text/html": [
       "<pre>✔️ 0 ns (2021-12-07T09:33:28/2021-12-07T09:33:28)</pre>"
      ],
      "text/plain": [
       "<IPython.core.display.HTML object>"
      ]
     },
     "metadata": {},
     "output_type": "display_data"
    }
   ],
   "source": [
    "## Function for Document Search\n",
    "def SearchDocument(query, topn=10):\n",
    "    \n",
    "    ## Create Query\n",
    "    q =[query]\n",
    "    \n",
    "    # embed the query for calcluating the similarity\n",
    "    Q_Train = embed(q)\n",
    "    \n",
    "    ## Load Model\n",
    "    imported_m = tf.saved_model.load(os.getcwd()+'\\\\trained_models\\\\relevant_lines')\n",
    "    loadedmodel = imported_m.v.numpy()\n",
    "    \n",
    "    # Calculate the Similarity\n",
    "    linear_similarities = linear_kernel(Q_Train, loadedmodel).flatten()\n",
    "\n",
    "    #Sort top 10 index with similarity score\n",
    "    Top_index_doc = linear_similarities.argsort()[:-(topn + 1):-1]\n",
    "     \n",
    "    # sort by similarity score\n",
    "    linear_similarities.sort()\n",
    "    a = df.loc[df.index.isin(Top_index_doc)].reset_index(drop=True)\n",
    "    a['Score'] = linear_similarities[:-(topn+1):-1]\n",
    "    \n",
    "    return a.sort_values(['Score'], ascending=False)[['character', 'line', 'movie', 'year', 'Score']]"
   ]
  },
  {
   "cell_type": "code",
   "execution_count": 53,
   "id": "d76dea27-a540-4155-9d55-e326b3feb100",
   "metadata": {},
   "outputs": [
    {
     "data": {
      "text/html": [
       "<pre>✔️ 109 ms (2021-12-07T09:33:29/2021-12-07T09:33:29)</pre>"
      ],
      "text/plain": [
       "<IPython.core.display.HTML object>"
      ]
     },
     "metadata": {},
     "output_type": "display_data"
    },
    {
     "data": {
      "text/html": [
       "<div>\n",
       "<style scoped>\n",
       "    .dataframe tbody tr th:only-of-type {\n",
       "        vertical-align: middle;\n",
       "    }\n",
       "\n",
       "    .dataframe tbody tr th {\n",
       "        vertical-align: top;\n",
       "    }\n",
       "\n",
       "    .dataframe thead th {\n",
       "        text-align: right;\n",
       "    }\n",
       "</style>\n",
       "<table border=\"1\" class=\"dataframe\">\n",
       "  <thead>\n",
       "    <tr style=\"text-align: right;\">\n",
       "      <th></th>\n",
       "      <th>character</th>\n",
       "      <th>line</th>\n",
       "      <th>movie</th>\n",
       "      <th>year</th>\n",
       "      <th>Score</th>\n",
       "    </tr>\n",
       "  </thead>\n",
       "  <tbody>\n",
       "    <tr>\n",
       "      <th>0</th>\n",
       "      <td>JUSTIN HAMMER</td>\n",
       "      <td>Well, you’re talking to the right guy.  Claridge Hi-Tec, semi-automatic, 9mm pistol. Too downtow...</td>\n",
       "      <td>Iron Man 2</td>\n",
       "      <td>2010</td>\n",
       "      <td>0.414177</td>\n",
       "    </tr>\n",
       "    <tr>\n",
       "      <th>1</th>\n",
       "      <td>PEPPER POTTS</td>\n",
       "      <td>You know, I think I understand why you don't want to give up the suits. What am I going to compl...</td>\n",
       "      <td>Iron Man 3</td>\n",
       "      <td>2013</td>\n",
       "      <td>0.382143</td>\n",
       "    </tr>\n",
       "    <tr>\n",
       "      <th>2</th>\n",
       "      <td>STEVE ROGERS</td>\n",
       "      <td>Don't hold your breath.</td>\n",
       "      <td>Captain America: The Winter Soldier</td>\n",
       "      <td>2014</td>\n",
       "      <td>0.381484</td>\n",
       "    </tr>\n",
       "    <tr>\n",
       "      <th>3</th>\n",
       "      <td>NOVA PRIME</td>\n",
       "      <td>All Nova pilots, interlock and form a blockade. The Dark Aster must not reach the ground.</td>\n",
       "      <td>Guardians of the Galaxy</td>\n",
       "      <td>2014</td>\n",
       "      <td>0.372609</td>\n",
       "    </tr>\n",
       "    <tr>\n",
       "      <th>4</th>\n",
       "      <td>MANTIS</td>\n",
       "      <td>The bodies are his children.</td>\n",
       "      <td>Guardians of the Galaxy Vol. 2</td>\n",
       "      <td>2017</td>\n",
       "      <td>0.356258</td>\n",
       "    </tr>\n",
       "    <tr>\n",
       "      <th>5</th>\n",
       "      <td>STEVE ROGERS</td>\n",
       "      <td>So your body's changing. Believe me, I know how that feels.</td>\n",
       "      <td>Spider-Man: Homecoming</td>\n",
       "      <td>2017</td>\n",
       "      <td>0.355951</td>\n",
       "    </tr>\n",
       "    <tr>\n",
       "      <th>6</th>\n",
       "      <td>AARON DAVIS</td>\n",
       "      <td>Can I give you some advice?</td>\n",
       "      <td>Spider-Man: Homecoming</td>\n",
       "      <td>2017</td>\n",
       "      <td>0.354970</td>\n",
       "    </tr>\n",
       "    <tr>\n",
       "      <th>7</th>\n",
       "      <td>ODIN</td>\n",
       "      <td>The skull of Surtur?  That’s a formidable weapon.</td>\n",
       "      <td>Thor: Ragnarok</td>\n",
       "      <td>2017</td>\n",
       "      <td>0.350028</td>\n",
       "    </tr>\n",
       "    <tr>\n",
       "      <th>8</th>\n",
       "      <td>HANK</td>\n",
       "      <td>No shit.</td>\n",
       "      <td>Ant-Man and the Wasp</td>\n",
       "      <td>2018</td>\n",
       "      <td>0.347618</td>\n",
       "    </tr>\n",
       "    <tr>\n",
       "      <th>9</th>\n",
       "      <td>SONNY</td>\n",
       "      <td>You can go.But, I'm afraid your money's gonna have to remain.Let's call it compensation for my i...</td>\n",
       "      <td>Ant-Man and the Wasp</td>\n",
       "      <td>2018</td>\n",
       "      <td>0.347357</td>\n",
       "    </tr>\n",
       "  </tbody>\n",
       "</table>\n",
       "</div>"
      ],
      "text/plain": [
       "       character  \\\n",
       "0  JUSTIN HAMMER   \n",
       "1   PEPPER POTTS   \n",
       "2   STEVE ROGERS   \n",
       "3     NOVA PRIME   \n",
       "4         MANTIS   \n",
       "5   STEVE ROGERS   \n",
       "6    AARON DAVIS   \n",
       "7           ODIN   \n",
       "8           HANK   \n",
       "9          SONNY   \n",
       "\n",
       "                                                                                                  line  \\\n",
       "0  Well, you’re talking to the right guy.  Claridge Hi-Tec, semi-automatic, 9mm pistol. Too downtow...   \n",
       "1  You know, I think I understand why you don't want to give up the suits. What am I going to compl...   \n",
       "2                                                                              Don't hold your breath.   \n",
       "3           All Nova pilots, interlock and form a blockade. The Dark Aster must not reach the ground.    \n",
       "4                                                                         The bodies are his children.   \n",
       "5                                          So your body's changing. Believe me, I know how that feels.   \n",
       "6                                                                          Can I give you some advice?   \n",
       "7                                                    The skull of Surtur?  That’s a formidable weapon.   \n",
       "8                                                                                             No shit.   \n",
       "9  You can go.But, I'm afraid your money's gonna have to remain.Let's call it compensation for my i...   \n",
       "\n",
       "                                 movie  year     Score  \n",
       "0                           Iron Man 2  2010  0.414177  \n",
       "1                           Iron Man 3  2013  0.382143  \n",
       "2  Captain America: The Winter Soldier  2014  0.381484  \n",
       "3              Guardians of the Galaxy  2014  0.372609  \n",
       "4       Guardians of the Galaxy Vol. 2  2017  0.356258  \n",
       "5               Spider-Man: Homecoming  2017  0.355951  \n",
       "6               Spider-Man: Homecoming  2017  0.354970  \n",
       "7                       Thor: Ragnarok  2017  0.350028  \n",
       "8                 Ant-Man and the Wasp  2018  0.347618  \n",
       "9                 Ant-Man and the Wasp  2018  0.347357  "
      ]
     },
     "execution_count": 53,
     "metadata": {},
     "output_type": "execute_result"
    }
   ],
   "source": [
    "SearchDocument('character dies')"
   ]
  },
  {
   "cell_type": "code",
   "execution_count": null,
   "id": "1e3af8ab-ef5d-482c-805c-046316452e11",
   "metadata": {},
   "outputs": [],
   "source": []
  },
  {
   "cell_type": "code",
   "execution_count": null,
   "id": "1182e228-4b48-4d3c-bb0a-f1f1b4f0406b",
   "metadata": {},
   "outputs": [],
   "source": []
  },
  {
   "cell_type": "code",
   "execution_count": null,
   "id": "eb0781ab-d221-4ade-9be9-0b8158dfb06c",
   "metadata": {},
   "outputs": [],
   "source": []
  },
  {
   "cell_type": "code",
   "execution_count": null,
   "id": "44e4588f-76d5-4d2e-8e30-ca7292641643",
   "metadata": {},
   "outputs": [],
   "source": []
  },
  {
   "cell_type": "code",
   "execution_count": null,
   "id": "f141f27e-1082-409e-9f70-df9a98a67902",
   "metadata": {},
   "outputs": [],
   "source": []
  }
 ],
 "metadata": {
  "kernelspec": {
   "display_name": "Python 3 (ipykernel)",
   "language": "python",
   "name": "python3"
  },
  "language_info": {
   "codemirror_mode": {
    "name": "ipython",
    "version": 3
   },
   "file_extension": ".py",
   "mimetype": "text/x-python",
   "name": "python",
   "nbconvert_exporter": "python",
   "pygments_lexer": "ipython3",
   "version": "3.9.7"
  }
 },
 "nbformat": 4,
 "nbformat_minor": 5
}

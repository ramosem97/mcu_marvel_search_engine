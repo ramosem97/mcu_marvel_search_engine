{
 "cells": [
  {
   "cell_type": "markdown",
   "id": "a94e61fa-f538-4edf-a9f6-91d2d9524271",
   "metadata": {},
   "source": [
    "# GOOGLE Universal Senetence Encoder Search Engine"
   ]
  },
  {
   "cell_type": "markdown",
   "id": "9040d0fb-624e-452e-8f92-06be856b079d",
   "metadata": {},
   "source": [
    "## Configuration"
   ]
  },
  {
   "cell_type": "code",
   "execution_count": 1,
   "id": "b48d84d4-adeb-442d-989d-511aa4e5a276",
   "metadata": {},
   "outputs": [
    {
     "data": {
      "text/html": [
       "<pre>✔️ 0 ns (2021-12-13T10:47:54/2021-12-13T10:47:54)</pre>"
      ],
      "text/plain": [
       "<IPython.core.display.HTML object>"
      ]
     },
     "metadata": {},
     "output_type": "display_data"
    }
   ],
   "source": [
    "%load_ext autotime"
   ]
  },
  {
   "cell_type": "code",
   "execution_count": 2,
   "id": "6af25b7e-3abc-430e-b8b1-b336b357b5be",
   "metadata": {},
   "outputs": [
    {
     "data": {
      "text/html": [
       "<pre>✔️ 938 ms (2021-12-13T10:47:54/2021-12-13T10:47:55)</pre>"
      ],
      "text/plain": [
       "<IPython.core.display.HTML object>"
      ]
     },
     "metadata": {},
     "output_type": "display_data"
    }
   ],
   "source": [
    "from rank_bm25 import *\n",
    "\n",
    "import pandas as pd\n",
    "pd.options.display.max_rows = 999\n",
    "pd.set_option(\"max_colwidth\", 100)\n",
    "import numpy as np\n",
    "\n",
    "import seaborn as sns\n",
    "import matplotlib.pyplot as plt\n",
    "\n",
    "import os"
   ]
  },
  {
   "cell_type": "code",
   "execution_count": 3,
   "id": "f02104b7-61fc-4964-8d6e-4a83b459ebe4",
   "metadata": {},
   "outputs": [
    {
     "data": {
      "text/html": [
       "<pre>✔️ 0 ns (2021-12-13T10:47:55/2021-12-13T10:47:55)</pre>"
      ],
      "text/plain": [
       "<IPython.core.display.HTML object>"
      ]
     },
     "metadata": {},
     "output_type": "display_data"
    },
    {
     "name": "stdout",
     "output_type": "stream",
     "text": [
      "Path:  C:\\Users\\ramos\\OneDrive\\Documents\\SyracuseUniversity\\9th_Quarter\\IST736\\mcu_marvel_search_engine\\clean_data\\\n"
     ]
    }
   ],
   "source": [
    "path = os.getcwd()+'\\\\clean_data\\\\'\n",
    "print('Path: ', path)"
   ]
  },
  {
   "cell_type": "markdown",
   "id": "2a233f79-9cce-4e00-bdf5-8daf893a60ff",
   "metadata": {},
   "source": [
    "## Analysis"
   ]
  },
  {
   "cell_type": "markdown",
   "id": "ab561196-0f01-4ee6-bf9b-3c323215a8eb",
   "metadata": {},
   "source": [
    "### About the Data"
   ]
  },
  {
   "cell_type": "code",
   "execution_count": 4,
   "id": "e046f976-dd73-4254-8c29-6301108aeb88",
   "metadata": {},
   "outputs": [
    {
     "data": {
      "text/html": [
       "<pre>✔️ 32 ms (2021-12-13T10:47:55/2021-12-13T10:47:55)</pre>"
      ],
      "text/plain": [
       "<IPython.core.display.HTML object>"
      ]
     },
     "metadata": {},
     "output_type": "display_data"
    },
    {
     "name": "stdout",
     "output_type": "stream",
     "text": [
      "Entries:  18387\n"
     ]
    },
    {
     "data": {
      "text/html": [
       "<div>\n",
       "<style scoped>\n",
       "    .dataframe tbody tr th:only-of-type {\n",
       "        vertical-align: middle;\n",
       "    }\n",
       "\n",
       "    .dataframe tbody tr th {\n",
       "        vertical-align: top;\n",
       "    }\n",
       "\n",
       "    .dataframe thead th {\n",
       "        text-align: right;\n",
       "    }\n",
       "</style>\n",
       "<table border=\"1\" class=\"dataframe\">\n",
       "  <thead>\n",
       "    <tr style=\"text-align: right;\">\n",
       "      <th></th>\n",
       "      <th>character</th>\n",
       "      <th>line</th>\n",
       "      <th>movie</th>\n",
       "      <th>year</th>\n",
       "    </tr>\n",
       "  </thead>\n",
       "  <tbody>\n",
       "    <tr>\n",
       "      <th>0</th>\n",
       "      <td>TONY STARK</td>\n",
       "      <td>Oh, I get it.  You guys aren’t allowed to talk.  Is that it?  Are you not allowed to talk?</td>\n",
       "      <td>Iron Man</td>\n",
       "      <td>2008</td>\n",
       "    </tr>\n",
       "    <tr>\n",
       "      <th>1</th>\n",
       "      <td>IRON MAN JIMMY</td>\n",
       "      <td>No.  We’re allowed to talk.</td>\n",
       "      <td>Iron Man</td>\n",
       "      <td>2008</td>\n",
       "    </tr>\n",
       "    <tr>\n",
       "      <th>2</th>\n",
       "      <td>TONY STARK</td>\n",
       "      <td>Oh.  I see.  So it’s personal.</td>\n",
       "      <td>Iron Man</td>\n",
       "      <td>2008</td>\n",
       "    </tr>\n",
       "    <tr>\n",
       "      <th>3</th>\n",
       "      <td>RAMIREZ</td>\n",
       "      <td>I think they’re intimidated.</td>\n",
       "      <td>Iron Man</td>\n",
       "      <td>2008</td>\n",
       "    </tr>\n",
       "    <tr>\n",
       "      <th>4</th>\n",
       "      <td>TONY STARK</td>\n",
       "      <td>Good God, you’re a woman. I, honestly, I couldn’t have called that. I would apologize, but isn’t...</td>\n",
       "      <td>Iron Man</td>\n",
       "      <td>2008</td>\n",
       "    </tr>\n",
       "  </tbody>\n",
       "</table>\n",
       "</div>"
      ],
      "text/plain": [
       "        character  \\\n",
       "0      TONY STARK   \n",
       "1  IRON MAN JIMMY   \n",
       "2      TONY STARK   \n",
       "3         RAMIREZ   \n",
       "4      TONY STARK   \n",
       "\n",
       "                                                                                                  line  \\\n",
       "0           Oh, I get it.  You guys aren’t allowed to talk.  Is that it?  Are you not allowed to talk?   \n",
       "1                                                                          No.  We’re allowed to talk.   \n",
       "2                                                                       Oh.  I see.  So it’s personal.   \n",
       "3                                                                         I think they’re intimidated.   \n",
       "4  Good God, you’re a woman. I, honestly, I couldn’t have called that. I would apologize, but isn’t...   \n",
       "\n",
       "      movie  year  \n",
       "0  Iron Man  2008  \n",
       "1  Iron Man  2008  \n",
       "2  Iron Man  2008  \n",
       "3  Iron Man  2008  \n",
       "4  Iron Man  2008  "
      ]
     },
     "execution_count": 4,
     "metadata": {},
     "output_type": "execute_result"
    }
   ],
   "source": [
    "df = pd.read_csv(path + 'mcu_data_clean_all.csv', index_col=0).reset_index(drop=True)[['character', 'line', 'movie', 'year']]\n",
    "print('Entries: ', len(df))\n",
    "df.head()"
   ]
  },
  {
   "cell_type": "markdown",
   "id": "bb74ae11-7b26-499f-8d59-50b23deb0562",
   "metadata": {},
   "source": [
    "#### Get Lines for Important Characters"
   ]
  },
  {
   "cell_type": "code",
   "execution_count": 5,
   "id": "45ab4660-aab8-40a3-81f4-db77aacf397a",
   "metadata": {},
   "outputs": [
    {
     "data": {
      "text/html": [
       "<pre>✔️ 16 ms (2021-12-13T10:47:55/2021-12-13T10:47:55)</pre>"
      ],
      "text/plain": [
       "<IPython.core.display.HTML object>"
      ]
     },
     "metadata": {},
     "output_type": "display_data"
    }
   ],
   "source": [
    "char_line = np.unique(df['character'].values, return_counts=True)\n",
    "char_line = pd.DataFrame(zip(char_line[0], char_line[1]), columns=['character', 'line_count'])\n",
    "imp_chars = char_line.loc[char_line['line_count']>30]['character'].unique()"
   ]
  },
  {
   "cell_type": "markdown",
   "id": "1289922e-22fe-4e68-ac85-2b07781d9581",
   "metadata": {},
   "source": [
    "## Get Datasets for Training"
   ]
  },
  {
   "cell_type": "markdown",
   "id": "4972ae66-59ae-4296-b209-a1205403d07d",
   "metadata": {},
   "source": [
    "### Character Lines"
   ]
  },
  {
   "cell_type": "code",
   "execution_count": 6,
   "id": "922ea460-3ad7-40a6-b3fb-b30417fb38d9",
   "metadata": {},
   "outputs": [
    {
     "data": {
      "text/html": [
       "<pre>✔️ 62 ms (2021-12-13T10:47:56/2021-12-13T10:47:56)</pre>"
      ],
      "text/plain": [
       "<IPython.core.display.HTML object>"
      ]
     },
     "metadata": {},
     "output_type": "display_data"
    }
   ],
   "source": [
    "lines = df.loc[df['character'].isin(imp_chars)].reset_index(drop=True)\n",
    "lines.to_csv(path + 'mcu_data_lines.csv')\n",
    "lines['line'] = ['{} said: {}'.format(char.title(), line) for char, line in lines[['character', 'line']].values]"
   ]
  },
  {
   "cell_type": "markdown",
   "id": "0856fa31-6233-4b03-8815-be7746afbca8",
   "metadata": {},
   "source": [
    "### Characters"
   ]
  },
  {
   "cell_type": "code",
   "execution_count": 7,
   "id": "37fa7eed-89ba-4c8f-861b-b28262d2ea5a",
   "metadata": {},
   "outputs": [
    {
     "data": {
      "text/html": [
       "<pre>✔️ 31 ms (2021-12-13T10:47:56/2021-12-13T10:47:56)</pre>"
      ],
      "text/plain": [
       "<IPython.core.display.HTML object>"
      ]
     },
     "metadata": {},
     "output_type": "display_data"
    },
    {
     "name": "stdout",
     "output_type": "stream",
     "text": [
      "103\n"
     ]
    },
    {
     "data": {
      "text/html": [
       "<div>\n",
       "<style scoped>\n",
       "    .dataframe tbody tr th:only-of-type {\n",
       "        vertical-align: middle;\n",
       "    }\n",
       "\n",
       "    .dataframe tbody tr th {\n",
       "        vertical-align: top;\n",
       "    }\n",
       "\n",
       "    .dataframe thead th {\n",
       "        text-align: right;\n",
       "    }\n",
       "</style>\n",
       "<table border=\"1\" class=\"dataframe\">\n",
       "  <thead>\n",
       "    <tr style=\"text-align: right;\">\n",
       "      <th></th>\n",
       "      <th>character</th>\n",
       "      <th>line</th>\n",
       "    </tr>\n",
       "  </thead>\n",
       "  <tbody>\n",
       "    <tr>\n",
       "      <th>0</th>\n",
       "      <td>ADRIAN TOOMES</td>\n",
       "      <td>Adrian Toomes said: Things are never gonna be the same now. I mean, look at this. You got aliens...</td>\n",
       "    </tr>\n",
       "    <tr>\n",
       "      <th>1</th>\n",
       "      <td>ALDRICH KILLIAN</td>\n",
       "      <td>Aldrich Killian said: Mr. Stark! \\nAldrich Killian said: Oh, wow! Hey, Tony! Aldrich Killian. I'...</td>\n",
       "    </tr>\n",
       "    <tr>\n",
       "      <th>2</th>\n",
       "      <td>ALEXANDER PIERCE</td>\n",
       "      <td>Alexander Pierce said: For the record, councilman, he's Algerian. I can draw a map if it'll help...</td>\n",
       "    </tr>\n",
       "    <tr>\n",
       "      <th>3</th>\n",
       "      <td>AUNT MAY</td>\n",
       "      <td>Aunt May said: Mmm. Hey. How was school today? \\nAunt May said: You didn't tell me about the gra...</td>\n",
       "    </tr>\n",
       "    <tr>\n",
       "      <th>4</th>\n",
       "      <td>BETTY BRANT</td>\n",
       "      <td>Betty Brant said: Rise and shine, Midtown Science and Technology. \\nBetty Brant said: Thanks, Ja...</td>\n",
       "    </tr>\n",
       "  </tbody>\n",
       "</table>\n",
       "</div>"
      ],
      "text/plain": [
       "          character  \\\n",
       "0     ADRIAN TOOMES   \n",
       "1   ALDRICH KILLIAN   \n",
       "2  ALEXANDER PIERCE   \n",
       "3          AUNT MAY   \n",
       "4       BETTY BRANT   \n",
       "\n",
       "                                                                                                  line  \n",
       "0  Adrian Toomes said: Things are never gonna be the same now. I mean, look at this. You got aliens...  \n",
       "1  Aldrich Killian said: Mr. Stark! \\nAldrich Killian said: Oh, wow! Hey, Tony! Aldrich Killian. I'...  \n",
       "2  Alexander Pierce said: For the record, councilman, he's Algerian. I can draw a map if it'll help...  \n",
       "3  Aunt May said: Mmm. Hey. How was school today? \\nAunt May said: You didn't tell me about the gra...  \n",
       "4  Betty Brant said: Rise and shine, Midtown Science and Technology. \\nBetty Brant said: Thanks, Ja...  "
      ]
     },
     "execution_count": 7,
     "metadata": {},
     "output_type": "execute_result"
    }
   ],
   "source": [
    "chars = lines.loc[lines['character'].isin(imp_chars)].groupby(['character'])['line'].apply(lambda x: ' \\n'.join(x)).reset_index()\n",
    "print(len(chars))\n",
    "chars.to_csv(path + 'mcu_data_chars.csv')\n",
    "chars.head()"
   ]
  },
  {
   "cell_type": "markdown",
   "id": "d850a4ab-5299-4bc7-bd36-2aeaef8c9a88",
   "metadata": {},
   "source": [
    "### Movies"
   ]
  },
  {
   "cell_type": "code",
   "execution_count": 8,
   "id": "19df58a9-97f0-49b4-a9d7-cc809300ea70",
   "metadata": {},
   "outputs": [
    {
     "data": {
      "text/html": [
       "<pre>✔️ 93 ms (2021-12-13T10:47:56/2021-12-13T10:47:56)</pre>"
      ],
      "text/plain": [
       "<IPython.core.display.HTML object>"
      ]
     },
     "metadata": {},
     "output_type": "display_data"
    },
    {
     "name": "stdout",
     "output_type": "stream",
     "text": [
      "Entries:  23\n"
     ]
    },
    {
     "data": {
      "text/html": [
       "<div>\n",
       "<style scoped>\n",
       "    .dataframe tbody tr th:only-of-type {\n",
       "        vertical-align: middle;\n",
       "    }\n",
       "\n",
       "    .dataframe tbody tr th {\n",
       "        vertical-align: top;\n",
       "    }\n",
       "\n",
       "    .dataframe thead th {\n",
       "        text-align: right;\n",
       "    }\n",
       "</style>\n",
       "<table border=\"1\" class=\"dataframe\">\n",
       "  <thead>\n",
       "    <tr style=\"text-align: right;\">\n",
       "      <th></th>\n",
       "      <th>title</th>\n",
       "      <th>script</th>\n",
       "    </tr>\n",
       "  </thead>\n",
       "  <tbody>\n",
       "    <tr>\n",
       "      <th>0</th>\n",
       "      <td>Ant-Man</td>\n",
       "      <td>The title of this movie is: Ant-Man \\n\\nPrevious transcript:\\n Next transcript:\\n\\n\\n Avengers: ...</td>\n",
       "    </tr>\n",
       "    <tr>\n",
       "      <th>1</th>\n",
       "      <td>Ant-Man and the Wasp</td>\n",
       "      <td>The title of this movie is: Ant-Man and the Wasp \\n\\nThis transcript is not finished!This page d...</td>\n",
       "    </tr>\n",
       "    <tr>\n",
       "      <th>2</th>\n",
       "      <td>The Avengers</td>\n",
       "      <td>The title of this movie is: The Avengers \\n\\nThis transcript isn't tidy!This page's transcript i...</td>\n",
       "    </tr>\n",
       "    <tr>\n",
       "      <th>3</th>\n",
       "      <td>Avengers: Age of Ultron</td>\n",
       "      <td>The title of this movie is: Avengers: Age of Ultron \\n\\nPrevious transcript:\\n Next transcript:\\...</td>\n",
       "    </tr>\n",
       "    <tr>\n",
       "      <th>4</th>\n",
       "      <td>Avengers: Endgame</td>\n",
       "      <td>The title of this movie is: Avengers: Endgame \\n\\nPrevious transcript:\\n Next transcript:\\n\\n\\n ...</td>\n",
       "    </tr>\n",
       "    <tr>\n",
       "      <th>5</th>\n",
       "      <td>Avengers: Infinity War</td>\n",
       "      <td>The title of this movie is: Avengers: Infinity War \\n\\nPrevious transcript:\\n Next transcript:\\n...</td>\n",
       "    </tr>\n",
       "    <tr>\n",
       "      <th>6</th>\n",
       "      <td>Black Panther</td>\n",
       "      <td>The title of this movie is: Black Panther \\n\\nThis transcript isn't tidy!This page's transcript ...</td>\n",
       "    </tr>\n",
       "    <tr>\n",
       "      <th>7</th>\n",
       "      <td>Captain America: Civil War</td>\n",
       "      <td>The title of this movie is: Captain America: Civil War \\n\\nPrevious transcript:\\n Next transcrip...</td>\n",
       "    </tr>\n",
       "    <tr>\n",
       "      <th>8</th>\n",
       "      <td>Captain America: The First Avenger</td>\n",
       "      <td>The title of this movie is: Captain America: The First Avenger \\n\\nPrevious transcript:\\n Next t...</td>\n",
       "    </tr>\n",
       "    <tr>\n",
       "      <th>9</th>\n",
       "      <td>Captain America: The Winter Soldier</td>\n",
       "      <td>The title of this movie is: Captain America: The Winter Soldier \\n\\nPrevious transcript:\\n Next ...</td>\n",
       "    </tr>\n",
       "    <tr>\n",
       "      <th>10</th>\n",
       "      <td>Captain Marvel</td>\n",
       "      <td>The title of this movie is: Captain Marvel \\n\\nPrevious transcript:\\n Next transcript:\\n\\n\\n Ant...</td>\n",
       "    </tr>\n",
       "    <tr>\n",
       "      <th>11</th>\n",
       "      <td>Doctor Strange</td>\n",
       "      <td>The title of this movie is: Doctor Strange \\n\\nThis transcript isn't tidy!This page's transcript...</td>\n",
       "    </tr>\n",
       "    <tr>\n",
       "      <th>12</th>\n",
       "      <td>Guardians of the Galaxy</td>\n",
       "      <td>The title of this movie is: Guardians of the Galaxy \\n\\nPrevious transcript:\\n Next transcript:\\...</td>\n",
       "    </tr>\n",
       "    <tr>\n",
       "      <th>13</th>\n",
       "      <td>Guardians of the Galaxy Vol. 2</td>\n",
       "      <td>The title of this movie is: Guardians of the Galaxy Vol. 2 \\n\\nThis transcript isn't tidy!This p...</td>\n",
       "    </tr>\n",
       "    <tr>\n",
       "      <th>14</th>\n",
       "      <td>Spider-Man: Homecoming</td>\n",
       "      <td>The title of this movie is: Spider-Man: Homecoming \\n\\nPrevious transcript:\\n Next transcript:\\n...</td>\n",
       "    </tr>\n",
       "    <tr>\n",
       "      <th>15</th>\n",
       "      <td>Iron Man</td>\n",
       "      <td>The title of this movie is: Iron Man \\n\\nThis transcript isn't tidy!This page's transcript is in...</td>\n",
       "    </tr>\n",
       "    <tr>\n",
       "      <th>16</th>\n",
       "      <td>Iron Man 2</td>\n",
       "      <td>The title of this movie is: Iron Man 2 \\n\\nPrevious transcript:\\n Next transcript:\\n\\n\\n The Inc...</td>\n",
       "    </tr>\n",
       "    <tr>\n",
       "      <th>17</th>\n",
       "      <td>Iron Man 3</td>\n",
       "      <td>The title of this movie is: Iron Man 3 \\n\\nPrevious transcript:\\n Next transcript:\\n\\n\\n The Ave...</td>\n",
       "    </tr>\n",
       "    <tr>\n",
       "      <th>18</th>\n",
       "      <td>Spider-Man: Far From Home</td>\n",
       "      <td>The title of this movie is: Spider-Man: Far From Home \\n\\nThis transcript is not finished!This p...</td>\n",
       "    </tr>\n",
       "    <tr>\n",
       "      <th>19</th>\n",
       "      <td>The Incredible Hulk</td>\n",
       "      <td>The title of this movie is: The Incredible Hulk \\n\\nPrevious transcript:\\n Next transcript:\\n\\n\\...</td>\n",
       "    </tr>\n",
       "    <tr>\n",
       "      <th>20</th>\n",
       "      <td>Thor</td>\n",
       "      <td>The title of this movie is: Thor \\n\\nPrevious transcript:\\n Next transcript:\\n\\n\\n Iron Man 2\\n ...</td>\n",
       "    </tr>\n",
       "    <tr>\n",
       "      <th>21</th>\n",
       "      <td>Thor: Ragnarok</td>\n",
       "      <td>The title of this movie is: Thor: Ragnarok \\n\\nPrevious transcript:\\n Next transcript:\\n\\n\\n Spi...</td>\n",
       "    </tr>\n",
       "    <tr>\n",
       "      <th>22</th>\n",
       "      <td>Thor: The Dark World</td>\n",
       "      <td>The title of this movie is: Thor: The Dark World \\n\\nPrevious transcript:\\n Next transcript:\\n\\n...</td>\n",
       "    </tr>\n",
       "  </tbody>\n",
       "</table>\n",
       "</div>"
      ],
      "text/plain": [
       "                                  title  \\\n",
       "0                               Ant-Man   \n",
       "1                  Ant-Man and the Wasp   \n",
       "2                          The Avengers   \n",
       "3               Avengers: Age of Ultron   \n",
       "4                     Avengers: Endgame   \n",
       "5                Avengers: Infinity War   \n",
       "6                         Black Panther   \n",
       "7            Captain America: Civil War   \n",
       "8    Captain America: The First Avenger   \n",
       "9   Captain America: The Winter Soldier   \n",
       "10                       Captain Marvel   \n",
       "11                       Doctor Strange   \n",
       "12              Guardians of the Galaxy   \n",
       "13       Guardians of the Galaxy Vol. 2   \n",
       "14               Spider-Man: Homecoming   \n",
       "15                             Iron Man   \n",
       "16                           Iron Man 2   \n",
       "17                           Iron Man 3   \n",
       "18            Spider-Man: Far From Home   \n",
       "19                  The Incredible Hulk   \n",
       "20                                 Thor   \n",
       "21                       Thor: Ragnarok   \n",
       "22                 Thor: The Dark World   \n",
       "\n",
       "                                                                                                 script  \n",
       "0   The title of this movie is: Ant-Man \\n\\nPrevious transcript:\\n Next transcript:\\n\\n\\n Avengers: ...  \n",
       "1   The title of this movie is: Ant-Man and the Wasp \\n\\nThis transcript is not finished!This page d...  \n",
       "2   The title of this movie is: The Avengers \\n\\nThis transcript isn't tidy!This page's transcript i...  \n",
       "3   The title of this movie is: Avengers: Age of Ultron \\n\\nPrevious transcript:\\n Next transcript:\\...  \n",
       "4   The title of this movie is: Avengers: Endgame \\n\\nPrevious transcript:\\n Next transcript:\\n\\n\\n ...  \n",
       "5   The title of this movie is: Avengers: Infinity War \\n\\nPrevious transcript:\\n Next transcript:\\n...  \n",
       "6   The title of this movie is: Black Panther \\n\\nThis transcript isn't tidy!This page's transcript ...  \n",
       "7   The title of this movie is: Captain America: Civil War \\n\\nPrevious transcript:\\n Next transcrip...  \n",
       "8   The title of this movie is: Captain America: The First Avenger \\n\\nPrevious transcript:\\n Next t...  \n",
       "9   The title of this movie is: Captain America: The Winter Soldier \\n\\nPrevious transcript:\\n Next ...  \n",
       "10  The title of this movie is: Captain Marvel \\n\\nPrevious transcript:\\n Next transcript:\\n\\n\\n Ant...  \n",
       "11  The title of this movie is: Doctor Strange \\n\\nThis transcript isn't tidy!This page's transcript...  \n",
       "12  The title of this movie is: Guardians of the Galaxy \\n\\nPrevious transcript:\\n Next transcript:\\...  \n",
       "13  The title of this movie is: Guardians of the Galaxy Vol. 2 \\n\\nThis transcript isn't tidy!This p...  \n",
       "14  The title of this movie is: Spider-Man: Homecoming \\n\\nPrevious transcript:\\n Next transcript:\\n...  \n",
       "15  The title of this movie is: Iron Man \\n\\nThis transcript isn't tidy!This page's transcript is in...  \n",
       "16  The title of this movie is: Iron Man 2 \\n\\nPrevious transcript:\\n Next transcript:\\n\\n\\n The Inc...  \n",
       "17  The title of this movie is: Iron Man 3 \\n\\nPrevious transcript:\\n Next transcript:\\n\\n\\n The Ave...  \n",
       "18  The title of this movie is: Spider-Man: Far From Home \\n\\nThis transcript is not finished!This p...  \n",
       "19  The title of this movie is: The Incredible Hulk \\n\\nPrevious transcript:\\n Next transcript:\\n\\n\\...  \n",
       "20  The title of this movie is: Thor \\n\\nPrevious transcript:\\n Next transcript:\\n\\n\\n Iron Man 2\\n ...  \n",
       "21  The title of this movie is: Thor: Ragnarok \\n\\nPrevious transcript:\\n Next transcript:\\n\\n\\n Spi...  \n",
       "22  The title of this movie is: Thor: The Dark World \\n\\nPrevious transcript:\\n Next transcript:\\n\\n...  "
      ]
     },
     "execution_count": 8,
     "metadata": {},
     "output_type": "execute_result"
    }
   ],
   "source": [
    "movies = pd.read_csv('raw_data/mcu_scipts.csv', index_col=0)\n",
    "print('Entries: ', len(movies))\n",
    "movies.to_csv(path + 'mcu_data_movies.csv')\n",
    "movies['script'] = ['The title of this movie is: {movie} \\n\\n{script}'.format(movie=title, script=script) for title, script in movies[['title', 'script']].values]\n",
    "movies.head(23)"
   ]
  },
  {
   "cell_type": "markdown",
   "id": "440ac98f-c25b-4908-8e1a-e88a76c97601",
   "metadata": {},
   "source": [
    "## Google Universal Sentence Encoder"
   ]
  },
  {
   "cell_type": "code",
   "execution_count": 9,
   "id": "7ed3827c-5e74-4762-8845-6bd445134b47",
   "metadata": {},
   "outputs": [
    {
     "data": {
      "text/html": [
       "<pre>✔️ 2.77 s (2021-12-13T10:47:56/2021-12-13T10:47:59)</pre>"
      ],
      "text/plain": [
       "<IPython.core.display.HTML object>"
      ]
     },
     "metadata": {},
     "output_type": "display_data"
    }
   ],
   "source": [
    "import tensorflow as tf\n",
    "import tensorflow_hub as hub\n",
    "\n",
    "from sklearn.metrics.pairwise import linear_kernel\n",
    "\n",
    "import shutil"
   ]
  },
  {
   "cell_type": "code",
   "execution_count": 10,
   "id": "989e89a8-91d2-438d-95f4-4171dfa55dc4",
   "metadata": {},
   "outputs": [
    {
     "data": {
      "text/html": [
       "<pre>✔️ 37 s (2021-12-13T10:47:59/2021-12-13T10:48:36)</pre>"
      ],
      "text/plain": [
       "<IPython.core.display.HTML object>"
      ]
     },
     "metadata": {},
     "output_type": "display_data"
    }
   ],
   "source": [
    "#Model load through URL path:\n",
    "module_url = \"https://tfhub.dev/google/universal-sentence-encoder/4\"\n",
    "model = hub.load(module_url)\n",
    "\n",
    "#Create function for using model training\n",
    "def embed(input):\n",
    "    return model(input)"
   ]
  },
  {
   "cell_type": "code",
   "execution_count": 11,
   "id": "30d4188b-e132-4124-8546-b333fadb11d0",
   "metadata": {},
   "outputs": [
    {
     "data": {
      "text/html": [
       "<pre>✔️ 0 ns (2021-12-13T10:48:36/2021-12-13T10:48:36)</pre>"
      ],
      "text/plain": [
       "<IPython.core.display.HTML object>"
      ]
     },
     "metadata": {},
     "output_type": "display_data"
    }
   ],
   "source": [
    "def train_model(data, model_name):\n",
    "    \n",
    "    ## Training\n",
    "    Model_USE= embed(data)\n",
    "\n",
    "    ## Save model\n",
    "    exported = tf.train.Checkpoint(v=tf.Variable(Model_USE))\n",
    "    exported.f = tf.function(\n",
    "        lambda  x: exported.v * x,\n",
    "        input_signature=[tf.TensorSpec(shape=None, dtype=tf.float32)])\n",
    "\n",
    "    dirpath = os.getcwd()+'\\\\trained_models\\\\{model_name}'.format(model_name=model_name)\n",
    "    if os.path.exists(dirpath) and os.path.isdir(dirpath):\n",
    "        shutil.rmtree(dirpath)\n",
    "\n",
    "    tf.saved_model.save(exported,dirpath)"
   ]
  },
  {
   "cell_type": "code",
   "execution_count": 12,
   "id": "5946cbaf-1f2b-4682-93dd-9df739b8f359",
   "metadata": {},
   "outputs": [
    {
     "data": {
      "text/html": [
       "<pre>✔️ 6.34 s (2021-12-13T10:48:36/2021-12-13T10:48:43)</pre>"
      ],
      "text/plain": [
       "<IPython.core.display.HTML object>"
      ]
     },
     "metadata": {},
     "output_type": "display_data"
    },
    {
     "name": "stdout",
     "output_type": "stream",
     "text": [
      "INFO:tensorflow:Assets written to: C:\\Users\\ramos\\OneDrive\\Documents\\SyracuseUniversity\\9th_Quarter\\IST736\\mcu_marvel_search_engine\\trained_models\\relevant_lines\\assets\n"
     ]
    },
    {
     "name": "stderr",
     "output_type": "stream",
     "text": [
      "INFO:tensorflow:Assets written to: C:\\Users\\ramos\\OneDrive\\Documents\\SyracuseUniversity\\9th_Quarter\\IST736\\mcu_marvel_search_engine\\trained_models\\relevant_lines\\assets\n"
     ]
    },
    {
     "name": "stdout",
     "output_type": "stream",
     "text": [
      "INFO:tensorflow:Assets written to: C:\\Users\\ramos\\OneDrive\\Documents\\SyracuseUniversity\\9th_Quarter\\IST736\\mcu_marvel_search_engine\\trained_models\\relevant_chars\\assets\n"
     ]
    },
    {
     "name": "stderr",
     "output_type": "stream",
     "text": [
      "INFO:tensorflow:Assets written to: C:\\Users\\ramos\\OneDrive\\Documents\\SyracuseUniversity\\9th_Quarter\\IST736\\mcu_marvel_search_engine\\trained_models\\relevant_chars\\assets\n"
     ]
    },
    {
     "name": "stdout",
     "output_type": "stream",
     "text": [
      "INFO:tensorflow:Assets written to: C:\\Users\\ramos\\OneDrive\\Documents\\SyracuseUniversity\\9th_Quarter\\IST736\\mcu_marvel_search_engine\\trained_models\\relevant_movies\\assets\n"
     ]
    },
    {
     "name": "stderr",
     "output_type": "stream",
     "text": [
      "INFO:tensorflow:Assets written to: C:\\Users\\ramos\\OneDrive\\Documents\\SyracuseUniversity\\9th_Quarter\\IST736\\mcu_marvel_search_engine\\trained_models\\relevant_movies\\assets\n"
     ]
    }
   ],
   "source": [
    "train_model(data=lines['line'], model_name='relevant_lines')\n",
    "\n",
    "train_model(data=chars['line'], model_name='relevant_chars')\n",
    "\n",
    "train_model(data=movies['script'], model_name='relevant_movies')"
   ]
  },
  {
   "cell_type": "markdown",
   "id": "5ac9a5c5-c5b8-4d44-99c4-c7143bb51a83",
   "metadata": {},
   "source": [
    "## Create Search Function"
   ]
  },
  {
   "cell_type": "code",
   "execution_count": 13,
   "id": "4d125d09-cbb1-4af6-b1fa-cb7ddaabc30f",
   "metadata": {},
   "outputs": [
    {
     "data": {
      "text/html": [
       "<pre>✔️ 0 ns (2021-12-13T10:48:43/2021-12-13T10:48:43)</pre>"
      ],
      "text/plain": [
       "<IPython.core.display.HTML object>"
      ]
     },
     "metadata": {},
     "output_type": "display_data"
    }
   ],
   "source": [
    "## Function for Document Search\n",
    "def SearchDocument(query, topn=10):\n",
    "    \n",
    "    ## Create Query\n",
    "    q =[query]\n",
    "    \n",
    "    # embed the query for calcluating the similarity\n",
    "    Q_Train = embed(q)\n",
    "    \n",
    "    ## Load Model\n",
    "    imported_m = tf.saved_model.load(os.getcwd()+'\\\\trained_models\\\\relevant_lines')\n",
    "    loadedmodel = imported_m.v.numpy()\n",
    "    \n",
    "    # Calculate the Similarity\n",
    "    linear_similarities = linear_kernel(Q_Train, loadedmodel).flatten()\n",
    "\n",
    "    #Sort top 10 index with similarity score\n",
    "    Top_index_doc = linear_similarities.argsort()[:-(topn + 1):-1]\n",
    "     \n",
    "    # sort by similarity score\n",
    "    linear_similarities.sort()\n",
    "    a = df.loc[df.index.isin(Top_index_doc)].reset_index(drop=True)\n",
    "    a['Score'] = linear_similarities[:-(topn+1):-1]\n",
    "    \n",
    "    return a.sort_values(['Score'], ascending=False)[['character', 'line', 'movie', 'year', 'Score']]"
   ]
  },
  {
   "cell_type": "code",
   "execution_count": 14,
   "id": "d76dea27-a540-4155-9d55-e326b3feb100",
   "metadata": {},
   "outputs": [
    {
     "data": {
      "text/html": [
       "<pre>✔️ 110 ms (2021-12-13T10:48:43/2021-12-13T10:48:43)</pre>"
      ],
      "text/plain": [
       "<IPython.core.display.HTML object>"
      ]
     },
     "metadata": {},
     "output_type": "display_data"
    },
    {
     "data": {
      "text/html": [
       "<div>\n",
       "<style scoped>\n",
       "    .dataframe tbody tr th:only-of-type {\n",
       "        vertical-align: middle;\n",
       "    }\n",
       "\n",
       "    .dataframe tbody tr th {\n",
       "        vertical-align: top;\n",
       "    }\n",
       "\n",
       "    .dataframe thead th {\n",
       "        text-align: right;\n",
       "    }\n",
       "</style>\n",
       "<table border=\"1\" class=\"dataframe\">\n",
       "  <thead>\n",
       "    <tr style=\"text-align: right;\">\n",
       "      <th></th>\n",
       "      <th>character</th>\n",
       "      <th>line</th>\n",
       "      <th>movie</th>\n",
       "      <th>year</th>\n",
       "      <th>Score</th>\n",
       "    </tr>\n",
       "  </thead>\n",
       "  <tbody>\n",
       "    <tr>\n",
       "      <th>0</th>\n",
       "      <td>ELON MUSK</td>\n",
       "      <td>Yeah.</td>\n",
       "      <td>Iron Man 2</td>\n",
       "      <td>2010</td>\n",
       "      <td>0.296965</td>\n",
       "    </tr>\n",
       "    <tr>\n",
       "      <th>1</th>\n",
       "      <td>HEIMDALL</td>\n",
       "      <td>None do. All is ready. You may pass.</td>\n",
       "      <td>Thor</td>\n",
       "      <td>2011</td>\n",
       "      <td>0.258153</td>\n",
       "    </tr>\n",
       "    <tr>\n",
       "      <th>2</th>\n",
       "      <td>FRIGGA</td>\n",
       "      <td>I would not have exiled him to a world of mortals, stripped of his powers, to suffer alone. I wo...</td>\n",
       "      <td>Thor</td>\n",
       "      <td>2011</td>\n",
       "      <td>0.257656</td>\n",
       "    </tr>\n",
       "    <tr>\n",
       "      <th>3</th>\n",
       "      <td>STEVE ROGERS</td>\n",
       "      <td>Don't hold your breath.</td>\n",
       "      <td>Captain America: The Winter Soldier</td>\n",
       "      <td>2014</td>\n",
       "      <td>0.245847</td>\n",
       "    </tr>\n",
       "    <tr>\n",
       "      <th>4</th>\n",
       "      <td>DOCTOR</td>\n",
       "      <td>Let me take her.</td>\n",
       "      <td>Captain America: The Winter Soldier</td>\n",
       "      <td>2014</td>\n",
       "      <td>0.238613</td>\n",
       "    </tr>\n",
       "    <tr>\n",
       "      <th>5</th>\n",
       "      <td>DAVE</td>\n",
       "      <td>Did you see that?</td>\n",
       "      <td>Ant-Man</td>\n",
       "      <td>2015</td>\n",
       "      <td>0.237854</td>\n",
       "    </tr>\n",
       "    <tr>\n",
       "      <th>6</th>\n",
       "      <td>ULTRON</td>\n",
       "      <td>It can, you can. You lack the materials. You're a brilliant woman, Helen. But we all have room t...</td>\n",
       "      <td>Avengers: Age of Ultron</td>\n",
       "      <td>2015</td>\n",
       "      <td>0.236187</td>\n",
       "    </tr>\n",
       "    <tr>\n",
       "      <th>7</th>\n",
       "      <td>KAREN</td>\n",
       "      <td>With pleasure.</td>\n",
       "      <td>Spider-Man: Homecoming</td>\n",
       "      <td>2017</td>\n",
       "      <td>0.234615</td>\n",
       "    </tr>\n",
       "    <tr>\n",
       "      <th>8</th>\n",
       "      <td>AARON DAVIS</td>\n",
       "      <td>Can I give you some advice?</td>\n",
       "      <td>Spider-Man: Homecoming</td>\n",
       "      <td>2017</td>\n",
       "      <td>0.227712</td>\n",
       "    </tr>\n",
       "    <tr>\n",
       "      <th>9</th>\n",
       "      <td>ULYSSES KLAUE</td>\n",
       "      <td>He's right outside, why don't you ask him yourself?</td>\n",
       "      <td>Black Panther</td>\n",
       "      <td>2018</td>\n",
       "      <td>0.224722</td>\n",
       "    </tr>\n",
       "  </tbody>\n",
       "</table>\n",
       "</div>"
      ],
      "text/plain": [
       "       character  \\\n",
       "0      ELON MUSK   \n",
       "1       HEIMDALL   \n",
       "2         FRIGGA   \n",
       "3   STEVE ROGERS   \n",
       "4         DOCTOR   \n",
       "5           DAVE   \n",
       "6         ULTRON   \n",
       "7          KAREN   \n",
       "8    AARON DAVIS   \n",
       "9  ULYSSES KLAUE   \n",
       "\n",
       "                                                                                                  line  \\\n",
       "0                                                                                                Yeah.   \n",
       "1                                                                 None do. All is ready. You may pass.   \n",
       "2  I would not have exiled him to a world of mortals, stripped of his powers, to suffer alone. I wo...   \n",
       "3                                                                              Don't hold your breath.   \n",
       "4                                                                                     Let me take her.   \n",
       "5                                                                                    Did you see that?   \n",
       "6  It can, you can. You lack the materials. You're a brilliant woman, Helen. But we all have room t...   \n",
       "7                                                                                       With pleasure.   \n",
       "8                                                                          Can I give you some advice?   \n",
       "9                                                  He's right outside, why don't you ask him yourself?   \n",
       "\n",
       "                                 movie  year     Score  \n",
       "0                           Iron Man 2  2010  0.296965  \n",
       "1                                 Thor  2011  0.258153  \n",
       "2                                 Thor  2011  0.257656  \n",
       "3  Captain America: The Winter Soldier  2014  0.245847  \n",
       "4  Captain America: The Winter Soldier  2014  0.238613  \n",
       "5                              Ant-Man  2015  0.237854  \n",
       "6              Avengers: Age of Ultron  2015  0.236187  \n",
       "7               Spider-Man: Homecoming  2017  0.234615  \n",
       "8               Spider-Man: Homecoming  2017  0.227712  \n",
       "9                        Black Panther  2018  0.224722  "
      ]
     },
     "execution_count": 14,
     "metadata": {},
     "output_type": "execute_result"
    }
   ],
   "source": [
    "SearchDocument('character dies')"
   ]
  },
  {
   "cell_type": "code",
   "execution_count": null,
   "id": "1e3af8ab-ef5d-482c-805c-046316452e11",
   "metadata": {},
   "outputs": [],
   "source": []
  },
  {
   "cell_type": "code",
   "execution_count": null,
   "id": "1182e228-4b48-4d3c-bb0a-f1f1b4f0406b",
   "metadata": {},
   "outputs": [],
   "source": []
  },
  {
   "cell_type": "code",
   "execution_count": null,
   "id": "eb0781ab-d221-4ade-9be9-0b8158dfb06c",
   "metadata": {},
   "outputs": [],
   "source": []
  },
  {
   "cell_type": "code",
   "execution_count": null,
   "id": "44e4588f-76d5-4d2e-8e30-ca7292641643",
   "metadata": {},
   "outputs": [],
   "source": []
  },
  {
   "cell_type": "code",
   "execution_count": null,
   "id": "f141f27e-1082-409e-9f70-df9a98a67902",
   "metadata": {},
   "outputs": [],
   "source": []
  }
 ],
 "metadata": {
  "kernelspec": {
   "display_name": "Python 3 (ipykernel)",
   "language": "python",
   "name": "python3"
  },
  "language_info": {
   "codemirror_mode": {
    "name": "ipython",
    "version": 3
   },
   "file_extension": ".py",
   "mimetype": "text/x-python",
   "name": "python",
   "nbconvert_exporter": "python",
   "pygments_lexer": "ipython3",
   "version": "3.9.7"
  }
 },
 "nbformat": 4,
 "nbformat_minor": 5
}

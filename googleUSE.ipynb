{
 "cells": [
  {
   "cell_type": "markdown",
   "id": "a94e61fa-f538-4edf-a9f6-91d2d9524271",
   "metadata": {},
   "source": [
    "# Rank BM 25 Search Engine"
   ]
  },
  {
   "cell_type": "markdown",
   "id": "9040d0fb-624e-452e-8f92-06be856b079d",
   "metadata": {},
   "source": [
    "## Configuration"
   ]
  },
  {
   "cell_type": "code",
   "execution_count": 1,
   "id": "b48d84d4-adeb-442d-989d-511aa4e5a276",
   "metadata": {},
   "outputs": [
    {
     "data": {
      "text/html": [
       "<pre>✔️ 0 ns (2021-12-04T16:29:27/2021-12-04T16:29:27)</pre>"
      ],
      "text/plain": [
       "<IPython.core.display.HTML object>"
      ]
     },
     "metadata": {},
     "output_type": "display_data"
    }
   ],
   "source": [
    "%load_ext autotime"
   ]
  },
  {
   "cell_type": "code",
   "execution_count": 2,
   "id": "6af25b7e-3abc-430e-b8b1-b336b357b5be",
   "metadata": {},
   "outputs": [
    {
     "data": {
      "text/html": [
       "<pre>✔️ 1 s (2021-12-04T16:29:27/2021-12-04T16:29:28)</pre>"
      ],
      "text/plain": [
       "<IPython.core.display.HTML object>"
      ]
     },
     "metadata": {},
     "output_type": "display_data"
    }
   ],
   "source": [
    "from rank_bm25 import *\n",
    "\n",
    "import pandas as pd\n",
    "pd.options.display.max_rows = 999\n",
    "pd.set_option(\"max_colwidth\", 100)\n",
    "import numpy as np\n",
    "\n",
    "import seaborn as sns\n",
    "import matplotlib.pyplot as plt\n",
    "\n",
    "import os"
   ]
  },
  {
   "cell_type": "code",
   "execution_count": 3,
   "id": "f02104b7-61fc-4964-8d6e-4a83b459ebe4",
   "metadata": {},
   "outputs": [
    {
     "data": {
      "text/html": [
       "<pre>✔️ 0 ns (2021-12-04T16:29:28/2021-12-04T16:29:28)</pre>"
      ],
      "text/plain": [
       "<IPython.core.display.HTML object>"
      ]
     },
     "metadata": {},
     "output_type": "display_data"
    },
    {
     "name": "stdout",
     "output_type": "stream",
     "text": [
      "Path:  C:\\Users\\ramos\\OneDrive\\Documents\\SyracuseUniversity\\9th_Quarter\\IST736\\mcu_marvel_search_engine\\clean_data\\\n"
     ]
    }
   ],
   "source": [
    "path = os.getcwd()+'\\\\clean_data\\\\'\n",
    "print('Path: ', path)"
   ]
  },
  {
   "cell_type": "markdown",
   "id": "2a233f79-9cce-4e00-bdf5-8daf893a60ff",
   "metadata": {},
   "source": [
    "## Analysis"
   ]
  },
  {
   "cell_type": "markdown",
   "id": "ab561196-0f01-4ee6-bf9b-3c323215a8eb",
   "metadata": {},
   "source": [
    "### About the Data"
   ]
  },
  {
   "cell_type": "code",
   "execution_count": 4,
   "id": "e046f976-dd73-4254-8c29-6301108aeb88",
   "metadata": {},
   "outputs": [
    {
     "data": {
      "text/html": [
       "<pre>✔️ 31 ms (2021-12-04T16:29:29/2021-12-04T16:29:29)</pre>"
      ],
      "text/plain": [
       "<IPython.core.display.HTML object>"
      ]
     },
     "metadata": {},
     "output_type": "display_data"
    },
    {
     "name": "stdout",
     "output_type": "stream",
     "text": [
      "Entries:  19205\n"
     ]
    },
    {
     "data": {
      "text/html": [
       "<div>\n",
       "<style scoped>\n",
       "    .dataframe tbody tr th:only-of-type {\n",
       "        vertical-align: middle;\n",
       "    }\n",
       "\n",
       "    .dataframe tbody tr th {\n",
       "        vertical-align: top;\n",
       "    }\n",
       "\n",
       "    .dataframe thead th {\n",
       "        text-align: right;\n",
       "    }\n",
       "</style>\n",
       "<table border=\"1\" class=\"dataframe\">\n",
       "  <thead>\n",
       "    <tr style=\"text-align: right;\">\n",
       "      <th></th>\n",
       "      <th>character</th>\n",
       "      <th>line</th>\n",
       "      <th>movie</th>\n",
       "      <th>year</th>\n",
       "    </tr>\n",
       "  </thead>\n",
       "  <tbody>\n",
       "    <tr>\n",
       "      <th>0</th>\n",
       "      <td>TONY STARK</td>\n",
       "      <td>Oh, I get it.  You guys aren’t allowed to talk.  Is that it?  Are you not allowed to talk?</td>\n",
       "      <td>Iron Man</td>\n",
       "      <td>2008</td>\n",
       "    </tr>\n",
       "    <tr>\n",
       "      <th>1</th>\n",
       "      <td>IRON MAN JIMMY</td>\n",
       "      <td>No.  We’re allowed to talk.</td>\n",
       "      <td>Iron Man</td>\n",
       "      <td>2008</td>\n",
       "    </tr>\n",
       "    <tr>\n",
       "      <th>2</th>\n",
       "      <td>TONY STARK</td>\n",
       "      <td>Oh.  I see.  So it’s personal.</td>\n",
       "      <td>Iron Man</td>\n",
       "      <td>2008</td>\n",
       "    </tr>\n",
       "    <tr>\n",
       "      <th>3</th>\n",
       "      <td>RAMIREZ</td>\n",
       "      <td>I think they’re intimidated.</td>\n",
       "      <td>Iron Man</td>\n",
       "      <td>2008</td>\n",
       "    </tr>\n",
       "    <tr>\n",
       "      <th>4</th>\n",
       "      <td>TONY STARK</td>\n",
       "      <td>Good God, you’re a woman. I, honestly, I couldn’t have called that. I would apologize, but isn’t...</td>\n",
       "      <td>Iron Man</td>\n",
       "      <td>2008</td>\n",
       "    </tr>\n",
       "  </tbody>\n",
       "</table>\n",
       "</div>"
      ],
      "text/plain": [
       "        character  \\\n",
       "0      TONY STARK   \n",
       "1  IRON MAN JIMMY   \n",
       "2      TONY STARK   \n",
       "3         RAMIREZ   \n",
       "4      TONY STARK   \n",
       "\n",
       "                                                                                                  line  \\\n",
       "0           Oh, I get it.  You guys aren’t allowed to talk.  Is that it?  Are you not allowed to talk?   \n",
       "1                                                                          No.  We’re allowed to talk.   \n",
       "2                                                                       Oh.  I see.  So it’s personal.   \n",
       "3                                                                         I think they’re intimidated.   \n",
       "4  Good God, you’re a woman. I, honestly, I couldn’t have called that. I would apologize, but isn’t...   \n",
       "\n",
       "      movie  year  \n",
       "0  Iron Man  2008  \n",
       "1  Iron Man  2008  \n",
       "2  Iron Man  2008  \n",
       "3  Iron Man  2008  \n",
       "4  Iron Man  2008  "
      ]
     },
     "execution_count": 4,
     "metadata": {},
     "output_type": "execute_result"
    }
   ],
   "source": [
    "df = pd.read_csv(path + 'mcu_data_clean_all.csv', index_col=0).reset_index(drop=True)[['character', 'line', 'movie', 'year']]\n",
    "print('Entries: ', len(df))\n",
    "df.head()"
   ]
  },
  {
   "cell_type": "markdown",
   "id": "bb74ae11-7b26-499f-8d59-50b23deb0562",
   "metadata": {},
   "source": [
    "#### Get Important Characters Only"
   ]
  },
  {
   "cell_type": "code",
   "execution_count": 5,
   "id": "45ab4660-aab8-40a3-81f4-db77aacf397a",
   "metadata": {},
   "outputs": [
    {
     "data": {
      "text/html": [
       "<pre>✔️ 0 ns (2021-12-04T16:29:29/2021-12-04T16:29:29)</pre>"
      ],
      "text/plain": [
       "<IPython.core.display.HTML object>"
      ]
     },
     "metadata": {},
     "output_type": "display_data"
    }
   ],
   "source": [
    "char_line = np.unique(df['character'].values, return_counts=True)\n",
    "char_line = pd.DataFrame(zip(char_line[0], char_line[1]), columns=['character', 'line_count'])\n",
    "imp_chars = char_line.loc[char_line['line_count']>30]['character'].unique()"
   ]
  },
  {
   "cell_type": "code",
   "execution_count": 6,
   "id": "7aebbe11-a5f4-43ea-870c-5bd981c6dd3c",
   "metadata": {},
   "outputs": [
    {
     "data": {
      "text/html": [
       "<pre>✔️ 0 ns (2021-12-04T16:29:29/2021-12-04T16:29:29)</pre>"
      ],
      "text/plain": [
       "<IPython.core.display.HTML object>"
      ]
     },
     "metadata": {},
     "output_type": "display_data"
    }
   ],
   "source": [
    "df = df.loc[df['character'].isin(imp_chars)].reset_index(drop=True)"
   ]
  },
  {
   "cell_type": "code",
   "execution_count": 7,
   "id": "99d70d7a-2a51-4fb2-b89c-dbb3dcf60eb1",
   "metadata": {},
   "outputs": [
    {
     "data": {
      "text/html": [
       "<pre>✔️ 47 ms (2021-12-04T16:29:29/2021-12-04T16:29:29)</pre>"
      ],
      "text/plain": [
       "<IPython.core.display.HTML object>"
      ]
     },
     "metadata": {},
     "output_type": "display_data"
    }
   ],
   "source": [
    "df.to_csv(path + 'mcu_data_important_chars.csv')"
   ]
  },
  {
   "cell_type": "markdown",
   "id": "440ac98f-c25b-4908-8e1a-e88a76c97601",
   "metadata": {},
   "source": [
    "#### Google Universal Sentence Encoder"
   ]
  },
  {
   "cell_type": "code",
   "execution_count": 8,
   "id": "7ed3827c-5e74-4762-8845-6bd445134b47",
   "metadata": {},
   "outputs": [
    {
     "data": {
      "text/html": [
       "<pre>✔️ 2.7 s (2021-12-04T16:29:29/2021-12-04T16:29:32)</pre>"
      ],
      "text/plain": [
       "<IPython.core.display.HTML object>"
      ]
     },
     "metadata": {},
     "output_type": "display_data"
    }
   ],
   "source": [
    "import tensorflow as tf\n",
    "import tensorflow_hub as hub\n",
    "\n",
    "from sklearn.metrics.pairwise import linear_kernel"
   ]
  },
  {
   "cell_type": "code",
   "execution_count": 9,
   "id": "989e89a8-91d2-438d-95f4-4171dfa55dc4",
   "metadata": {},
   "outputs": [
    {
     "data": {
      "text/html": [
       "<pre>✔️ 8.14 s (2021-12-04T16:29:32/2021-12-04T16:29:40)</pre>"
      ],
      "text/plain": [
       "<IPython.core.display.HTML object>"
      ]
     },
     "metadata": {},
     "output_type": "display_data"
    }
   ],
   "source": [
    "#Model load through URL path:\n",
    "module_url = \"https://tfhub.dev/google/universal-sentence-encoder/4\"\n",
    "model = hub.load(module_url)\n",
    "\n",
    "#Create function for using model training\n",
    "def embed(input):\n",
    "    return model(input)"
   ]
  },
  {
   "cell_type": "code",
   "execution_count": 10,
   "id": "5f927aa0-e723-4c86-b4ba-1fbb6608f25e",
   "metadata": {},
   "outputs": [
    {
     "data": {
      "text/html": [
       "<pre>✔️ 3.25 s (2021-12-04T16:29:40/2021-12-04T16:29:44)</pre>"
      ],
      "text/plain": [
       "<IPython.core.display.HTML object>"
      ]
     },
     "metadata": {},
     "output_type": "display_data"
    },
    {
     "name": "stdout",
     "output_type": "stream",
     "text": [
      "INFO:tensorflow:Assets written to: C:\\Users\\ramos\\OneDrive\\Documents\\SyracuseUniversity\\9th_Quarter\\IST736\\mcu_marvel_search_engine\\pretrained_model\\assets\n"
     ]
    },
    {
     "name": "stderr",
     "output_type": "stream",
     "text": [
      "INFO:tensorflow:Assets written to: C:\\Users\\ramos\\OneDrive\\Documents\\SyracuseUniversity\\9th_Quarter\\IST736\\mcu_marvel_search_engine\\pretrained_model\\assets\n"
     ]
    }
   ],
   "source": [
    "import shutil\n",
    "\n",
    "## Training\n",
    "Model_USE= embed(df.line)\n",
    "\n",
    "## Save model\n",
    "exported = tf.train.Checkpoint(v=tf.Variable(Model_USE))\n",
    "exported.f = tf.function(\n",
    "    lambda  x: exported.v * x,\n",
    "    input_signature=[tf.TensorSpec(shape=None, dtype=tf.float32)])\n",
    "\n",
    "dirpath = os.getcwd()+'\\\\pretrained_model\\\\'\n",
    "if os.path.exists(dirpath) and os.path.isdir(dirpath):\n",
    "    shutil.rmtree(dirpath)\n",
    "    \n",
    "tf.saved_model.save(exported,dirpath)"
   ]
  },
  {
   "cell_type": "code",
   "execution_count": 11,
   "id": "4d125d09-cbb1-4af6-b1fa-cb7ddaabc30f",
   "metadata": {},
   "outputs": [
    {
     "data": {
      "text/html": [
       "<pre>✔️ 0 ns (2021-12-04T16:29:44/2021-12-04T16:29:44)</pre>"
      ],
      "text/plain": [
       "<IPython.core.display.HTML object>"
      ]
     },
     "metadata": {},
     "output_type": "display_data"
    }
   ],
   "source": [
    "## Function for Document Search\n",
    "def SearchDocument(query, topn=10):\n",
    "    \n",
    "    ## Create Query\n",
    "    q =[query]\n",
    "    \n",
    "    # embed the query for calcluating the similarity\n",
    "    Q_Train = embed(q)\n",
    "    \n",
    "    ## Load Model\n",
    "    imported_m = tf.saved_model.load(os.getcwd()+'\\\\pretrained_model\\\\')\n",
    "    loadedmodel = imported_m.v.numpy()\n",
    "    \n",
    "    # Calculate the Similarity\n",
    "    linear_similarities = linear_kernel(Q_Train, loadedmodel).flatten()\n",
    "\n",
    "    #Sort top 10 index with similarity score\n",
    "    Top_index_doc = linear_similarities.argsort()[:-(topn + 1):-1]\n",
    "     \n",
    "    # sort by similarity score\n",
    "    linear_similarities.sort()\n",
    "    a = df.loc[df.index.isin(Top_index_doc)].reset_index(drop=True)\n",
    "    a['Score'] = linear_similarities[:-(topn+1):-1]\n",
    "    \n",
    "    return a.sort_values(['Score'], ascending=False)[['character', 'line', 'movie', 'year', 'Score']]"
   ]
  },
  {
   "cell_type": "code",
   "execution_count": 12,
   "id": "d76dea27-a540-4155-9d55-e326b3feb100",
   "metadata": {},
   "outputs": [
    {
     "data": {
      "text/html": [
       "<pre>✔️ 109 ms (2021-12-04T16:29:44/2021-12-04T16:29:44)</pre>"
      ],
      "text/plain": [
       "<IPython.core.display.HTML object>"
      ]
     },
     "metadata": {},
     "output_type": "display_data"
    },
    {
     "data": {
      "text/html": [
       "<div>\n",
       "<style scoped>\n",
       "    .dataframe tbody tr th:only-of-type {\n",
       "        vertical-align: middle;\n",
       "    }\n",
       "\n",
       "    .dataframe tbody tr th {\n",
       "        vertical-align: top;\n",
       "    }\n",
       "\n",
       "    .dataframe thead th {\n",
       "        text-align: right;\n",
       "    }\n",
       "</style>\n",
       "<table border=\"1\" class=\"dataframe\">\n",
       "  <thead>\n",
       "    <tr style=\"text-align: right;\">\n",
       "      <th></th>\n",
       "      <th>character</th>\n",
       "      <th>line</th>\n",
       "      <th>movie</th>\n",
       "      <th>year</th>\n",
       "      <th>Score</th>\n",
       "    </tr>\n",
       "  </thead>\n",
       "  <tbody>\n",
       "    <tr>\n",
       "      <th>0</th>\n",
       "      <td>JAMES RHODES</td>\n",
       "      <td>Vanko’s alive?</td>\n",
       "      <td>Iron Man 2</td>\n",
       "      <td>2010</td>\n",
       "      <td>0.414177</td>\n",
       "    </tr>\n",
       "    <tr>\n",
       "      <th>1</th>\n",
       "      <td>STEVE ROGERS</td>\n",
       "      <td>You lose someone?</td>\n",
       "      <td>Captain America: The Winter Soldier</td>\n",
       "      <td>2014</td>\n",
       "      <td>0.382143</td>\n",
       "    </tr>\n",
       "    <tr>\n",
       "      <th>2</th>\n",
       "      <td>GAMORA</td>\n",
       "      <td>Everything will die.</td>\n",
       "      <td>Guardians of the Galaxy</td>\n",
       "      <td>2014</td>\n",
       "      <td>0.381484</td>\n",
       "    </tr>\n",
       "    <tr>\n",
       "      <th>3</th>\n",
       "      <td>STEVE ROGERS</td>\n",
       "      <td>Fatalities?</td>\n",
       "      <td>Avengers: Age of Ultron</td>\n",
       "      <td>2015</td>\n",
       "      <td>0.372609</td>\n",
       "    </tr>\n",
       "    <tr>\n",
       "      <th>4</th>\n",
       "      <td>DOCTOR STRANGE</td>\n",
       "      <td>Bye-bye.</td>\n",
       "      <td>Thor: Ragnarok</td>\n",
       "      <td>2017</td>\n",
       "      <td>0.356258</td>\n",
       "    </tr>\n",
       "    <tr>\n",
       "      <th>5</th>\n",
       "      <td>THOR</td>\n",
       "      <td>Both dead.</td>\n",
       "      <td>Avengers: Infinity War</td>\n",
       "      <td>2018</td>\n",
       "      <td>0.355951</td>\n",
       "    </tr>\n",
       "    <tr>\n",
       "      <th>6</th>\n",
       "      <td>DRAX</td>\n",
       "      <td>Die, blanket of death!</td>\n",
       "      <td>Avengers: Infinity War</td>\n",
       "      <td>2018</td>\n",
       "      <td>0.354970</td>\n",
       "    </tr>\n",
       "    <tr>\n",
       "      <th>7</th>\n",
       "      <td>T'CHALLA</td>\n",
       "      <td>Murderer!</td>\n",
       "      <td>Black Panther</td>\n",
       "      <td>2018</td>\n",
       "      <td>0.350028</td>\n",
       "    </tr>\n",
       "    <tr>\n",
       "      <th>8</th>\n",
       "      <td>ROCKET</td>\n",
       "      <td>Something died in here.</td>\n",
       "      <td>Avengers: Endgame</td>\n",
       "      <td>2019</td>\n",
       "      <td>0.347618</td>\n",
       "    </tr>\n",
       "    <tr>\n",
       "      <th>9</th>\n",
       "      <td>THOR</td>\n",
       "      <td>Noobmaster again?</td>\n",
       "      <td>Avengers: Endgame</td>\n",
       "      <td>2019</td>\n",
       "      <td>0.347357</td>\n",
       "    </tr>\n",
       "  </tbody>\n",
       "</table>\n",
       "</div>"
      ],
      "text/plain": [
       "        character                     line  \\\n",
       "0    JAMES RHODES           Vanko’s alive?   \n",
       "1    STEVE ROGERS        You lose someone?   \n",
       "2          GAMORA     Everything will die.   \n",
       "3    STEVE ROGERS              Fatalities?   \n",
       "4  DOCTOR STRANGE                 Bye-bye.   \n",
       "5            THOR               Both dead.   \n",
       "6            DRAX   Die, blanket of death!   \n",
       "7        T'CHALLA                Murderer!   \n",
       "8          ROCKET  Something died in here.   \n",
       "9            THOR        Noobmaster again?   \n",
       "\n",
       "                                 movie  year     Score  \n",
       "0                           Iron Man 2  2010  0.414177  \n",
       "1  Captain America: The Winter Soldier  2014  0.382143  \n",
       "2              Guardians of the Galaxy  2014  0.381484  \n",
       "3              Avengers: Age of Ultron  2015  0.372609  \n",
       "4                       Thor: Ragnarok  2017  0.356258  \n",
       "5               Avengers: Infinity War  2018  0.355951  \n",
       "6               Avengers: Infinity War  2018  0.354970  \n",
       "7                        Black Panther  2018  0.350028  \n",
       "8                    Avengers: Endgame  2019  0.347618  \n",
       "9                    Avengers: Endgame  2019  0.347357  "
      ]
     },
     "execution_count": 12,
     "metadata": {},
     "output_type": "execute_result"
    }
   ],
   "source": [
    "SearchDocument('character dies')"
   ]
  },
  {
   "cell_type": "code",
   "execution_count": 13,
   "id": "c93e46cb-699f-4a84-9f47-3c1b6bdeb0fe",
   "metadata": {},
   "outputs": [
    {
     "data": {
      "text/html": [
       "<pre>✔️ 94 ms (2021-12-04T16:29:44/2021-12-04T16:29:44)</pre>"
      ],
      "text/plain": [
       "<IPython.core.display.HTML object>"
      ]
     },
     "metadata": {},
     "output_type": "display_data"
    },
    {
     "data": {
      "text/html": [
       "<div>\n",
       "<style scoped>\n",
       "    .dataframe tbody tr th:only-of-type {\n",
       "        vertical-align: middle;\n",
       "    }\n",
       "\n",
       "    .dataframe tbody tr th {\n",
       "        vertical-align: top;\n",
       "    }\n",
       "\n",
       "    .dataframe thead th {\n",
       "        text-align: right;\n",
       "    }\n",
       "</style>\n",
       "<table border=\"1\" class=\"dataframe\">\n",
       "  <thead>\n",
       "    <tr style=\"text-align: right;\">\n",
       "      <th></th>\n",
       "      <th>character</th>\n",
       "      <th>line</th>\n",
       "      <th>movie</th>\n",
       "      <th>year</th>\n",
       "      <th>Score</th>\n",
       "    </tr>\n",
       "  </thead>\n",
       "  <tbody>\n",
       "    <tr>\n",
       "      <th>0</th>\n",
       "      <td>PETER QUILL</td>\n",
       "      <td>Thanos?</td>\n",
       "      <td>Guardians of the Galaxy</td>\n",
       "      <td>2014</td>\n",
       "      <td>1.000000</td>\n",
       "    </tr>\n",
       "    <tr>\n",
       "      <th>1</th>\n",
       "      <td>PETER QUILL</td>\n",
       "      <td>Drax!</td>\n",
       "      <td>Guardians of the Galaxy</td>\n",
       "      <td>2014</td>\n",
       "      <td>1.000000</td>\n",
       "    </tr>\n",
       "    <tr>\n",
       "      <th>2</th>\n",
       "      <td>PETER QUILL</td>\n",
       "      <td>Yondu.</td>\n",
       "      <td>Guardians of the Galaxy</td>\n",
       "      <td>2014</td>\n",
       "      <td>1.000000</td>\n",
       "    </tr>\n",
       "    <tr>\n",
       "      <th>3</th>\n",
       "      <td>DRAX</td>\n",
       "      <td>Yes. Of course, Ronan was only a puppet. It's really Thanos I need to kill.</td>\n",
       "      <td>Guardians of the Galaxy</td>\n",
       "      <td>2014</td>\n",
       "      <td>0.827228</td>\n",
       "    </tr>\n",
       "    <tr>\n",
       "      <th>4</th>\n",
       "      <td>PETER QUILL</td>\n",
       "      <td>YONDU?</td>\n",
       "      <td>Guardians of the Galaxy Vol. 2</td>\n",
       "      <td>2017</td>\n",
       "      <td>0.813733</td>\n",
       "    </tr>\n",
       "    <tr>\n",
       "      <th>5</th>\n",
       "      <td>PETER QUILL</td>\n",
       "      <td>Gamora!!</td>\n",
       "      <td>Guardians of the Galaxy Vol. 2</td>\n",
       "      <td>2017</td>\n",
       "      <td>0.779539</td>\n",
       "    </tr>\n",
       "    <tr>\n",
       "      <th>6</th>\n",
       "      <td>NEBULA</td>\n",
       "      <td>I’ll help them by killing Thanos.</td>\n",
       "      <td>Guardians of the Galaxy Vol. 2</td>\n",
       "      <td>2017</td>\n",
       "      <td>0.748195</td>\n",
       "    </tr>\n",
       "    <tr>\n",
       "      <th>7</th>\n",
       "      <td>PETER QUILL</td>\n",
       "      <td>Yondu.</td>\n",
       "      <td>Guardians of the Galaxy Vol. 2</td>\n",
       "      <td>2017</td>\n",
       "      <td>0.743052</td>\n",
       "    </tr>\n",
       "    <tr>\n",
       "      <th>8</th>\n",
       "      <td>BRUCE BANNER</td>\n",
       "      <td>Thanos is coming. He's coming...</td>\n",
       "      <td>Avengers: Infinity War</td>\n",
       "      <td>2018</td>\n",
       "      <td>0.740423</td>\n",
       "    </tr>\n",
       "    <tr>\n",
       "      <th>9</th>\n",
       "      <td>THOR</td>\n",
       "      <td>You seem to know a great deal about Thanos.</td>\n",
       "      <td>Avengers: Infinity War</td>\n",
       "      <td>2018</td>\n",
       "      <td>0.735027</td>\n",
       "    </tr>\n",
       "    <tr>\n",
       "      <th>10</th>\n",
       "      <td>DRAX</td>\n",
       "      <td>Gamora... is the daughter of Thanos.</td>\n",
       "      <td>Avengers: Infinity War</td>\n",
       "      <td>2018</td>\n",
       "      <td>0.734338</td>\n",
       "    </tr>\n",
       "    <tr>\n",
       "      <th>11</th>\n",
       "      <td>THOR</td>\n",
       "      <td>The Thanos killing kind.</td>\n",
       "      <td>Avengers: Infinity War</td>\n",
       "      <td>2018</td>\n",
       "      <td>0.733204</td>\n",
       "    </tr>\n",
       "    <tr>\n",
       "      <th>12</th>\n",
       "      <td>PETER QUILL</td>\n",
       "      <td>For the record… I know that you're only going with him because it's where Thanos isn't.</td>\n",
       "      <td>Avengers: Infinity War</td>\n",
       "      <td>2018</td>\n",
       "      <td>0.726994</td>\n",
       "    </tr>\n",
       "    <tr>\n",
       "      <th>13</th>\n",
       "      <td>DRAX</td>\n",
       "      <td>Thanos!</td>\n",
       "      <td>Avengers: Infinity War</td>\n",
       "      <td>2018</td>\n",
       "      <td>0.690775</td>\n",
       "    </tr>\n",
       "    <tr>\n",
       "      <th>14</th>\n",
       "      <td>BRUCE BANNER</td>\n",
       "      <td>There's an Ant-Man and a Spider-Man? Okay, look… Thanos has the biggest army in the universe. An...</td>\n",
       "      <td>Avengers: Infinity War</td>\n",
       "      <td>2018</td>\n",
       "      <td>0.687121</td>\n",
       "    </tr>\n",
       "    <tr>\n",
       "      <th>15</th>\n",
       "      <td>ROCKET</td>\n",
       "      <td>Yeah, but this Thanos we're talking about... he's the toughest there is.</td>\n",
       "      <td>Avengers: Infinity War</td>\n",
       "      <td>2018</td>\n",
       "      <td>0.687074</td>\n",
       "    </tr>\n",
       "    <tr>\n",
       "      <th>16</th>\n",
       "      <td>ROCKET</td>\n",
       "      <td>You said Thanos had a gauntlet, right?</td>\n",
       "      <td>Avengers: Infinity War</td>\n",
       "      <td>2018</td>\n",
       "      <td>0.686150</td>\n",
       "    </tr>\n",
       "    <tr>\n",
       "      <th>17</th>\n",
       "      <td>DRAX</td>\n",
       "      <td>THANOS!!!!</td>\n",
       "      <td>Avengers: Infinity War</td>\n",
       "      <td>2018</td>\n",
       "      <td>0.686150</td>\n",
       "    </tr>\n",
       "    <tr>\n",
       "      <th>18</th>\n",
       "      <td>PETER PARKER</td>\n",
       "      <td>So, you're not with Thanos?</td>\n",
       "      <td>Avengers: Infinity War</td>\n",
       "      <td>2018</td>\n",
       "      <td>0.686150</td>\n",
       "    </tr>\n",
       "    <tr>\n",
       "      <th>19</th>\n",
       "      <td>PETER QUILL</td>\n",
       "      <td>With Thanos?! No, I'm here to kill Thanos! He took my girl- Wai- who are you?</td>\n",
       "      <td>Avengers: Infinity War</td>\n",
       "      <td>2018</td>\n",
       "      <td>0.681241</td>\n",
       "    </tr>\n",
       "    <tr>\n",
       "      <th>20</th>\n",
       "      <td>RED SKULL</td>\n",
       "      <td>Welcome, Thanos, son of A'lars. Gamora, daughter of Thanos.</td>\n",
       "      <td>Avengers: Infinity War</td>\n",
       "      <td>2018</td>\n",
       "      <td>0.675892</td>\n",
       "    </tr>\n",
       "    <tr>\n",
       "      <th>21</th>\n",
       "      <td>T'CHALLA</td>\n",
       "      <td>You are in Wakanda now. Thanos will have nothing but dust and blood.</td>\n",
       "      <td>Avengers: Infinity War</td>\n",
       "      <td>2018</td>\n",
       "      <td>0.675892</td>\n",
       "    </tr>\n",
       "    <tr>\n",
       "      <th>22</th>\n",
       "      <td>THOR</td>\n",
       "      <td>BRING ME THANOS!</td>\n",
       "      <td>Avengers: Infinity War</td>\n",
       "      <td>2018</td>\n",
       "      <td>0.674130</td>\n",
       "    </tr>\n",
       "    <tr>\n",
       "      <th>23</th>\n",
       "      <td>DOCTOR STRANGE</td>\n",
       "      <td>Oh, yeah, you're much more of a \"Thanos.\"</td>\n",
       "      <td>Avengers: Infinity War</td>\n",
       "      <td>2018</td>\n",
       "      <td>0.673123</td>\n",
       "    </tr>\n",
       "    <tr>\n",
       "      <th>24</th>\n",
       "      <td>NEBULA</td>\n",
       "      <td>Gamora.</td>\n",
       "      <td>Avengers: Infinity War</td>\n",
       "      <td>2018</td>\n",
       "      <td>0.649144</td>\n",
       "    </tr>\n",
       "    <tr>\n",
       "      <th>25</th>\n",
       "      <td>CAROL DANVERS</td>\n",
       "      <td>To kill Thanos.</td>\n",
       "      <td>Avengers: Endgame</td>\n",
       "      <td>2019</td>\n",
       "      <td>0.645763</td>\n",
       "    </tr>\n",
       "    <tr>\n",
       "      <th>26</th>\n",
       "      <td>BRUCE BANNER</td>\n",
       "      <td>Like Thanos.</td>\n",
       "      <td>Avengers: Endgame</td>\n",
       "      <td>2019</td>\n",
       "      <td>0.641115</td>\n",
       "    </tr>\n",
       "    <tr>\n",
       "      <th>27</th>\n",
       "      <td>NEBULA</td>\n",
       "      <td>Thanos found the Soul Stone on Vormir.</td>\n",
       "      <td>Avengers: Endgame</td>\n",
       "      <td>2019</td>\n",
       "      <td>0.640695</td>\n",
       "    </tr>\n",
       "    <tr>\n",
       "      <th>28</th>\n",
       "      <td>BRUCE BANNER</td>\n",
       "      <td>Strange gave Thanos the Time Stone.</td>\n",
       "      <td>Avengers: Endgame</td>\n",
       "      <td>2019</td>\n",
       "      <td>0.637928</td>\n",
       "    </tr>\n",
       "    <tr>\n",
       "      <th>29</th>\n",
       "      <td>NEBULA</td>\n",
       "      <td>He knows... Barton, Romanoff, come in.  We have a problem.  Thanos knows!  Thanos-</td>\n",
       "      <td>Avengers: Endgame</td>\n",
       "      <td>2019</td>\n",
       "      <td>0.636279</td>\n",
       "    </tr>\n",
       "  </tbody>\n",
       "</table>\n",
       "</div>"
      ],
      "text/plain": [
       "         character  \\\n",
       "0      PETER QUILL   \n",
       "1      PETER QUILL   \n",
       "2      PETER QUILL   \n",
       "3             DRAX   \n",
       "4      PETER QUILL   \n",
       "5      PETER QUILL   \n",
       "6           NEBULA   \n",
       "7      PETER QUILL   \n",
       "8     BRUCE BANNER   \n",
       "9             THOR   \n",
       "10            DRAX   \n",
       "11            THOR   \n",
       "12     PETER QUILL   \n",
       "13            DRAX   \n",
       "14    BRUCE BANNER   \n",
       "15          ROCKET   \n",
       "16          ROCKET   \n",
       "17            DRAX   \n",
       "18    PETER PARKER   \n",
       "19     PETER QUILL   \n",
       "20       RED SKULL   \n",
       "21        T'CHALLA   \n",
       "22            THOR   \n",
       "23  DOCTOR STRANGE   \n",
       "24          NEBULA   \n",
       "25   CAROL DANVERS   \n",
       "26    BRUCE BANNER   \n",
       "27          NEBULA   \n",
       "28    BRUCE BANNER   \n",
       "29          NEBULA   \n",
       "\n",
       "                                                                                                   line  \\\n",
       "0                                                                                               Thanos?   \n",
       "1                                                                                                 Drax!   \n",
       "2                                                                                               Yondu.    \n",
       "3                          Yes. Of course, Ronan was only a puppet. It's really Thanos I need to kill.    \n",
       "4                                                                                                YONDU?   \n",
       "5                                                                                              Gamora!!   \n",
       "6                                                                     I’ll help them by killing Thanos.   \n",
       "7                                                                                                Yondu.   \n",
       "8                                                                      Thanos is coming. He's coming...   \n",
       "9                                                           You seem to know a great deal about Thanos.   \n",
       "10                                                                 Gamora... is the daughter of Thanos.   \n",
       "11                                                                             The Thanos killing kind.   \n",
       "12              For the record… I know that you're only going with him because it's where Thanos isn't.   \n",
       "13                                                                                              Thanos!   \n",
       "14  There's an Ant-Man and a Spider-Man? Okay, look… Thanos has the biggest army in the universe. An...   \n",
       "15                             Yeah, but this Thanos we're talking about... he's the toughest there is.   \n",
       "16                                                               You said Thanos had a gauntlet, right?   \n",
       "17                                                                                           THANOS!!!!   \n",
       "18                                                                          So, you're not with Thanos?   \n",
       "19                        With Thanos?! No, I'm here to kill Thanos! He took my girl- Wai- who are you?   \n",
       "20                                          Welcome, Thanos, son of A'lars. Gamora, daughter of Thanos.   \n",
       "21                                 You are in Wakanda now. Thanos will have nothing but dust and blood.   \n",
       "22                                                                                     BRING ME THANOS!   \n",
       "23                                                            Oh, yeah, you're much more of a \"Thanos.\"   \n",
       "24                                                                                              Gamora.   \n",
       "25                                                                                      To kill Thanos.   \n",
       "26                                                                                         Like Thanos.   \n",
       "27                                                               Thanos found the Soul Stone on Vormir.   \n",
       "28                                                                  Strange gave Thanos the Time Stone.   \n",
       "29                   He knows... Barton, Romanoff, come in.  We have a problem.  Thanos knows!  Thanos-   \n",
       "\n",
       "                             movie  year     Score  \n",
       "0          Guardians of the Galaxy  2014  1.000000  \n",
       "1          Guardians of the Galaxy  2014  1.000000  \n",
       "2          Guardians of the Galaxy  2014  1.000000  \n",
       "3          Guardians of the Galaxy  2014  0.827228  \n",
       "4   Guardians of the Galaxy Vol. 2  2017  0.813733  \n",
       "5   Guardians of the Galaxy Vol. 2  2017  0.779539  \n",
       "6   Guardians of the Galaxy Vol. 2  2017  0.748195  \n",
       "7   Guardians of the Galaxy Vol. 2  2017  0.743052  \n",
       "8           Avengers: Infinity War  2018  0.740423  \n",
       "9           Avengers: Infinity War  2018  0.735027  \n",
       "10          Avengers: Infinity War  2018  0.734338  \n",
       "11          Avengers: Infinity War  2018  0.733204  \n",
       "12          Avengers: Infinity War  2018  0.726994  \n",
       "13          Avengers: Infinity War  2018  0.690775  \n",
       "14          Avengers: Infinity War  2018  0.687121  \n",
       "15          Avengers: Infinity War  2018  0.687074  \n",
       "16          Avengers: Infinity War  2018  0.686150  \n",
       "17          Avengers: Infinity War  2018  0.686150  \n",
       "18          Avengers: Infinity War  2018  0.686150  \n",
       "19          Avengers: Infinity War  2018  0.681241  \n",
       "20          Avengers: Infinity War  2018  0.675892  \n",
       "21          Avengers: Infinity War  2018  0.675892  \n",
       "22          Avengers: Infinity War  2018  0.674130  \n",
       "23          Avengers: Infinity War  2018  0.673123  \n",
       "24          Avengers: Infinity War  2018  0.649144  \n",
       "25               Avengers: Endgame  2019  0.645763  \n",
       "26               Avengers: Endgame  2019  0.641115  \n",
       "27               Avengers: Endgame  2019  0.640695  \n",
       "28               Avengers: Endgame  2019  0.637928  \n",
       "29               Avengers: Endgame  2019  0.636279  "
      ]
     },
     "execution_count": 13,
     "metadata": {},
     "output_type": "execute_result"
    }
   ],
   "source": [
    "SearchDocument('thanos', topn=30)"
   ]
  },
  {
   "cell_type": "code",
   "execution_count": 14,
   "id": "ed45567c-c504-442a-99f9-dbdf14e867e7",
   "metadata": {},
   "outputs": [
    {
     "data": {
      "text/html": [
       "<pre>✔️ 94 ms (2021-12-04T16:29:44/2021-12-04T16:29:44)</pre>"
      ],
      "text/plain": [
       "<IPython.core.display.HTML object>"
      ]
     },
     "metadata": {},
     "output_type": "display_data"
    },
    {
     "data": {
      "text/html": [
       "<div>\n",
       "<style scoped>\n",
       "    .dataframe tbody tr th:only-of-type {\n",
       "        vertical-align: middle;\n",
       "    }\n",
       "\n",
       "    .dataframe tbody tr th {\n",
       "        vertical-align: top;\n",
       "    }\n",
       "\n",
       "    .dataframe thead th {\n",
       "        text-align: right;\n",
       "    }\n",
       "</style>\n",
       "<table border=\"1\" class=\"dataframe\">\n",
       "  <thead>\n",
       "    <tr style=\"text-align: right;\">\n",
       "      <th></th>\n",
       "      <th>character</th>\n",
       "      <th>line</th>\n",
       "      <th>movie</th>\n",
       "      <th>year</th>\n",
       "      <th>Score</th>\n",
       "    </tr>\n",
       "  </thead>\n",
       "  <tbody>\n",
       "    <tr>\n",
       "      <th>0</th>\n",
       "      <td>NATASHA ROMANOFF</td>\n",
       "      <td>Right away.</td>\n",
       "      <td>Iron Man 2</td>\n",
       "      <td>2010</td>\n",
       "      <td>1.000000</td>\n",
       "    </tr>\n",
       "    <tr>\n",
       "      <th>1</th>\n",
       "      <td>HAPPY HOGAN</td>\n",
       "      <td>Hang on.</td>\n",
       "      <td>Iron Man 2</td>\n",
       "      <td>2010</td>\n",
       "      <td>0.734504</td>\n",
       "    </tr>\n",
       "    <tr>\n",
       "      <th>2</th>\n",
       "      <td>PEGGY CARTER</td>\n",
       "      <td>Up.</td>\n",
       "      <td>Captain America: The First Avenger</td>\n",
       "      <td>2011</td>\n",
       "      <td>0.545618</td>\n",
       "    </tr>\n",
       "    <tr>\n",
       "      <th>3</th>\n",
       "      <td>FRIGGA</td>\n",
       "      <td>Always.</td>\n",
       "      <td>Thor</td>\n",
       "      <td>2011</td>\n",
       "      <td>0.544093</td>\n",
       "    </tr>\n",
       "    <tr>\n",
       "      <th>4</th>\n",
       "      <td>VOLSTAGG</td>\n",
       "      <td>Hang on!</td>\n",
       "      <td>Thor</td>\n",
       "      <td>2011</td>\n",
       "      <td>0.544093</td>\n",
       "    </tr>\n",
       "    <tr>\n",
       "      <th>5</th>\n",
       "      <td>TONY STARK</td>\n",
       "      <td>How long?</td>\n",
       "      <td>The Avengers</td>\n",
       "      <td>2012</td>\n",
       "      <td>0.541111</td>\n",
       "    </tr>\n",
       "    <tr>\n",
       "      <th>6</th>\n",
       "      <td>STEVE ROGERS</td>\n",
       "      <td>Hang on!</td>\n",
       "      <td>Captain America: The Winter Soldier</td>\n",
       "      <td>2014</td>\n",
       "      <td>0.541111</td>\n",
       "    </tr>\n",
       "    <tr>\n",
       "      <th>7</th>\n",
       "      <td>HANK PYM</td>\n",
       "      <td>Hang on.</td>\n",
       "      <td>Ant-Man</td>\n",
       "      <td>2015</td>\n",
       "      <td>0.538593</td>\n",
       "    </tr>\n",
       "    <tr>\n",
       "      <th>8</th>\n",
       "      <td>CLINT BARTON</td>\n",
       "      <td>Hard right... Now.</td>\n",
       "      <td>Avengers: Age of Ultron</td>\n",
       "      <td>2015</td>\n",
       "      <td>0.534134</td>\n",
       "    </tr>\n",
       "    <tr>\n",
       "      <th>9</th>\n",
       "      <td>NATASHA ROMANOFF</td>\n",
       "      <td>Nothing lasts forever.</td>\n",
       "      <td>Avengers: Age of Ultron</td>\n",
       "      <td>2015</td>\n",
       "      <td>0.534134</td>\n",
       "    </tr>\n",
       "    <tr>\n",
       "      <th>10</th>\n",
       "      <td>DOCTOR STRANGE</td>\n",
       "      <td>Not forever?</td>\n",
       "      <td>Doctor Strange</td>\n",
       "      <td>2016</td>\n",
       "      <td>0.527053</td>\n",
       "    </tr>\n",
       "    <tr>\n",
       "      <th>11</th>\n",
       "      <td>PETER QUILL</td>\n",
       "      <td>Forever.</td>\n",
       "      <td>Guardians of the Galaxy Vol. 2</td>\n",
       "      <td>2017</td>\n",
       "      <td>0.521855</td>\n",
       "    </tr>\n",
       "    <tr>\n",
       "      <th>12</th>\n",
       "      <td>PETER PARKER</td>\n",
       "      <td>For how long?</td>\n",
       "      <td>Spider-Man: Homecoming</td>\n",
       "      <td>2017</td>\n",
       "      <td>0.517745</td>\n",
       "    </tr>\n",
       "    <tr>\n",
       "      <th>13</th>\n",
       "      <td>HULK</td>\n",
       "      <td>Stay!</td>\n",
       "      <td>Thor: Ragnarok</td>\n",
       "      <td>2017</td>\n",
       "      <td>0.506181</td>\n",
       "    </tr>\n",
       "    <tr>\n",
       "      <th>14</th>\n",
       "      <td>VALKYRIE</td>\n",
       "      <td>In a minute!</td>\n",
       "      <td>Thor: Ragnarok</td>\n",
       "      <td>2017</td>\n",
       "      <td>0.502130</td>\n",
       "    </tr>\n",
       "    <tr>\n",
       "      <th>15</th>\n",
       "      <td>STEVE ROGERS</td>\n",
       "      <td>How long?</td>\n",
       "      <td>Avengers: Infinity War</td>\n",
       "      <td>2018</td>\n",
       "      <td>0.502130</td>\n",
       "    </tr>\n",
       "    <tr>\n",
       "      <th>16</th>\n",
       "      <td>T'CHALLA</td>\n",
       "      <td>Wakanda forever!!</td>\n",
       "      <td>Black Panther</td>\n",
       "      <td>2018</td>\n",
       "      <td>0.502130</td>\n",
       "    </tr>\n",
       "    <tr>\n",
       "      <th>17</th>\n",
       "      <td>T'CHALLA</td>\n",
       "      <td>Stay.</td>\n",
       "      <td>Black Panther</td>\n",
       "      <td>2018</td>\n",
       "      <td>0.502130</td>\n",
       "    </tr>\n",
       "    <tr>\n",
       "      <th>18</th>\n",
       "      <td>NAKIA</td>\n",
       "      <td>Wakanda Forever!!</td>\n",
       "      <td>Black Panther</td>\n",
       "      <td>2018</td>\n",
       "      <td>0.500871</td>\n",
       "    </tr>\n",
       "    <tr>\n",
       "      <th>19</th>\n",
       "      <td>NICK FURY</td>\n",
       "      <td>Back in a minute.</td>\n",
       "      <td>Captain Marvel</td>\n",
       "      <td>2019</td>\n",
       "      <td>0.500059</td>\n",
       "    </tr>\n",
       "  </tbody>\n",
       "</table>\n",
       "</div>"
      ],
      "text/plain": [
       "           character                    line  \\\n",
       "0   NATASHA ROMANOFF             Right away.   \n",
       "1        HAPPY HOGAN                Hang on.   \n",
       "2       PEGGY CARTER                     Up.   \n",
       "3             FRIGGA                 Always.   \n",
       "4           VOLSTAGG                Hang on!   \n",
       "5         TONY STARK               How long?   \n",
       "6       STEVE ROGERS                Hang on!   \n",
       "7           HANK PYM                Hang on.   \n",
       "8       CLINT BARTON      Hard right... Now.   \n",
       "9   NATASHA ROMANOFF  Nothing lasts forever.   \n",
       "10    DOCTOR STRANGE            Not forever?   \n",
       "11       PETER QUILL                Forever.   \n",
       "12      PETER PARKER           For how long?   \n",
       "13              HULK                   Stay!   \n",
       "14          VALKYRIE            In a minute!   \n",
       "15      STEVE ROGERS               How long?   \n",
       "16          T'CHALLA       Wakanda forever!!   \n",
       "17          T'CHALLA                   Stay.   \n",
       "18             NAKIA       Wakanda Forever!!   \n",
       "19         NICK FURY       Back in a minute.   \n",
       "\n",
       "                                  movie  year     Score  \n",
       "0                            Iron Man 2  2010  1.000000  \n",
       "1                            Iron Man 2  2010  0.734504  \n",
       "2    Captain America: The First Avenger  2011  0.545618  \n",
       "3                                  Thor  2011  0.544093  \n",
       "4                                  Thor  2011  0.544093  \n",
       "5                          The Avengers  2012  0.541111  \n",
       "6   Captain America: The Winter Soldier  2014  0.541111  \n",
       "7                               Ant-Man  2015  0.538593  \n",
       "8               Avengers: Age of Ultron  2015  0.534134  \n",
       "9               Avengers: Age of Ultron  2015  0.534134  \n",
       "10                       Doctor Strange  2016  0.527053  \n",
       "11       Guardians of the Galaxy Vol. 2  2017  0.521855  \n",
       "12               Spider-Man: Homecoming  2017  0.517745  \n",
       "13                       Thor: Ragnarok  2017  0.506181  \n",
       "14                       Thor: Ragnarok  2017  0.502130  \n",
       "15               Avengers: Infinity War  2018  0.502130  \n",
       "16                        Black Panther  2018  0.502130  \n",
       "17                        Black Panther  2018  0.502130  \n",
       "18                        Black Panther  2018  0.500871  \n",
       "19                       Captain Marvel  2019  0.500059  "
      ]
     },
     "execution_count": 14,
     "metadata": {},
     "output_type": "execute_result"
    }
   ],
   "source": [
    "SearchDocument('forever', topn=20)"
   ]
  },
  {
   "cell_type": "code",
   "execution_count": null,
   "id": "1e3af8ab-ef5d-482c-805c-046316452e11",
   "metadata": {},
   "outputs": [],
   "source": []
  },
  {
   "cell_type": "code",
   "execution_count": null,
   "id": "1182e228-4b48-4d3c-bb0a-f1f1b4f0406b",
   "metadata": {},
   "outputs": [],
   "source": []
  },
  {
   "cell_type": "code",
   "execution_count": null,
   "id": "eb0781ab-d221-4ade-9be9-0b8158dfb06c",
   "metadata": {},
   "outputs": [],
   "source": []
  },
  {
   "cell_type": "code",
   "execution_count": null,
   "id": "44e4588f-76d5-4d2e-8e30-ca7292641643",
   "metadata": {},
   "outputs": [],
   "source": []
  },
  {
   "cell_type": "code",
   "execution_count": null,
   "id": "f141f27e-1082-409e-9f70-df9a98a67902",
   "metadata": {},
   "outputs": [],
   "source": []
  }
 ],
 "metadata": {
  "kernelspec": {
   "display_name": "Python 3 (ipykernel)",
   "language": "python",
   "name": "python3"
  },
  "language_info": {
   "codemirror_mode": {
    "name": "ipython",
    "version": 3
   },
   "file_extension": ".py",
   "mimetype": "text/x-python",
   "name": "python",
   "nbconvert_exporter": "python",
   "pygments_lexer": "ipython3",
   "version": "3.9.7"
  }
 },
 "nbformat": 4,
 "nbformat_minor": 5
}

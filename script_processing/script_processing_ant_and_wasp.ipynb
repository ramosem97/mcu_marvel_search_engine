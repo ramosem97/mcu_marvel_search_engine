{
 "cells": [
  {
   "cell_type": "markdown",
   "id": "f3bdda6b-837b-45ae-843c-8c6c6cac8852",
   "metadata": {},
   "source": [
    "# MCU Scripts"
   ]
  },
  {
   "cell_type": "markdown",
   "id": "28f6f788-98ab-4b8e-99bc-b61351c3be07",
   "metadata": {},
   "source": [
    "## Configuration"
   ]
  },
  {
   "cell_type": "code",
   "execution_count": 1,
   "id": "0796cb39-d488-402f-b6d7-893d13898d6b",
   "metadata": {},
   "outputs": [
    {
     "data": {
      "text/html": [
       "<pre>✔️ 0 ns (2021-12-10T10:47:59/2021-12-10T10:47:59)</pre>"
      ],
      "text/plain": [
       "<IPython.core.display.HTML object>"
      ]
     },
     "metadata": {},
     "output_type": "display_data"
    }
   ],
   "source": [
    "%load_ext autotime"
   ]
  },
  {
   "cell_type": "code",
   "execution_count": 2,
   "id": "95f740cb-7a0c-4388-9be5-64e3bde29dde",
   "metadata": {},
   "outputs": [
    {
     "data": {
      "text/html": [
       "<pre>✔️ 922 ms (2021-12-10T10:47:59/2021-12-10T10:48:00)</pre>"
      ],
      "text/plain": [
       "<IPython.core.display.HTML object>"
      ]
     },
     "metadata": {},
     "output_type": "display_data"
    }
   ],
   "source": [
    "import pandas as pd\n",
    "import numpy as np\n",
    "\n",
    "import seaborn as sns\n",
    "import matplotlib.pyplot as plt\n",
    "\n",
    "import re"
   ]
  },
  {
   "cell_type": "markdown",
   "id": "2d68845b-c7d3-475c-a232-661e707cd024",
   "metadata": {},
   "source": [
    "## Analysis"
   ]
  },
  {
   "cell_type": "markdown",
   "id": "5b50d351-7546-43a0-8103-67441172b957",
   "metadata": {},
   "source": [
    "### About the Data"
   ]
  },
  {
   "cell_type": "markdown",
   "id": "0f01f66e-6a3d-4749-bd94-fd09de9330ea",
   "metadata": {},
   "source": [
    "#### Processed Scripts"
   ]
  },
  {
   "cell_type": "code",
   "execution_count": 3,
   "id": "bca738cd-cb58-4a79-9592-e1c960063f48",
   "metadata": {},
   "outputs": [
    {
     "data": {
      "text/html": [
       "<pre>✔️ 47 ms (2021-12-10T10:48:00/2021-12-10T10:48:00)</pre>"
      ],
      "text/plain": [
       "<IPython.core.display.HTML object>"
      ]
     },
     "metadata": {},
     "output_type": "display_data"
    },
    {
     "name": "stdout",
     "output_type": "stream",
     "text": [
      "Entries:  6509\n"
     ]
    },
    {
     "data": {
      "text/html": [
       "<div>\n",
       "<style scoped>\n",
       "    .dataframe tbody tr th:only-of-type {\n",
       "        vertical-align: middle;\n",
       "    }\n",
       "\n",
       "    .dataframe tbody tr th {\n",
       "        vertical-align: top;\n",
       "    }\n",
       "\n",
       "    .dataframe thead th {\n",
       "        text-align: right;\n",
       "    }\n",
       "</style>\n",
       "<table border=\"1\" class=\"dataframe\">\n",
       "  <thead>\n",
       "    <tr style=\"text-align: right;\">\n",
       "      <th></th>\n",
       "      <th>movie</th>\n",
       "      <th>year</th>\n",
       "    </tr>\n",
       "  </thead>\n",
       "  <tbody>\n",
       "    <tr>\n",
       "      <th>0</th>\n",
       "      <td>Ant-Man</td>\n",
       "      <td>2015</td>\n",
       "    </tr>\n",
       "    <tr>\n",
       "      <th>1</th>\n",
       "      <td>Avengers: Age of Ultron</td>\n",
       "      <td>2015</td>\n",
       "    </tr>\n",
       "    <tr>\n",
       "      <th>2</th>\n",
       "      <td>Avengers: Endgame</td>\n",
       "      <td>2019</td>\n",
       "    </tr>\n",
       "    <tr>\n",
       "      <th>3</th>\n",
       "      <td>Avengers: Infinity War</td>\n",
       "      <td>2018</td>\n",
       "    </tr>\n",
       "    <tr>\n",
       "      <th>4</th>\n",
       "      <td>Captain America: Civil War</td>\n",
       "      <td>2016</td>\n",
       "    </tr>\n",
       "    <tr>\n",
       "      <th>5</th>\n",
       "      <td>Captain America: The First Avenger</td>\n",
       "      <td>2011</td>\n",
       "    </tr>\n",
       "    <tr>\n",
       "      <th>6</th>\n",
       "      <td>Captain America: The Winter Soldier</td>\n",
       "      <td>2014</td>\n",
       "    </tr>\n",
       "    <tr>\n",
       "      <th>7</th>\n",
       "      <td>Captain Marvel</td>\n",
       "      <td>2019</td>\n",
       "    </tr>\n",
       "    <tr>\n",
       "      <th>8</th>\n",
       "      <td>Iron Man</td>\n",
       "      <td>2008</td>\n",
       "    </tr>\n",
       "    <tr>\n",
       "      <th>9</th>\n",
       "      <td>Iron Man 2</td>\n",
       "      <td>2010</td>\n",
       "    </tr>\n",
       "    <tr>\n",
       "      <th>10</th>\n",
       "      <td>Iron Man 3</td>\n",
       "      <td>2013</td>\n",
       "    </tr>\n",
       "    <tr>\n",
       "      <th>11</th>\n",
       "      <td>Spider-Man: Homecoming</td>\n",
       "      <td>2017</td>\n",
       "    </tr>\n",
       "    <tr>\n",
       "      <th>12</th>\n",
       "      <td>The Avengers</td>\n",
       "      <td>2012</td>\n",
       "    </tr>\n",
       "    <tr>\n",
       "      <th>13</th>\n",
       "      <td>Thor</td>\n",
       "      <td>2011</td>\n",
       "    </tr>\n",
       "    <tr>\n",
       "      <th>14</th>\n",
       "      <td>Thor: Ragnarok</td>\n",
       "      <td>2017</td>\n",
       "    </tr>\n",
       "    <tr>\n",
       "      <th>15</th>\n",
       "      <td>Thor: The Dark World</td>\n",
       "      <td>2013</td>\n",
       "    </tr>\n",
       "  </tbody>\n",
       "</table>\n",
       "</div>"
      ],
      "text/plain": [
       "                                  movie  year\n",
       "0                               Ant-Man  2015\n",
       "1               Avengers: Age of Ultron  2015\n",
       "2                     Avengers: Endgame  2019\n",
       "3                Avengers: Infinity War  2018\n",
       "4            Captain America: Civil War  2016\n",
       "5    Captain America: The First Avenger  2011\n",
       "6   Captain America: The Winter Soldier  2014\n",
       "7                        Captain Marvel  2019\n",
       "8                              Iron Man  2008\n",
       "9                            Iron Man 2  2010\n",
       "10                           Iron Man 3  2013\n",
       "11               Spider-Man: Homecoming  2017\n",
       "12                         The Avengers  2012\n",
       "13                                 Thor  2011\n",
       "14                       Thor: Ragnarok  2017\n",
       "15                 Thor: The Dark World  2013"
      ]
     },
     "execution_count": 3,
     "metadata": {},
     "output_type": "execute_result"
    }
   ],
   "source": [
    "lines = pd.read_csv('../clean_data/mcu_data.csv', index_col=0).reset_index(drop=True)[['character', 'line', 'movie', 'year', 'words']]\n",
    "print('Entries: ', len(lines))\n",
    "lines.head()\n",
    "processed_movies = lines.groupby(['movie', 'year']).head(1)[['movie', 'year']].sort_values(['movie']).reset_index(drop=True)\n",
    "processed_movies"
   ]
  },
  {
   "cell_type": "markdown",
   "id": "e538aaf3-887a-40d3-97a2-63a433a839ab",
   "metadata": {},
   "source": [
    "#### Raw Scripts"
   ]
  },
  {
   "cell_type": "code",
   "execution_count": 5,
   "id": "55028b91-99c0-49e0-a0e3-597a77590650",
   "metadata": {},
   "outputs": [
    {
     "data": {
      "text/html": [
       "<pre>✔️ 47 ms (2021-12-10T10:48:05/2021-12-10T10:48:05)</pre>"
      ],
      "text/plain": [
       "<IPython.core.display.HTML object>"
      ]
     },
     "metadata": {},
     "output_type": "display_data"
    },
    {
     "name": "stdout",
     "output_type": "stream",
     "text": [
      "Entries:  23\n"
     ]
    },
    {
     "data": {
      "text/html": [
       "<div>\n",
       "<style scoped>\n",
       "    .dataframe tbody tr th:only-of-type {\n",
       "        vertical-align: middle;\n",
       "    }\n",
       "\n",
       "    .dataframe tbody tr th {\n",
       "        vertical-align: top;\n",
       "    }\n",
       "\n",
       "    .dataframe thead th {\n",
       "        text-align: right;\n",
       "    }\n",
       "</style>\n",
       "<table border=\"1\" class=\"dataframe\">\n",
       "  <thead>\n",
       "    <tr style=\"text-align: right;\">\n",
       "      <th></th>\n",
       "      <th>title</th>\n",
       "      <th>script</th>\n",
       "      <th>movie</th>\n",
       "      <th>year</th>\n",
       "      <th>script_length</th>\n",
       "    </tr>\n",
       "  </thead>\n",
       "  <tbody>\n",
       "    <tr>\n",
       "      <th>0</th>\n",
       "      <td>Ant-Man</td>\n",
       "      <td>Previous transcript:\\n Next transcript:\\n\\n\\n ...</td>\n",
       "      <td>Ant-Man</td>\n",
       "      <td>2015.0</td>\n",
       "      <td>82517</td>\n",
       "    </tr>\n",
       "    <tr>\n",
       "      <th>1</th>\n",
       "      <td>Ant-Man and the Wasp</td>\n",
       "      <td>This transcript is not finished!This page does...</td>\n",
       "      <td>NaN</td>\n",
       "      <td>NaN</td>\n",
       "      <td>67957</td>\n",
       "    </tr>\n",
       "    <tr>\n",
       "      <th>2</th>\n",
       "      <td>The Avengers</td>\n",
       "      <td>This transcript isn't tidy!This page's transcr...</td>\n",
       "      <td>The Avengers</td>\n",
       "      <td>2012.0</td>\n",
       "      <td>163543</td>\n",
       "    </tr>\n",
       "    <tr>\n",
       "      <th>3</th>\n",
       "      <td>Avengers: Age of Ultron</td>\n",
       "      <td>Previous transcript:\\n Next transcript:\\n\\n\\n ...</td>\n",
       "      <td>Avengers: Age of Ultron</td>\n",
       "      <td>2015.0</td>\n",
       "      <td>91399</td>\n",
       "    </tr>\n",
       "    <tr>\n",
       "      <th>4</th>\n",
       "      <td>Avengers: Endgame</td>\n",
       "      <td>Previous transcript:\\n Next transcript:\\n\\n\\n ...</td>\n",
       "      <td>Avengers: Endgame</td>\n",
       "      <td>2019.0</td>\n",
       "      <td>138200</td>\n",
       "    </tr>\n",
       "    <tr>\n",
       "      <th>5</th>\n",
       "      <td>Avengers: Infinity War</td>\n",
       "      <td>Previous transcript:\\n Next transcript:\\n\\n\\n ...</td>\n",
       "      <td>Avengers: Infinity War</td>\n",
       "      <td>2018.0</td>\n",
       "      <td>141191</td>\n",
       "    </tr>\n",
       "    <tr>\n",
       "      <th>6</th>\n",
       "      <td>Black Panther</td>\n",
       "      <td>This transcript isn't tidy!This page's transcr...</td>\n",
       "      <td>NaN</td>\n",
       "      <td>NaN</td>\n",
       "      <td>201332</td>\n",
       "    </tr>\n",
       "    <tr>\n",
       "      <th>7</th>\n",
       "      <td>Captain America: Civil War</td>\n",
       "      <td>Previous transcript:\\n Next transcript:\\n\\n\\n ...</td>\n",
       "      <td>Captain America: Civil War</td>\n",
       "      <td>2016.0</td>\n",
       "      <td>127046</td>\n",
       "    </tr>\n",
       "    <tr>\n",
       "      <th>8</th>\n",
       "      <td>Captain America: The First Avenger</td>\n",
       "      <td>Previous transcript:\\n Next transcript:\\n\\n\\n ...</td>\n",
       "      <td>Captain America: The First Avenger</td>\n",
       "      <td>2011.0</td>\n",
       "      <td>71770</td>\n",
       "    </tr>\n",
       "    <tr>\n",
       "      <th>9</th>\n",
       "      <td>Captain America: The Winter Soldier</td>\n",
       "      <td>Previous transcript:\\n Next transcript:\\n\\n\\n ...</td>\n",
       "      <td>Captain America: The Winter Soldier</td>\n",
       "      <td>2014.0</td>\n",
       "      <td>98173</td>\n",
       "    </tr>\n",
       "    <tr>\n",
       "      <th>10</th>\n",
       "      <td>Captain Marvel</td>\n",
       "      <td>Previous transcript:\\n Next transcript:\\n\\n\\n ...</td>\n",
       "      <td>Captain Marvel</td>\n",
       "      <td>2019.0</td>\n",
       "      <td>94229</td>\n",
       "    </tr>\n",
       "    <tr>\n",
       "      <th>11</th>\n",
       "      <td>Doctor Strange</td>\n",
       "      <td>This transcript isn't tidy!This page's transcr...</td>\n",
       "      <td>NaN</td>\n",
       "      <td>NaN</td>\n",
       "      <td>54685</td>\n",
       "    </tr>\n",
       "    <tr>\n",
       "      <th>12</th>\n",
       "      <td>Guardians of the Galaxy</td>\n",
       "      <td>Previous transcript:\\n Next transcript:\\n\\n\\n ...</td>\n",
       "      <td>NaN</td>\n",
       "      <td>NaN</td>\n",
       "      <td>67924</td>\n",
       "    </tr>\n",
       "    <tr>\n",
       "      <th>13</th>\n",
       "      <td>Guardians of the Galaxy Vol. 2</td>\n",
       "      <td>This transcript isn't tidy!This page's transcr...</td>\n",
       "      <td>NaN</td>\n",
       "      <td>NaN</td>\n",
       "      <td>63728</td>\n",
       "    </tr>\n",
       "    <tr>\n",
       "      <th>14</th>\n",
       "      <td>Spider-Man: Homecoming</td>\n",
       "      <td>Previous transcript:\\n Next transcript:\\n\\n\\n ...</td>\n",
       "      <td>Spider-Man: Homecoming</td>\n",
       "      <td>2017.0</td>\n",
       "      <td>162553</td>\n",
       "    </tr>\n",
       "    <tr>\n",
       "      <th>15</th>\n",
       "      <td>Iron Man</td>\n",
       "      <td>This transcript isn't tidy!This page's transcr...</td>\n",
       "      <td>Iron Man</td>\n",
       "      <td>2008.0</td>\n",
       "      <td>76243</td>\n",
       "    </tr>\n",
       "    <tr>\n",
       "      <th>16</th>\n",
       "      <td>Iron Man 2</td>\n",
       "      <td>Previous transcript:\\n Next transcript:\\n\\n\\n ...</td>\n",
       "      <td>Iron Man 2</td>\n",
       "      <td>2010.0</td>\n",
       "      <td>86198</td>\n",
       "    </tr>\n",
       "    <tr>\n",
       "      <th>17</th>\n",
       "      <td>Iron Man 3</td>\n",
       "      <td>Previous transcript:\\n Next transcript:\\n\\n\\n ...</td>\n",
       "      <td>Iron Man 3</td>\n",
       "      <td>2013.0</td>\n",
       "      <td>97630</td>\n",
       "    </tr>\n",
       "    <tr>\n",
       "      <th>18</th>\n",
       "      <td>Spider-Man: Far From Home</td>\n",
       "      <td>This transcript is not finished!This page does...</td>\n",
       "      <td>NaN</td>\n",
       "      <td>NaN</td>\n",
       "      <td>103341</td>\n",
       "    </tr>\n",
       "    <tr>\n",
       "      <th>19</th>\n",
       "      <td>The Incredible Hulk</td>\n",
       "      <td>Previous transcript:\\n Next transcript:\\n\\n\\n ...</td>\n",
       "      <td>NaN</td>\n",
       "      <td>NaN</td>\n",
       "      <td>29346</td>\n",
       "    </tr>\n",
       "    <tr>\n",
       "      <th>20</th>\n",
       "      <td>Thor</td>\n",
       "      <td>Previous transcript:\\n Next transcript:\\n\\n\\n ...</td>\n",
       "      <td>Thor</td>\n",
       "      <td>2011.0</td>\n",
       "      <td>242605</td>\n",
       "    </tr>\n",
       "    <tr>\n",
       "      <th>21</th>\n",
       "      <td>Thor: Ragnarok</td>\n",
       "      <td>Previous transcript:\\n Next transcript:\\n\\n\\n ...</td>\n",
       "      <td>Thor: Ragnarok</td>\n",
       "      <td>2017.0</td>\n",
       "      <td>202999</td>\n",
       "    </tr>\n",
       "    <tr>\n",
       "      <th>22</th>\n",
       "      <td>Thor: The Dark World</td>\n",
       "      <td>Previous transcript:\\n Next transcript:\\n\\n\\n ...</td>\n",
       "      <td>Thor: The Dark World</td>\n",
       "      <td>2013.0</td>\n",
       "      <td>77065</td>\n",
       "    </tr>\n",
       "  </tbody>\n",
       "</table>\n",
       "</div>"
      ],
      "text/plain": [
       "                                  title  \\\n",
       "0                               Ant-Man   \n",
       "1                  Ant-Man and the Wasp   \n",
       "2                          The Avengers   \n",
       "3               Avengers: Age of Ultron   \n",
       "4                     Avengers: Endgame   \n",
       "5                Avengers: Infinity War   \n",
       "6                         Black Panther   \n",
       "7            Captain America: Civil War   \n",
       "8    Captain America: The First Avenger   \n",
       "9   Captain America: The Winter Soldier   \n",
       "10                       Captain Marvel   \n",
       "11                       Doctor Strange   \n",
       "12              Guardians of the Galaxy   \n",
       "13       Guardians of the Galaxy Vol. 2   \n",
       "14               Spider-Man: Homecoming   \n",
       "15                             Iron Man   \n",
       "16                           Iron Man 2   \n",
       "17                           Iron Man 3   \n",
       "18            Spider-Man: Far From Home   \n",
       "19                  The Incredible Hulk   \n",
       "20                                 Thor   \n",
       "21                       Thor: Ragnarok   \n",
       "22                 Thor: The Dark World   \n",
       "\n",
       "                                               script  \\\n",
       "0   Previous transcript:\\n Next transcript:\\n\\n\\n ...   \n",
       "1   This transcript is not finished!This page does...   \n",
       "2   This transcript isn't tidy!This page's transcr...   \n",
       "3   Previous transcript:\\n Next transcript:\\n\\n\\n ...   \n",
       "4   Previous transcript:\\n Next transcript:\\n\\n\\n ...   \n",
       "5   Previous transcript:\\n Next transcript:\\n\\n\\n ...   \n",
       "6   This transcript isn't tidy!This page's transcr...   \n",
       "7   Previous transcript:\\n Next transcript:\\n\\n\\n ...   \n",
       "8   Previous transcript:\\n Next transcript:\\n\\n\\n ...   \n",
       "9   Previous transcript:\\n Next transcript:\\n\\n\\n ...   \n",
       "10  Previous transcript:\\n Next transcript:\\n\\n\\n ...   \n",
       "11  This transcript isn't tidy!This page's transcr...   \n",
       "12  Previous transcript:\\n Next transcript:\\n\\n\\n ...   \n",
       "13  This transcript isn't tidy!This page's transcr...   \n",
       "14  Previous transcript:\\n Next transcript:\\n\\n\\n ...   \n",
       "15  This transcript isn't tidy!This page's transcr...   \n",
       "16  Previous transcript:\\n Next transcript:\\n\\n\\n ...   \n",
       "17  Previous transcript:\\n Next transcript:\\n\\n\\n ...   \n",
       "18  This transcript is not finished!This page does...   \n",
       "19  Previous transcript:\\n Next transcript:\\n\\n\\n ...   \n",
       "20  Previous transcript:\\n Next transcript:\\n\\n\\n ...   \n",
       "21  Previous transcript:\\n Next transcript:\\n\\n\\n ...   \n",
       "22  Previous transcript:\\n Next transcript:\\n\\n\\n ...   \n",
       "\n",
       "                                  movie    year  script_length  \n",
       "0                               Ant-Man  2015.0          82517  \n",
       "1                                   NaN     NaN          67957  \n",
       "2                          The Avengers  2012.0         163543  \n",
       "3               Avengers: Age of Ultron  2015.0          91399  \n",
       "4                     Avengers: Endgame  2019.0         138200  \n",
       "5                Avengers: Infinity War  2018.0         141191  \n",
       "6                                   NaN     NaN         201332  \n",
       "7            Captain America: Civil War  2016.0         127046  \n",
       "8    Captain America: The First Avenger  2011.0          71770  \n",
       "9   Captain America: The Winter Soldier  2014.0          98173  \n",
       "10                       Captain Marvel  2019.0          94229  \n",
       "11                                  NaN     NaN          54685  \n",
       "12                                  NaN     NaN          67924  \n",
       "13                                  NaN     NaN          63728  \n",
       "14               Spider-Man: Homecoming  2017.0         162553  \n",
       "15                             Iron Man  2008.0          76243  \n",
       "16                           Iron Man 2  2010.0          86198  \n",
       "17                           Iron Man 3  2013.0          97630  \n",
       "18                                  NaN     NaN         103341  \n",
       "19                                  NaN     NaN          29346  \n",
       "20                                 Thor  2011.0         242605  \n",
       "21                       Thor: Ragnarok  2017.0         202999  \n",
       "22                 Thor: The Dark World  2013.0          77065  "
      ]
     },
     "execution_count": 5,
     "metadata": {},
     "output_type": "execute_result"
    }
   ],
   "source": [
    "df = pd.read_csv('../raw_data/mcu_scipts.csv', index_col=0).merge(processed_movies, right_on=['movie'], left_on=['title'], how='left')\n",
    "df['script_length'] = df['script'].apply(len)\n",
    "print('Entries: ', len(df))\n",
    "df.head(23)"
   ]
  },
  {
   "cell_type": "code",
   "execution_count": 13,
   "id": "bc2bd97e-3a5e-4a9c-83a5-829e957d530d",
   "metadata": {},
   "outputs": [
    {
     "data": {
      "text/html": [
       "<pre>✔️ 0 ns (2021-12-10T10:48:38/2021-12-10T10:48:38)</pre>"
      ],
      "text/plain": [
       "<IPython.core.display.HTML object>"
      ]
     },
     "metadata": {},
     "output_type": "display_data"
    },
    {
     "name": "stdout",
     "output_type": "stream",
     "text": [
      "Ant-Man and the Wasp 2018\n",
      "This transcript is not finished!This page does not have the entire transcript.It is recommended to a\n"
     ]
    }
   ],
   "source": [
    "movie_idx=1\n",
    "script = df.script.values[movie_idx]\n",
    "movie_year = 2018\n",
    "movie_title = df.title.values[movie_idx]\n",
    "print(movie_title, movie_year)\n",
    "print(script[:100])"
   ]
  },
  {
   "cell_type": "markdown",
   "id": "5a0009b1-9e11-4ffe-a279-fd5f245e15f1",
   "metadata": {},
   "source": [
    "# Cleaning Up Script"
   ]
  },
  {
   "cell_type": "markdown",
   "id": "09862165-5241-4f25-b439-56c0dd9f53f0",
   "metadata": {},
   "source": [
    "## Find Actual Start of Script"
   ]
  },
  {
   "cell_type": "code",
   "execution_count": 14,
   "id": "c520e5f0-c942-4084-b8d5-c567d4ccd1d3",
   "metadata": {},
   "outputs": [
    {
     "data": {
      "text/html": [
       "<pre>✔️ 0 ns (2021-12-10T10:48:39/2021-12-10T10:48:39)</pre>"
      ],
      "text/plain": [
       "<IPython.core.display.HTML object>"
      ]
     },
     "metadata": {},
     "output_type": "display_data"
    },
    {
     "name": "stdout",
     "output_type": "stream",
     "text": [
      "Hank: [voiceover] I still think about the night your mother and I had to leave you...\n",
      "[The camera cuts to a young Hope van Dyne, who is walking out of her bedroom into the hallway. There, Janet van Dyne and Hank Pym are talking to a woman.]\n",
      "Janet: [to the woman, faintly] Hopefully, it's not for long, but I'll call you when we get settled.When I have a better indication of what's going on.\n",
      "Young Hope: Mommy?\n",
      "[Janet and Hank turn around to face their daughter. Janet sighs as Hank gets the bags situated.]\n",
      "Janet: Oh, Jellybean. [She kneels down to meet eye-level with Hope.] Daddy and I have a last minute business trip, so Rose is going to stay with you for a few days.\n",
      "Young Hope: No. I don't want you to go.\n",
      "Janet: Ugh! It's gonna be so boring! I won't be able to keep my... eyes...\n",
      "[Janet then pretends to have dozed off. Hope giggles as Janet snores. Hank walks up to his daughter.\n",
      "Hank: Goodbye, sweetheart. Alright, we'll see you soon. [He kisses Hope on the forehead. He then touches Janet's shoulder.]\n",
      "[Janet snorts \"awake.\" Both girls giggle.] \n",
      "Hank: [voiceover] I wish we could have put down our bags, and tucked you back into your bed, but too many lives were at stake. \n",
      "[Cut to a shrunken Janet and Hank flying onto a metal surface, leaves flying through the air.]\n",
      "Hank: Oh my god! They've already launched!\n",
      "[A missile flies up from the surface.]\n",
      "Janet: We have to stop it! Come on!\n",
      "[Hank grapples himself up on the bomb while Janet flies. As the missile rockets through the air, Hank and Janet hang onto the steel, desperately trying to disarm the missile.]\n",
      "Hank: [voiceover] The only way to disarm the missile was to get inside it, but the plating was too thick. The only way in was to shrink between the molecules. \n",
      "[Janet flies up beside Hank, putting a grapple line onto her waist.]\n",
      "Janet: I can't get through! Hank...\n",
      "[A landmass comes to view through the clouds, meaning the missile could wipe out that place any second.]\n",
      "Hank: [voiceover] We both knew that if you go that small, there's no coming back. \n",
      "[Hank tries to turn a button on his belt, but it sparks and fails. Janet watches.]\n",
      "Hank: [voiceover] It should have been me, but my regulator was damaged. Your mother's wasn't.\n",
      "[Janet flies up into the air and turns a button on her belt, making the red light flash.] \n",
      "Janet: Tell Hope I love her...\n",
      "Hank: [voiceover] She turned it off.\n",
      "Hank: Janet, no!  \n",
      "[Janet flies into the missile, and shrinks until she cannot be seen. She flies through various systems, disarming the machine and making sparks fly everywhere.]\n",
      "Hank: [voiceover} And went subatomic to deactivate the bomb. \n",
      "[The rocket tumbles and splashes into the ocean.]\n",
      "Hank: [voiceover] Your mother saves thousands of lives that day, knowing she'd be lost in the quantum realm. Alone. Afraid. Gone forever.\n",
      "[Young Hope looks back at the doorway and disrupts her playing to greet her father at the door, who looks tired and traumatized. Hope's lip quivers, and Hank pulls her in for an embrace.]\n",
      "Hank: [voiceover] Telling you that she wasn't coming home, was the hardest thing that I ever had to do.\n",
      "[Cut to present day, with a grown Hope and an older Hank.] But then Scott showed up...or should I say, broke into our house. And when he went to the Quantum Realm... he came back, everything changed. I started to wonder...could your mother still be alive? [Hank stands up, and Hope follows.] So I dusted off some old plans.\n",
      "[Hank pulls a rubber band off a rolled up white piece of paper and unfolds it on the huge table. The plans are a blueprint for a \"quantum tunnel.\"]\n",
      "Hope: Dad, what are you saying?\n",
      "Hank: I think it's possible to bring her back.\n",
      "[Present Day]\n",
      "Scott: Okay. We're in. [A flashlight clicks and turns on, illuminating Scott's face. He shines the light around.] Aw, this place is a maze. Where's that map? ['Scott grabs the map and shines the flashlight on it] We're definitely close. [Scott lowers the map to reveal his ten year old daughter, Cassie, is with him.] Are you ready?\n",
      "Cassie: I'm ready, Daddy.\n",
      "Scott: Are you sure? Cause once we're inside, you show any hesitation or fear, we're done.\n",
      "Cassie: I eat fear for breakfast.\n",
      "Scott: Wow. That is super cool. Come on.\n",
      "[Scott and Cassie crawl through the cardboard maze; a fake ant face shows up]\n",
      "Scott: Look! It's Anton. He'll show us the way. Anton, which way do we go? [There's silence. Scott sighs.] (louder) Anton, which way do we go?!\n",
      "[Startled, Luis quickly gets up and runs toward the cardboard maze; he grabs two strings and pulls, making the ant's limbs point right.]\n",
      "Scott: Thanks Anton!\n",
      "[Luis runs back to his computer; Scott and Cassie continue through the maze]\n",
      "Scott Lang: Look! The ants have burrowed into the tech facility.\n",
      "Cassie Lang: Oh, no! Lasers!\n",
      "[Pieces of red string appear with a red glow, making them look like real lasers. Cassie wiggles through the \"lasers\" with ease; Scott gets tangled by one]\n",
      "Scott Lang: Oh! I think I got lased!\n",
      "[The duo make their way through the lasers; A green, glowing \"eye scanner\" appears]\n",
      "Scott Lang: The secret vault. Tell me you brought the contact lens.\n",
      "Cassie Lang: Yup! \n",
      "[Cassie puts a huge paper plate with an eye drawn on it over her face.]\n",
      "Scott Lang: Perfect! Right there.\n",
      "[Scott pulls a lever; the glowing disc dings. Cassie takes the lens off her face; the cardboard doors open]\n",
      "Cassie Lang: There! It's the microtreasure!\n",
      "[A small trophy is on a plate.]\n",
      "Scott Lang: My trophy?\n",
      "Cassie Lang: It looks like treasure.\n",
      "Scott Lang: Oh, it is to me.\n",
      "Cassie Lang: I wanna take it to show and tell.\n",
      "Scott Lang: Oh, you can't do that. Can't. It never leaves the house. It's too important. This is the best birthday present you ever got me. I'm so touched you think I'm the 'World's Greatest Grandma.'\"\n",
      "[The camera cuts to the trophy plaque, which indeed says 'World's Greatest Grandma.']\n",
      "Cassie: (giggles) It was the only one they had.\n",
      "Scott: Makes me wanna knit you a sweater. \n",
      "[Luis lifts up the sheet covering the maze, laptop in hand, so he can face Scott.]\n",
      "Cassie: Oh no! The fuzz! \n",
      "Luis: Hey, Scotty. I was looking at the schematics for the Karapetyan buildings, and I think we have way too many security cameras, don't we?\n",
      "Scott: No, no, not at all.\n",
      "Luis: You sure? 'Cause it's a lot of security cameras. \n",
      "Scott: I know what he needs. Who's the security expert in our business? \n",
      "Luis: You are, but I'm running the company, and if we oversell it, he's gonna go somewhere else. I mean, we gotta land this bird. \n",
      "Scott: He ain't goin' anywhere. And the expression is \"'land this fish.\"\n",
      "Luis: No. It's \"land the bird.\" Just like you land a plane. You gotta land the plane to be in business. \n",
      "Scott: I know it's silly to get hung up on these kinds of things, but I do.\n",
      "Luis: How am I gonna land a fish? It can't walk. And if it swam up on a shore, and it battled a hawk, who's gonna win?\n",
      "Scott: You really turned me around on this thing. It's okay. We're gonna land Karapetyan. Now, if you just excuse me, I'm in the middle of trying to steal something with my daughter. \n",
      "Luis: Imma go recheck it.\n",
      "[Scott pulls a string, making an alarm clock ring.]\n",
      "Cassie: To the escape ant. \n",
      "[A cardboard door lifts open.]\n",
      "Cassie: Let's bounce before the po-po come back. \n",
      "Scott: The po-po? How do you even know that? [Scott and Cassie get on a paper-mache ant.] Let's fly Antionette. Let's fly!\n",
      "[Scott pushes a stick holding the ant in place, causing it to slide down the stairs. Scott and Cassie scream and whoop as the ant slides through a cardboard slide down the stairs, through the hallway, and eventually down the porch steps into the backyard.]\n",
      "Scott: Crash landing! \n",
      "[Sure enough, the ant crashes into the fence. Scott and Cassie tumble into the ground in laughter. Cassie props herself up on her elbow.]\n",
      "Cassie: I wish we could shrink for real.\n",
      "Scott: Oh, that is pretty cool!\n",
      "[Luis sticks his head out the top window, calling out to Scott.]\n",
      "Luis: Hey, I'm headed to the office, Scotty. And sorry about freaking out earlier, you know. But I feel like I'm way better. My heart is definitely beating way too hard and stuff, and my hands are shaking, but I think that's unrelated, you know?\n",
      "Scott: It's gonna be great, Luis. You got nothing to worry about. \n",
      "Luis: Yeah, yeah. I'm the boss, I'm the boss, I'm the boss... [Luis shrinks back into the house, almost trying to convince himself that it's going to be fine.]\n",
      "[There's a shrill beeping.]\n",
      "Cassie: [points] Daddy!\n",
      "[The camera shows a black attachment outside the house beeping and blinking a red light. Scott looks at it in fear, then looks at his left foot, which is through the hole in the fence. Scott groans.]\n",
      "[Cut to FBI agents looking through Scott's house. Agent Woo looks through the house, Scott and Cassie following him.] \n",
      "Scott: Come on, Woo! I got three days left. Why would I try to escape? \n",
      "Woo: I'm sorry, Scott, but rules are rules. You trip the perimeter alarm, we search the place. Keel to stern. Soup to nuts. \n",
      "[A woman accidentally bumps the lampstand, sending a glass object to the ground. Scott looks as it shatters.]\n",
      "Scott: ['sarcastically to the woman] Thank you. [to Woo] It was an accident. My foot went through the fence. \n",
      "Cassie: Our flying ant crashed.\n",
      "[Woo looks at Scott in confusion and concern.]\n",
      "Scott: Hey, you try entertaining a ten-year-old when you can't leave the house. You know the lengths that I've gone to? [Scott holds up his hand, and flicks it, making an Ace of Spades card appear in his hand out of thin air.] Close up magic. [He flicks the card away before putting his hand behind Cassie's ear and making another Ace of Spades return to his hand. He tosses it behind again.] I learned that. \n",
      "Cassie: Why can't you just leave my daddy alone?\n",
      "[Woo looks to Scott in amusement before kneeling down to face Cassie at eye-level.]\n",
      "Woo: Oh, Cassie. This must all seem like a bunch of confusing grown-up stuff to you, huh? Well, think of it this way: Your school has rules, right? Like...You can't draw on the walls. Well, your Daddy went to Germany anddrew on the walls with Captain America. An\n"
     ]
    }
   ],
   "source": [
    "start_script = 292\n",
    "script_clean = script[start_script:]\n",
    "print(script_clean[:10000])"
   ]
  },
  {
   "cell_type": "markdown",
   "id": "71c9e6c2-52aa-468d-a144-1b7ad70d368c",
   "metadata": {},
   "source": [
    "## Find Characters"
   ]
  },
  {
   "cell_type": "code",
   "execution_count": 8,
   "id": "5bf577c4-1293-431e-bebe-7fec805ca5dd",
   "metadata": {},
   "outputs": [
    {
     "data": {
      "text/html": [
       "<pre>✔️ 16 ms (2021-12-10T10:48:11/2021-12-10T10:48:11)</pre>"
      ],
      "text/plain": [
       "<IPython.core.display.HTML object>"
      ]
     },
     "metadata": {},
     "output_type": "display_data"
    },
    {
     "name": "stdout",
     "output_type": "stream",
     "text": [
      "20\n"
     ]
    },
    {
     "data": {
      "text/html": [
       "<div>\n",
       "<style scoped>\n",
       "    .dataframe tbody tr th:only-of-type {\n",
       "        vertical-align: middle;\n",
       "    }\n",
       "\n",
       "    .dataframe tbody tr th {\n",
       "        vertical-align: top;\n",
       "    }\n",
       "\n",
       "    .dataframe thead th {\n",
       "        text-align: right;\n",
       "    }\n",
       "</style>\n",
       "<table border=\"1\" class=\"dataframe\">\n",
       "  <thead>\n",
       "    <tr style=\"text-align: right;\">\n",
       "      <th></th>\n",
       "      <th>character</th>\n",
       "      <th>line_count</th>\n",
       "    </tr>\n",
       "  </thead>\n",
       "  <tbody>\n",
       "    <tr>\n",
       "      <th>15</th>\n",
       "      <td>Scott</td>\n",
       "      <td>80</td>\n",
       "    </tr>\n",
       "    <tr>\n",
       "      <th>8</th>\n",
       "      <td>Hope</td>\n",
       "      <td>53</td>\n",
       "    </tr>\n",
       "    <tr>\n",
       "      <th>6</th>\n",
       "      <td>Hank</td>\n",
       "      <td>44</td>\n",
       "    </tr>\n",
       "    <tr>\n",
       "      <th>12</th>\n",
       "      <td>Luis</td>\n",
       "      <td>26</td>\n",
       "    </tr>\n",
       "    <tr>\n",
       "      <th>2</th>\n",
       "      <td>Cassie</td>\n",
       "      <td>19</td>\n",
       "    </tr>\n",
       "    <tr>\n",
       "      <th>17</th>\n",
       "      <td>Sonny</td>\n",
       "      <td>18</td>\n",
       "    </tr>\n",
       "    <tr>\n",
       "      <th>9</th>\n",
       "      <td>Janet</td>\n",
       "      <td>10</td>\n",
       "    </tr>\n",
       "    <tr>\n",
       "      <th>16</th>\n",
       "      <td>Scott Lang</td>\n",
       "      <td>7</td>\n",
       "    </tr>\n",
       "    <tr>\n",
       "      <th>13</th>\n",
       "      <td>Maggie</td>\n",
       "      <td>7</td>\n",
       "    </tr>\n",
       "    <tr>\n",
       "      <th>18</th>\n",
       "      <td>Woo</td>\n",
       "      <td>6</td>\n",
       "    </tr>\n",
       "    <tr>\n",
       "      <th>3</th>\n",
       "      <td>Cassie Lang</td>\n",
       "      <td>5</td>\n",
       "    </tr>\n",
       "    <tr>\n",
       "      <th>11</th>\n",
       "      <td>Kurt</td>\n",
       "      <td>5</td>\n",
       "    </tr>\n",
       "    <tr>\n",
       "      <th>14</th>\n",
       "      <td>Paxton</td>\n",
       "      <td>5</td>\n",
       "    </tr>\n",
       "    <tr>\n",
       "      <th>19</th>\n",
       "      <td>Young Hope</td>\n",
       "      <td>3</td>\n",
       "    </tr>\n",
       "    <tr>\n",
       "      <th>4</th>\n",
       "      <td>Dave</td>\n",
       "      <td>3</td>\n",
       "    </tr>\n",
       "    <tr>\n",
       "      <th>1</th>\n",
       "      <td>Ava</td>\n",
       "      <td>3</td>\n",
       "    </tr>\n",
       "    <tr>\n",
       "      <th>0</th>\n",
       "      <td>Ant-Man</td>\n",
       "      <td>2</td>\n",
       "    </tr>\n",
       "    <tr>\n",
       "      <th>7</th>\n",
       "      <td>Hanks</td>\n",
       "      <td>1</td>\n",
       "    </tr>\n",
       "    <tr>\n",
       "      <th>5</th>\n",
       "      <td>Ghost</td>\n",
       "      <td>1</td>\n",
       "    </tr>\n",
       "    <tr>\n",
       "      <th>10</th>\n",
       "      <td>Jimmy Woo</td>\n",
       "      <td>1</td>\n",
       "    </tr>\n",
       "  </tbody>\n",
       "</table>\n",
       "</div>"
      ],
      "text/plain": [
       "      character  line_count\n",
       "15        Scott          80\n",
       "8          Hope          53\n",
       "6          Hank          44\n",
       "12         Luis          26\n",
       "2        Cassie          19\n",
       "17        Sonny          18\n",
       "9         Janet          10\n",
       "16   Scott Lang           7\n",
       "13       Maggie           7\n",
       "18          Woo           6\n",
       "3   Cassie Lang           5\n",
       "11         Kurt           5\n",
       "14       Paxton           5\n",
       "19   Young Hope           3\n",
       "4          Dave           3\n",
       "1           Ava           3\n",
       "0       Ant-Man           2\n",
       "7         Hanks           1\n",
       "5         Ghost           1\n",
       "10    Jimmy Woo           1"
      ]
     },
     "execution_count": 8,
     "metadata": {},
     "output_type": "execute_result"
    }
   ],
   "source": [
    "characters = np.unique(re.findall(string=script, pattern='\\n((?:[A-Z][a-z]+[\\-\\.]? ?)+):'), return_counts=True)\n",
    "characters = pd.DataFrame(zip(characters[0], characters[1]), columns=['character', 'line_count'])\n",
    "print(len(characters))\n",
    "characters.sort_values(['line_count'], ascending=False)"
   ]
  },
  {
   "cell_type": "markdown",
   "id": "8dc5de33-8eca-43dd-8068-096a3e26d5c8",
   "metadata": {},
   "source": [
    "## Remove Narration"
   ]
  },
  {
   "cell_type": "code",
   "execution_count": 9,
   "id": "103780fd-96d8-4cf0-b6d9-8bac1837d6fa",
   "metadata": {},
   "outputs": [
    {
     "data": {
      "text/html": [
       "<pre>✔️ 0 ns (2021-12-10T10:48:11/2021-12-10T10:48:11)</pre>"
      ],
      "text/plain": [
       "<IPython.core.display.HTML object>"
      ]
     },
     "metadata": {},
     "output_type": "display_data"
    },
    {
     "name": "stdout",
     "output_type": "stream",
     "text": [
      "This transcript is not finished!This page does not have the entire transcript.It is recommended to add the complete transcript.\n",
      "\n",
      "This article is a stub. You can help Transcripts Wiki by  expanding it.     \n",
      "\n",
      "\n",
      "\n",
      " Previous transcript:\n",
      " Next transcript:\n",
      "\n",
      "\n",
      " Avengers: Infinity War\n",
      " Captain Marvel\n",
      "\n",
      "Hank:  I still think about the night your mother and I had to leave you...\n",
      "Janet:  Hopefully, it's not for long, but I'll call you when we get settled.When I have a better indication of what's going on.\n",
      "Young Hope: Mommy?\n",
      "Janet: Oh, Jellybean.  Daddy and I have a last minute business trip, so Rose is going to stay with you for a few days.\n",
      "Young Hope: No. I don't want you to go.\n",
      "Janet: Ugh! It's gonna be so boring! I won't be able to keep my... eyes...\n",
      "Hank: Goodbye, sweetheart. Alright, we'll see you soon.  \n",
      "Hank:  I wish we could have put down our bags, and tucked you back into your bed, but too many lives were at stake. \n",
      "Hank: Oh my god! They've already launched!\n",
      "Janet: We have to stop it! Come on\n"
     ]
    }
   ],
   "source": [
    "script_lines_only = re.sub(string=script, pattern='(\\[.*\\])\\n?', repl='')\n",
    "script_lines_only = re.sub(string=script_lines_only, pattern='\\n(\\[.*\\]?)\\n', repl='\\n')\n",
    "script_lines_only = re.sub(string=script_lines_only, pattern='\\n(\\(.*\\)?)\\n', repl='\\n')\n",
    "script_lines_only = re.sub(string=script_lines_only, pattern='\\xa0', repl=' ')\n",
    "\n",
    "print(script_lines_only[:1000])"
   ]
  },
  {
   "cell_type": "markdown",
   "id": "7a339a3b-56c5-479d-a48e-ca0f95409000",
   "metadata": {},
   "source": [
    "## Charactater Line Extractions"
   ]
  },
  {
   "cell_type": "code",
   "execution_count": 10,
   "id": "f5f28a33-0153-40be-afdb-9c52495b8e2c",
   "metadata": {},
   "outputs": [
    {
     "data": {
      "text/html": [
       "<pre>✔️ 0 ns (2021-12-10T10:48:11/2021-12-10T10:48:11)</pre>"
      ],
      "text/plain": [
       "<IPython.core.display.HTML object>"
      ]
     },
     "metadata": {},
     "output_type": "display_data"
    },
    {
     "name": "stdout",
     "output_type": "stream",
     "text": [
      "SCOTT        88\n",
      "HOPE         57\n",
      "HANK         44\n",
      "LUIS         26\n",
      "CASSIE       23\n",
      "SONNY        18\n",
      "JANET        10\n",
      "WOO           6\n",
      "MAGGIE        6\n",
      "PAXTON        5\n",
      "KURT          5\n",
      "DAVE          3\n",
      "AVA           3\n",
      "ANT-MAN       2\n",
      "GHOST         1\n",
      "VIDEO         1\n",
      "JIMMY WOO     1\n",
      "AVENGERS      1\n",
      "Name: character, dtype: int64\n"
     ]
    },
    {
     "data": {
      "text/html": [
       "<div>\n",
       "<style scoped>\n",
       "    .dataframe tbody tr th:only-of-type {\n",
       "        vertical-align: middle;\n",
       "    }\n",
       "\n",
       "    .dataframe tbody tr th {\n",
       "        vertical-align: top;\n",
       "    }\n",
       "\n",
       "    .dataframe thead th {\n",
       "        text-align: right;\n",
       "    }\n",
       "</style>\n",
       "<table border=\"1\" class=\"dataframe\">\n",
       "  <thead>\n",
       "    <tr style=\"text-align: right;\">\n",
       "      <th></th>\n",
       "      <th>character</th>\n",
       "      <th>line</th>\n",
       "    </tr>\n",
       "  </thead>\n",
       "  <tbody>\n",
       "    <tr>\n",
       "      <th>0</th>\n",
       "      <td>AVENGERS</td>\n",
       "      <td>Infinity War</td>\n",
       "    </tr>\n",
       "    <tr>\n",
       "      <th>1</th>\n",
       "      <td>HANK</td>\n",
       "      <td>I still think about the night your mother and ...</td>\n",
       "    </tr>\n",
       "    <tr>\n",
       "      <th>2</th>\n",
       "      <td>JANET</td>\n",
       "      <td>Hopefully, it's not for long, but I'll call yo...</td>\n",
       "    </tr>\n",
       "    <tr>\n",
       "      <th>3</th>\n",
       "      <td>HOPE</td>\n",
       "      <td>Mommy?</td>\n",
       "    </tr>\n",
       "    <tr>\n",
       "      <th>4</th>\n",
       "      <td>JANET</td>\n",
       "      <td>Oh, Jellybean.  Daddy and I have a last minute...</td>\n",
       "    </tr>\n",
       "  </tbody>\n",
       "</table>\n",
       "</div>"
      ],
      "text/plain": [
       "  character                                               line\n",
       "0  AVENGERS                                       Infinity War\n",
       "1      HANK  I still think about the night your mother and ...\n",
       "2     JANET  Hopefully, it's not for long, but I'll call yo...\n",
       "3      HOPE                                             Mommy?\n",
       "4     JANET  Oh, Jellybean.  Daddy and I have a last minute..."
      ]
     },
     "execution_count": 10,
     "metadata": {},
     "output_type": "execute_result"
    }
   ],
   "source": [
    "character_lines = re.findall(string=script_lines_only, pattern='((?:[A-Z][a-z]+[\\-\\.]? ?)+):\\s*(.*)')\n",
    "character_lines = pd.DataFrame(character_lines, columns=['character', 'line'])\n",
    "character_lines['character'] = [x.rstrip().lstrip().replace(' Lang', '').replace('Young ', '') if x != 'Hanks' else 'Hank' for x in character_lines['character']]\n",
    "character_lines['character'] = character_lines['character'].apply(str.upper)\n",
    "character_lines['line'] = [x.rstrip().lstrip() for x in character_lines['line']]\n",
    "print(character_lines['character'].value_counts())\n",
    "character_lines.head()"
   ]
  },
  {
   "cell_type": "markdown",
   "id": "a9129a88-1a5a-4a81-a96c-e63c048012a3",
   "metadata": {},
   "source": [
    "## Save Lines as CSV"
   ]
  },
  {
   "cell_type": "code",
   "execution_count": 11,
   "id": "cecf1167-9e28-476e-a864-fff02efceaf6",
   "metadata": {},
   "outputs": [
    {
     "data": {
      "text/html": [
       "<pre>✔️ 0 ns (2021-12-10T10:48:13/2021-12-10T10:48:13)</pre>"
      ],
      "text/plain": [
       "<IPython.core.display.HTML object>"
      ]
     },
     "metadata": {},
     "output_type": "display_data"
    }
   ],
   "source": [
    "character_lines.to_csv('../clean_data/ant_man_and_wasp.csv', index=False)"
   ]
  },
  {
   "cell_type": "code",
   "execution_count": null,
   "id": "56957858-c380-4e6d-8f21-eb015ef4c4da",
   "metadata": {},
   "outputs": [],
   "source": []
  }
 ],
 "metadata": {
  "kernelspec": {
   "display_name": "Python 3 (ipykernel)",
   "language": "python",
   "name": "python3"
  },
  "language_info": {
   "codemirror_mode": {
    "name": "ipython",
    "version": 3
   },
   "file_extension": ".py",
   "mimetype": "text/x-python",
   "name": "python",
   "nbconvert_exporter": "python",
   "pygments_lexer": "ipython3",
   "version": "3.9.7"
  }
 },
 "nbformat": 4,
 "nbformat_minor": 5
}

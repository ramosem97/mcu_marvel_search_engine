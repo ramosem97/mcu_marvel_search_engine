{
 "cells": [
  {
   "cell_type": "markdown",
   "id": "f3bdda6b-837b-45ae-843c-8c6c6cac8852",
   "metadata": {},
   "source": [
    "# MCU Scripts"
   ]
  },
  {
   "cell_type": "markdown",
   "id": "28f6f788-98ab-4b8e-99bc-b61351c3be07",
   "metadata": {},
   "source": [
    "## Configuration"
   ]
  },
  {
   "cell_type": "code",
   "execution_count": 27,
   "id": "0796cb39-d488-402f-b6d7-893d13898d6b",
   "metadata": {},
   "outputs": [
    {
     "data": {
      "text/html": [
       "<pre>✔️ 0 ns (2021-11-28T13:22:24/2021-11-28T13:22:24)</pre>"
      ],
      "text/plain": [
       "<IPython.core.display.HTML object>"
      ]
     },
     "metadata": {},
     "output_type": "display_data"
    },
    {
     "name": "stdout",
     "output_type": "stream",
     "text": [
      "The autotime extension is already loaded. To reload it, use:\n",
      "  %reload_ext autotime\n"
     ]
    }
   ],
   "source": [
    "%load_ext autotime"
   ]
  },
  {
   "cell_type": "code",
   "execution_count": 28,
   "id": "95f740cb-7a0c-4388-9be5-64e3bde29dde",
   "metadata": {},
   "outputs": [
    {
     "data": {
      "text/html": [
       "<pre>✔️ 0 ns (2021-11-28T13:22:25/2021-11-28T13:22:25)</pre>"
      ],
      "text/plain": [
       "<IPython.core.display.HTML object>"
      ]
     },
     "metadata": {},
     "output_type": "display_data"
    }
   ],
   "source": [
    "import pandas as pd\n",
    "import numpy as np\n",
    "\n",
    "import seaborn as sns\n",
    "import matplotlib.pyplot as plt\n",
    "\n",
    "import os"
   ]
  },
  {
   "cell_type": "code",
   "execution_count": 29,
   "id": "f8a832da-1352-4aee-80a8-88f549cbcdf2",
   "metadata": {},
   "outputs": [
    {
     "data": {
      "text/html": [
       "<pre>✔️ 0 ns (2021-11-28T13:22:25/2021-11-28T13:22:25)</pre>"
      ],
      "text/plain": [
       "<IPython.core.display.HTML object>"
      ]
     },
     "metadata": {},
     "output_type": "display_data"
    }
   ],
   "source": [
    "import re"
   ]
  },
  {
   "cell_type": "markdown",
   "id": "2d68845b-c7d3-475c-a232-661e707cd024",
   "metadata": {},
   "source": [
    "## Analysis"
   ]
  },
  {
   "cell_type": "markdown",
   "id": "5b50d351-7546-43a0-8103-67441172b957",
   "metadata": {},
   "source": [
    "### About the Data"
   ]
  },
  {
   "cell_type": "markdown",
   "id": "0f01f66e-6a3d-4749-bd94-fd09de9330ea",
   "metadata": {},
   "source": [
    "#### Processed Scripts"
   ]
  },
  {
   "cell_type": "code",
   "execution_count": 30,
   "id": "bca738cd-cb58-4a79-9592-e1c960063f48",
   "metadata": {},
   "outputs": [
    {
     "data": {
      "text/html": [
       "<pre>✔️ 31 ms (2021-11-28T13:22:25/2021-11-28T13:22:25)</pre>"
      ],
      "text/plain": [
       "<IPython.core.display.HTML object>"
      ]
     },
     "metadata": {},
     "output_type": "display_data"
    },
    {
     "name": "stdout",
     "output_type": "stream",
     "text": [
      "Entries:  17164\n"
     ]
    },
    {
     "data": {
      "text/html": [
       "<div>\n",
       "<style scoped>\n",
       "    .dataframe tbody tr th:only-of-type {\n",
       "        vertical-align: middle;\n",
       "    }\n",
       "\n",
       "    .dataframe tbody tr th {\n",
       "        vertical-align: top;\n",
       "    }\n",
       "\n",
       "    .dataframe thead th {\n",
       "        text-align: right;\n",
       "    }\n",
       "</style>\n",
       "<table border=\"1\" class=\"dataframe\">\n",
       "  <thead>\n",
       "    <tr style=\"text-align: right;\">\n",
       "      <th></th>\n",
       "      <th>character</th>\n",
       "      <th>line</th>\n",
       "      <th>movie</th>\n",
       "      <th>year</th>\n",
       "    </tr>\n",
       "  </thead>\n",
       "  <tbody>\n",
       "    <tr>\n",
       "      <th>0</th>\n",
       "      <td>TONY STARK</td>\n",
       "      <td>Oh, I get it.  You guys aren’t allowed to talk...</td>\n",
       "      <td>Iron Man</td>\n",
       "      <td>2008</td>\n",
       "    </tr>\n",
       "    <tr>\n",
       "      <th>1</th>\n",
       "      <td>IRON MAN JIMMY</td>\n",
       "      <td>No.  We’re allowed to talk.</td>\n",
       "      <td>Iron Man</td>\n",
       "      <td>2008</td>\n",
       "    </tr>\n",
       "    <tr>\n",
       "      <th>2</th>\n",
       "      <td>TONY STARK</td>\n",
       "      <td>Oh.  I see.  So it’s personal.</td>\n",
       "      <td>Iron Man</td>\n",
       "      <td>2008</td>\n",
       "    </tr>\n",
       "    <tr>\n",
       "      <th>3</th>\n",
       "      <td>RAMIREZ</td>\n",
       "      <td>I think they’re intimidated.</td>\n",
       "      <td>Iron Man</td>\n",
       "      <td>2008</td>\n",
       "    </tr>\n",
       "    <tr>\n",
       "      <th>4</th>\n",
       "      <td>TONY STARK</td>\n",
       "      <td>Good God, you’re a woman. I, honestly, I could...</td>\n",
       "      <td>Iron Man</td>\n",
       "      <td>2008</td>\n",
       "    </tr>\n",
       "  </tbody>\n",
       "</table>\n",
       "</div>"
      ],
      "text/plain": [
       "        character                                               line  \\\n",
       "0      TONY STARK  Oh, I get it.  You guys aren’t allowed to talk...   \n",
       "1  IRON MAN JIMMY                        No.  We’re allowed to talk.   \n",
       "2      TONY STARK                     Oh.  I see.  So it’s personal.   \n",
       "3         RAMIREZ                       I think they’re intimidated.   \n",
       "4      TONY STARK  Good God, you’re a woman. I, honestly, I could...   \n",
       "\n",
       "      movie  year  \n",
       "0  Iron Man  2008  \n",
       "1  Iron Man  2008  \n",
       "2  Iron Man  2008  \n",
       "3  Iron Man  2008  \n",
       "4  Iron Man  2008  "
      ]
     },
     "execution_count": 30,
     "metadata": {},
     "output_type": "execute_result"
    }
   ],
   "source": [
    "lines = pd.read_csv('../clean_data/mcu_data_clean_all.csv', index_col=0).reset_index(drop=True)[['character', 'line', 'movie', 'year']]\n",
    "print('Entries: ', len(lines))\n",
    "lines.head()"
   ]
  },
  {
   "cell_type": "code",
   "execution_count": 31,
   "id": "4fcd8803-393b-46d1-90a0-72ccfb0d1086",
   "metadata": {},
   "outputs": [
    {
     "data": {
      "text/html": [
       "<pre>✔️ 15 ms (2021-11-28T13:22:26/2021-11-28T13:22:26)</pre>"
      ],
      "text/plain": [
       "<IPython.core.display.HTML object>"
      ]
     },
     "metadata": {},
     "output_type": "display_data"
    },
    {
     "data": {
      "text/html": [
       "<div>\n",
       "<style scoped>\n",
       "    .dataframe tbody tr th:only-of-type {\n",
       "        vertical-align: middle;\n",
       "    }\n",
       "\n",
       "    .dataframe tbody tr th {\n",
       "        vertical-align: top;\n",
       "    }\n",
       "\n",
       "    .dataframe thead th {\n",
       "        text-align: right;\n",
       "    }\n",
       "</style>\n",
       "<table border=\"1\" class=\"dataframe\">\n",
       "  <thead>\n",
       "    <tr style=\"text-align: right;\">\n",
       "      <th></th>\n",
       "      <th>movie</th>\n",
       "      <th>year</th>\n",
       "    </tr>\n",
       "  </thead>\n",
       "  <tbody>\n",
       "    <tr>\n",
       "      <th>0</th>\n",
       "      <td>Ant-Man</td>\n",
       "      <td>2015</td>\n",
       "    </tr>\n",
       "    <tr>\n",
       "      <th>1</th>\n",
       "      <td>Ant-Man and the Wasp</td>\n",
       "      <td>2018</td>\n",
       "    </tr>\n",
       "    <tr>\n",
       "      <th>2</th>\n",
       "      <td>Avengers: Age of Ultron</td>\n",
       "      <td>2015</td>\n",
       "    </tr>\n",
       "    <tr>\n",
       "      <th>3</th>\n",
       "      <td>Avengers: Endgame</td>\n",
       "      <td>2019</td>\n",
       "    </tr>\n",
       "    <tr>\n",
       "      <th>4</th>\n",
       "      <td>Avengers: Infinity War</td>\n",
       "      <td>2018</td>\n",
       "    </tr>\n",
       "    <tr>\n",
       "      <th>5</th>\n",
       "      <td>Black Panther</td>\n",
       "      <td>2018</td>\n",
       "    </tr>\n",
       "    <tr>\n",
       "      <th>6</th>\n",
       "      <td>Captain America: Civil War</td>\n",
       "      <td>2016</td>\n",
       "    </tr>\n",
       "    <tr>\n",
       "      <th>7</th>\n",
       "      <td>Captain America: The First Avenger</td>\n",
       "      <td>2011</td>\n",
       "    </tr>\n",
       "    <tr>\n",
       "      <th>8</th>\n",
       "      <td>Captain America: The Winter Soldier</td>\n",
       "      <td>2014</td>\n",
       "    </tr>\n",
       "    <tr>\n",
       "      <th>9</th>\n",
       "      <td>Captain Marvel</td>\n",
       "      <td>2019</td>\n",
       "    </tr>\n",
       "    <tr>\n",
       "      <th>10</th>\n",
       "      <td>Doctor Strange</td>\n",
       "      <td>2016</td>\n",
       "    </tr>\n",
       "    <tr>\n",
       "      <th>11</th>\n",
       "      <td>Guardians of the Galaxy Vol. 2</td>\n",
       "      <td>2017</td>\n",
       "    </tr>\n",
       "    <tr>\n",
       "      <th>12</th>\n",
       "      <td>Iron Man</td>\n",
       "      <td>2008</td>\n",
       "    </tr>\n",
       "    <tr>\n",
       "      <th>13</th>\n",
       "      <td>Iron Man 2</td>\n",
       "      <td>2010</td>\n",
       "    </tr>\n",
       "    <tr>\n",
       "      <th>14</th>\n",
       "      <td>Iron Man 3</td>\n",
       "      <td>2013</td>\n",
       "    </tr>\n",
       "    <tr>\n",
       "      <th>15</th>\n",
       "      <td>Spider-Man: Homecoming</td>\n",
       "      <td>2017</td>\n",
       "    </tr>\n",
       "    <tr>\n",
       "      <th>16</th>\n",
       "      <td>The Avengers</td>\n",
       "      <td>2012</td>\n",
       "    </tr>\n",
       "    <tr>\n",
       "      <th>17</th>\n",
       "      <td>Thor</td>\n",
       "      <td>2011</td>\n",
       "    </tr>\n",
       "    <tr>\n",
       "      <th>18</th>\n",
       "      <td>Thor: Ragnarok</td>\n",
       "      <td>2017</td>\n",
       "    </tr>\n",
       "    <tr>\n",
       "      <th>19</th>\n",
       "      <td>Thor: The Dark World</td>\n",
       "      <td>2013</td>\n",
       "    </tr>\n",
       "  </tbody>\n",
       "</table>\n",
       "</div>"
      ],
      "text/plain": [
       "                                  movie  year\n",
       "0                               Ant-Man  2015\n",
       "1                  Ant-Man and the Wasp  2018\n",
       "2               Avengers: Age of Ultron  2015\n",
       "3                     Avengers: Endgame  2019\n",
       "4                Avengers: Infinity War  2018\n",
       "5                         Black Panther  2018\n",
       "6            Captain America: Civil War  2016\n",
       "7    Captain America: The First Avenger  2011\n",
       "8   Captain America: The Winter Soldier  2014\n",
       "9                        Captain Marvel  2019\n",
       "10                       Doctor Strange  2016\n",
       "11       Guardians of the Galaxy Vol. 2  2017\n",
       "12                             Iron Man  2008\n",
       "13                           Iron Man 2  2010\n",
       "14                           Iron Man 3  2013\n",
       "15               Spider-Man: Homecoming  2017\n",
       "16                         The Avengers  2012\n",
       "17                                 Thor  2011\n",
       "18                       Thor: Ragnarok  2017\n",
       "19                 Thor: The Dark World  2013"
      ]
     },
     "execution_count": 31,
     "metadata": {},
     "output_type": "execute_result"
    }
   ],
   "source": [
    "processed_movies = lines.groupby(['movie', 'year']).head(1)[['movie', 'year']].sort_values(['movie']).reset_index(drop=True)\n",
    "processed_movies"
   ]
  },
  {
   "cell_type": "markdown",
   "id": "e538aaf3-887a-40d3-97a2-63a433a839ab",
   "metadata": {},
   "source": [
    "#### Raw Scripts"
   ]
  },
  {
   "cell_type": "code",
   "execution_count": 32,
   "id": "55028b91-99c0-49e0-a0e3-597a77590650",
   "metadata": {},
   "outputs": [
    {
     "data": {
      "text/html": [
       "<pre>✔️ 47 ms (2021-11-28T13:22:28/2021-11-28T13:22:28)</pre>"
      ],
      "text/plain": [
       "<IPython.core.display.HTML object>"
      ]
     },
     "metadata": {},
     "output_type": "display_data"
    },
    {
     "name": "stdout",
     "output_type": "stream",
     "text": [
      "Entries:  23\n"
     ]
    },
    {
     "data": {
      "text/html": [
       "<div>\n",
       "<style scoped>\n",
       "    .dataframe tbody tr th:only-of-type {\n",
       "        vertical-align: middle;\n",
       "    }\n",
       "\n",
       "    .dataframe tbody tr th {\n",
       "        vertical-align: top;\n",
       "    }\n",
       "\n",
       "    .dataframe thead th {\n",
       "        text-align: right;\n",
       "    }\n",
       "</style>\n",
       "<table border=\"1\" class=\"dataframe\">\n",
       "  <thead>\n",
       "    <tr style=\"text-align: right;\">\n",
       "      <th></th>\n",
       "      <th>title</th>\n",
       "      <th>script</th>\n",
       "      <th>movie</th>\n",
       "      <th>year</th>\n",
       "      <th>script_length</th>\n",
       "    </tr>\n",
       "  </thead>\n",
       "  <tbody>\n",
       "    <tr>\n",
       "      <th>0</th>\n",
       "      <td>Ant-Man</td>\n",
       "      <td>Previous transcript:\\n Next transcript:\\n\\n\\n ...</td>\n",
       "      <td>Ant-Man</td>\n",
       "      <td>2015.0</td>\n",
       "      <td>82517</td>\n",
       "    </tr>\n",
       "    <tr>\n",
       "      <th>1</th>\n",
       "      <td>Ant-Man and the Wasp</td>\n",
       "      <td>This transcript is not finished!This page does...</td>\n",
       "      <td>Ant-Man and the Wasp</td>\n",
       "      <td>2018.0</td>\n",
       "      <td>67957</td>\n",
       "    </tr>\n",
       "    <tr>\n",
       "      <th>2</th>\n",
       "      <td>The Avengers</td>\n",
       "      <td>This transcript isn't tidy!This page's transcr...</td>\n",
       "      <td>The Avengers</td>\n",
       "      <td>2012.0</td>\n",
       "      <td>163543</td>\n",
       "    </tr>\n",
       "    <tr>\n",
       "      <th>3</th>\n",
       "      <td>Avengers: Age of Ultron</td>\n",
       "      <td>Previous transcript:\\n Next transcript:\\n\\n\\n ...</td>\n",
       "      <td>Avengers: Age of Ultron</td>\n",
       "      <td>2015.0</td>\n",
       "      <td>91399</td>\n",
       "    </tr>\n",
       "    <tr>\n",
       "      <th>4</th>\n",
       "      <td>Avengers: Endgame</td>\n",
       "      <td>Previous transcript:\\n Next transcript:\\n\\n\\n ...</td>\n",
       "      <td>Avengers: Endgame</td>\n",
       "      <td>2019.0</td>\n",
       "      <td>138200</td>\n",
       "    </tr>\n",
       "    <tr>\n",
       "      <th>5</th>\n",
       "      <td>Avengers: Infinity War</td>\n",
       "      <td>Previous transcript:\\n Next transcript:\\n\\n\\n ...</td>\n",
       "      <td>Avengers: Infinity War</td>\n",
       "      <td>2018.0</td>\n",
       "      <td>141191</td>\n",
       "    </tr>\n",
       "    <tr>\n",
       "      <th>6</th>\n",
       "      <td>Black Panther</td>\n",
       "      <td>This transcript isn't tidy!This page's transcr...</td>\n",
       "      <td>Black Panther</td>\n",
       "      <td>2018.0</td>\n",
       "      <td>201332</td>\n",
       "    </tr>\n",
       "    <tr>\n",
       "      <th>7</th>\n",
       "      <td>Captain America: Civil War</td>\n",
       "      <td>Previous transcript:\\n Next transcript:\\n\\n\\n ...</td>\n",
       "      <td>Captain America: Civil War</td>\n",
       "      <td>2016.0</td>\n",
       "      <td>127046</td>\n",
       "    </tr>\n",
       "    <tr>\n",
       "      <th>8</th>\n",
       "      <td>Captain America: The First Avenger</td>\n",
       "      <td>Previous transcript:\\n Next transcript:\\n\\n\\n ...</td>\n",
       "      <td>Captain America: The First Avenger</td>\n",
       "      <td>2011.0</td>\n",
       "      <td>71770</td>\n",
       "    </tr>\n",
       "    <tr>\n",
       "      <th>9</th>\n",
       "      <td>Captain America: The Winter Soldier</td>\n",
       "      <td>Previous transcript:\\n Next transcript:\\n\\n\\n ...</td>\n",
       "      <td>Captain America: The Winter Soldier</td>\n",
       "      <td>2014.0</td>\n",
       "      <td>98173</td>\n",
       "    </tr>\n",
       "    <tr>\n",
       "      <th>10</th>\n",
       "      <td>Captain Marvel</td>\n",
       "      <td>Previous transcript:\\n Next transcript:\\n\\n\\n ...</td>\n",
       "      <td>Captain Marvel</td>\n",
       "      <td>2019.0</td>\n",
       "      <td>94229</td>\n",
       "    </tr>\n",
       "    <tr>\n",
       "      <th>11</th>\n",
       "      <td>Doctor Strange</td>\n",
       "      <td>This transcript isn't tidy!This page's transcr...</td>\n",
       "      <td>Doctor Strange</td>\n",
       "      <td>2016.0</td>\n",
       "      <td>54685</td>\n",
       "    </tr>\n",
       "    <tr>\n",
       "      <th>12</th>\n",
       "      <td>Guardians of the Galaxy</td>\n",
       "      <td>Previous transcript:\\n Next transcript:\\n\\n\\n ...</td>\n",
       "      <td>NaN</td>\n",
       "      <td>NaN</td>\n",
       "      <td>67924</td>\n",
       "    </tr>\n",
       "    <tr>\n",
       "      <th>13</th>\n",
       "      <td>Guardians of the Galaxy Vol. 2</td>\n",
       "      <td>This transcript isn't tidy!This page's transcr...</td>\n",
       "      <td>Guardians of the Galaxy Vol. 2</td>\n",
       "      <td>2017.0</td>\n",
       "      <td>63728</td>\n",
       "    </tr>\n",
       "    <tr>\n",
       "      <th>14</th>\n",
       "      <td>Spider-Man: Homecoming</td>\n",
       "      <td>Previous transcript:\\n Next transcript:\\n\\n\\n ...</td>\n",
       "      <td>Spider-Man: Homecoming</td>\n",
       "      <td>2017.0</td>\n",
       "      <td>162553</td>\n",
       "    </tr>\n",
       "    <tr>\n",
       "      <th>15</th>\n",
       "      <td>Iron Man</td>\n",
       "      <td>This transcript isn't tidy!This page's transcr...</td>\n",
       "      <td>Iron Man</td>\n",
       "      <td>2008.0</td>\n",
       "      <td>76243</td>\n",
       "    </tr>\n",
       "    <tr>\n",
       "      <th>16</th>\n",
       "      <td>Iron Man 2</td>\n",
       "      <td>Previous transcript:\\n Next transcript:\\n\\n\\n ...</td>\n",
       "      <td>Iron Man 2</td>\n",
       "      <td>2010.0</td>\n",
       "      <td>86198</td>\n",
       "    </tr>\n",
       "    <tr>\n",
       "      <th>17</th>\n",
       "      <td>Iron Man 3</td>\n",
       "      <td>Previous transcript:\\n Next transcript:\\n\\n\\n ...</td>\n",
       "      <td>Iron Man 3</td>\n",
       "      <td>2013.0</td>\n",
       "      <td>97630</td>\n",
       "    </tr>\n",
       "    <tr>\n",
       "      <th>18</th>\n",
       "      <td>Spider-Man: Far From Home</td>\n",
       "      <td>This transcript is not finished!This page does...</td>\n",
       "      <td>NaN</td>\n",
       "      <td>NaN</td>\n",
       "      <td>103341</td>\n",
       "    </tr>\n",
       "    <tr>\n",
       "      <th>19</th>\n",
       "      <td>The Incredible Hulk</td>\n",
       "      <td>Previous transcript:\\n Next transcript:\\n\\n\\n ...</td>\n",
       "      <td>NaN</td>\n",
       "      <td>NaN</td>\n",
       "      <td>29346</td>\n",
       "    </tr>\n",
       "    <tr>\n",
       "      <th>20</th>\n",
       "      <td>Thor</td>\n",
       "      <td>Previous transcript:\\n Next transcript:\\n\\n\\n ...</td>\n",
       "      <td>Thor</td>\n",
       "      <td>2011.0</td>\n",
       "      <td>242605</td>\n",
       "    </tr>\n",
       "    <tr>\n",
       "      <th>21</th>\n",
       "      <td>Thor: Ragnarok</td>\n",
       "      <td>Previous transcript:\\n Next transcript:\\n\\n\\n ...</td>\n",
       "      <td>Thor: Ragnarok</td>\n",
       "      <td>2017.0</td>\n",
       "      <td>202999</td>\n",
       "    </tr>\n",
       "    <tr>\n",
       "      <th>22</th>\n",
       "      <td>Thor: The Dark World</td>\n",
       "      <td>Previous transcript:\\n Next transcript:\\n\\n\\n ...</td>\n",
       "      <td>Thor: The Dark World</td>\n",
       "      <td>2013.0</td>\n",
       "      <td>77065</td>\n",
       "    </tr>\n",
       "  </tbody>\n",
       "</table>\n",
       "</div>"
      ],
      "text/plain": [
       "                                  title  \\\n",
       "0                               Ant-Man   \n",
       "1                  Ant-Man and the Wasp   \n",
       "2                          The Avengers   \n",
       "3               Avengers: Age of Ultron   \n",
       "4                     Avengers: Endgame   \n",
       "5                Avengers: Infinity War   \n",
       "6                         Black Panther   \n",
       "7            Captain America: Civil War   \n",
       "8    Captain America: The First Avenger   \n",
       "9   Captain America: The Winter Soldier   \n",
       "10                       Captain Marvel   \n",
       "11                       Doctor Strange   \n",
       "12              Guardians of the Galaxy   \n",
       "13       Guardians of the Galaxy Vol. 2   \n",
       "14               Spider-Man: Homecoming   \n",
       "15                             Iron Man   \n",
       "16                           Iron Man 2   \n",
       "17                           Iron Man 3   \n",
       "18            Spider-Man: Far From Home   \n",
       "19                  The Incredible Hulk   \n",
       "20                                 Thor   \n",
       "21                       Thor: Ragnarok   \n",
       "22                 Thor: The Dark World   \n",
       "\n",
       "                                               script  \\\n",
       "0   Previous transcript:\\n Next transcript:\\n\\n\\n ...   \n",
       "1   This transcript is not finished!This page does...   \n",
       "2   This transcript isn't tidy!This page's transcr...   \n",
       "3   Previous transcript:\\n Next transcript:\\n\\n\\n ...   \n",
       "4   Previous transcript:\\n Next transcript:\\n\\n\\n ...   \n",
       "5   Previous transcript:\\n Next transcript:\\n\\n\\n ...   \n",
       "6   This transcript isn't tidy!This page's transcr...   \n",
       "7   Previous transcript:\\n Next transcript:\\n\\n\\n ...   \n",
       "8   Previous transcript:\\n Next transcript:\\n\\n\\n ...   \n",
       "9   Previous transcript:\\n Next transcript:\\n\\n\\n ...   \n",
       "10  Previous transcript:\\n Next transcript:\\n\\n\\n ...   \n",
       "11  This transcript isn't tidy!This page's transcr...   \n",
       "12  Previous transcript:\\n Next transcript:\\n\\n\\n ...   \n",
       "13  This transcript isn't tidy!This page's transcr...   \n",
       "14  Previous transcript:\\n Next transcript:\\n\\n\\n ...   \n",
       "15  This transcript isn't tidy!This page's transcr...   \n",
       "16  Previous transcript:\\n Next transcript:\\n\\n\\n ...   \n",
       "17  Previous transcript:\\n Next transcript:\\n\\n\\n ...   \n",
       "18  This transcript is not finished!This page does...   \n",
       "19  Previous transcript:\\n Next transcript:\\n\\n\\n ...   \n",
       "20  Previous transcript:\\n Next transcript:\\n\\n\\n ...   \n",
       "21  Previous transcript:\\n Next transcript:\\n\\n\\n ...   \n",
       "22  Previous transcript:\\n Next transcript:\\n\\n\\n ...   \n",
       "\n",
       "                                  movie    year  script_length  \n",
       "0                               Ant-Man  2015.0          82517  \n",
       "1                  Ant-Man and the Wasp  2018.0          67957  \n",
       "2                          The Avengers  2012.0         163543  \n",
       "3               Avengers: Age of Ultron  2015.0          91399  \n",
       "4                     Avengers: Endgame  2019.0         138200  \n",
       "5                Avengers: Infinity War  2018.0         141191  \n",
       "6                         Black Panther  2018.0         201332  \n",
       "7            Captain America: Civil War  2016.0         127046  \n",
       "8    Captain America: The First Avenger  2011.0          71770  \n",
       "9   Captain America: The Winter Soldier  2014.0          98173  \n",
       "10                       Captain Marvel  2019.0          94229  \n",
       "11                       Doctor Strange  2016.0          54685  \n",
       "12                                  NaN     NaN          67924  \n",
       "13       Guardians of the Galaxy Vol. 2  2017.0          63728  \n",
       "14               Spider-Man: Homecoming  2017.0         162553  \n",
       "15                             Iron Man  2008.0          76243  \n",
       "16                           Iron Man 2  2010.0          86198  \n",
       "17                           Iron Man 3  2013.0          97630  \n",
       "18                                  NaN     NaN         103341  \n",
       "19                                  NaN     NaN          29346  \n",
       "20                                 Thor  2011.0         242605  \n",
       "21                       Thor: Ragnarok  2017.0         202999  \n",
       "22                 Thor: The Dark World  2013.0          77065  "
      ]
     },
     "execution_count": 32,
     "metadata": {},
     "output_type": "execute_result"
    }
   ],
   "source": [
    "df = pd.read_csv('../raw_data/mcu_scipts.csv', index_col=0).merge(processed_movies, right_on=['movie'], left_on=['title'], how='left')\n",
    "df['script_length'] = df['script'].apply(len)\n",
    "print('Entries: ', len(df))\n",
    "df.head(23)"
   ]
  },
  {
   "cell_type": "code",
   "execution_count": 62,
   "id": "83c7dbba-7e2b-4b8d-a945-b744818821b0",
   "metadata": {
    "tags": []
   },
   "outputs": [
    {
     "data": {
      "text/html": [
       "<pre>✔️ 3.33 s (2021-11-28T13:49:37/2021-11-28T13:49:41)</pre>"
      ],
      "text/plain": [
       "<IPython.core.display.HTML object>"
      ]
     },
     "metadata": {},
     "output_type": "display_data"
    }
   ],
   "source": [
    "from pdfminer3.layout import LAParams, LTTextBox\n",
    "from pdfminer3.pdfpage import PDFPage\n",
    "from pdfminer3.pdfinterp import PDFResourceManager\n",
    "from pdfminer3.pdfinterp import PDFPageInterpreter\n",
    "from pdfminer3.converter import PDFPageAggregator\n",
    "from pdfminer3.converter import TextConverter\n",
    "import io\n",
    "\n",
    "resource_manager = PDFResourceManager()\n",
    "fake_file_handle = io.StringIO()\n",
    "converter = TextConverter(resource_manager, fake_file_handle, laparams=LAParams())\n",
    "page_interpreter = PDFPageInterpreter(resource_manager, converter)\n",
    "\n",
    "with open('../raw_data/incredible20hulk2c20the.pdf', 'rb') as fh:\n",
    "\n",
    "    for page in PDFPage.get_pages(fh,\n",
    "                                  caching=True,\n",
    "                                  check_extractable=True):\n",
    "        page_interpreter.process_page(page)\n",
    "\n",
    "    script = fake_file_handle.getvalue()\n",
    "\n",
    "# close open handles\n",
    "converter.close()\n",
    "fake_file_handle.close()"
   ]
  },
  {
   "cell_type": "code",
   "execution_count": 63,
   "id": "bc2bd97e-3a5e-4a9c-83a5-829e957d530d",
   "metadata": {},
   "outputs": [
    {
     "data": {
      "text/html": [
       "<pre>✔️ 0 ns (2021-11-28T13:49:41/2021-11-28T13:49:41)</pre>"
      ],
      "text/plain": [
       "<IPython.core.display.HTML object>"
      ]
     },
     "metadata": {},
     "output_type": "display_data"
    },
    {
     "name": "stdout",
     "output_type": "stream",
     "text": [
      "The Incredible Hulk 2008\n",
      "TIH\n",
      "\n",
      "Part 1:  Flight\n",
      "\n",
      "Edward Norton\n",
      "\n",
      "First Draft\n",
      "05-13-07\n",
      "\n",
      "\f",
      "We have only to follow the thread of the hero \n",
      "path, \n",
      "\n",
      "and where we had thought to find an \n",
      "Abomination, we shall find a God...\n",
      "\n",
      "And where w\n"
     ]
    }
   ],
   "source": [
    "movie_idx=19\n",
    "# script = df.script.values[movie_idx]\n",
    "movie_year = 2008\n",
    "movie_title = df.title.values[movie_idx]\n",
    "print(movie_title, movie_year)\n",
    "print(script[:200])"
   ]
  },
  {
   "cell_type": "markdown",
   "id": "5a0009b1-9e11-4ffe-a279-fd5f245e15f1",
   "metadata": {},
   "source": [
    "# Cleaning Up Script"
   ]
  },
  {
   "cell_type": "markdown",
   "id": "09862165-5241-4f25-b439-56c0dd9f53f0",
   "metadata": {},
   "source": [
    "## Find Actual Start of Script"
   ]
  },
  {
   "cell_type": "code",
   "execution_count": 70,
   "id": "0216a7d4-dd03-4618-b2e2-863ad847b048",
   "metadata": {
    "tags": []
   },
   "outputs": [
    {
     "data": {
      "text/html": [
       "<pre>✔️ 16 ms (2021-11-28T13:50:13/2021-11-28T13:50:13)</pre>"
      ],
      "text/plain": [
       "<IPython.core.display.HTML object>"
      ]
     },
     "metadata": {},
     "output_type": "display_data"
    },
    {
     "name": "stdout",
     "output_type": "stream",
     "text": [
      "\f",
      "We have only to follow the thread of the hero \n",
      "path, \n",
      "\n",
      "and where we had thought to find an \n",
      "Abomination, we shall find a God...\n",
      "\n",
      "And where we had thought to be alone, \n",
      "we will be with all the world.\n",
      "\n",
      "Joseph Campbell\n",
      "\n",
      "\f",
      "BLACK: THE SOUND OF COLD WIND\n",
      "\n",
      "EXT. DECK OF AN ICE-BREAKING TUG BOAT - ARCTIC SEA - DAY\n",
      "A battered old rescue tug churns north through broken pack ice.\n",
      "A MAN stands in the prow staring at the world of ice. A wasteland.\n",
      "He signals up to CAPTAIN. The boat slows to a halt. The man \n",
      "shoulders a small pack. He climbs over onto a ladder and descends \n",
      "onto the frozen edge of the pack ice.  He turns his back on the \n",
      "boat and starts walking toward the distant shore.\n",
      "The CAPTAIN stares at the receding figure, expressionless. He \n",
      "pushes the throttle forward and the boat moves on.\n",
      "\n",
      "EXT. GLACIER EDGE - DAY\n",
      "Small in the frame the man trudges resolute toward nothing. The \n",
      "wind starting to whip up. \n",
      "He climbs through the maze of ice and rock to reach the plateau of \n",
      "the glacier.  He sto\n"
     ]
    }
   ],
   "source": [
    "start_script = 59\n",
    "script_clean = script[start_script:]\n",
    "print(script_clean[0:1000])"
   ]
  },
  {
   "cell_type": "markdown",
   "id": "71c9e6c2-52aa-468d-a144-1b7ad70d368c",
   "metadata": {},
   "source": [
    "## Find Characters"
   ]
  },
  {
   "cell_type": "code",
   "execution_count": null,
   "id": "5bf577c4-1293-431e-bebe-7fec805ca5dd",
   "metadata": {},
   "outputs": [
    {
     "data": {
      "text/html": [
       "<pre></pre>"
      ],
      "text/plain": [
       "<IPython.core.display.HTML object>"
      ]
     },
     "metadata": {},
     "output_type": "display_data"
    }
   ],
   "source": [
    "characters = np.unique(re.findall(string=script_clean, pattern='((?:[A-Z]+ ?)+)\\n'), return_counts=True)\n",
    "characters = pd.DataFrame(zip(characters[0], characters[1]), columns=['character', 'line_count'])\n",
    "print(len(characters))\n",
    "characters.sort_values(['line_count'], ascending=False)"
   ]
  },
  {
   "cell_type": "markdown",
   "id": "8dc5de33-8eca-43dd-8068-096a3e26d5c8",
   "metadata": {},
   "source": [
    "## Remove Narration"
   ]
  },
  {
   "cell_type": "code",
   "execution_count": 47,
   "id": "103780fd-96d8-4cf0-b6d9-8bac1837d6fa",
   "metadata": {},
   "outputs": [
    {
     "data": {
      "text/html": [
       "<pre>✔️ 0 ns (2021-11-28T13:01:45/2021-11-28T13:01:45)</pre>"
      ],
      "text/plain": [
       "<IPython.core.display.HTML object>"
      ]
     },
     "metadata": {},
     "output_type": "display_data"
    }
   ],
   "source": [
    "script_lines_only = re.sub(string=script_clean, pattern='(\\[.*\\])\\n?', repl='')\n",
    "script_lines_only = re.sub(string=script_lines_only, pattern='\\n(\\[.*\\]?)\\n', repl='\\n')\n",
    "script_lines_only = re.sub(string=script_lines_only, pattern='\\n(\\(.*\\)?)\\n', repl='\\n')\n",
    "script_lines_only = re.sub(string=script_lines_only, pattern='\\xa0', repl=' ')"
   ]
  },
  {
   "cell_type": "markdown",
   "id": "7a339a3b-56c5-479d-a48e-ca0f95409000",
   "metadata": {},
   "source": [
    "## Charactater Line Extractions"
   ]
  },
  {
   "cell_type": "code",
   "execution_count": 53,
   "id": "f5f28a33-0153-40be-afdb-9c52495b8e2c",
   "metadata": {},
   "outputs": [
    {
     "data": {
      "text/html": [
       "<pre>✔️ 0 ns (2021-11-28T13:06:33/2021-11-28T13:06:33)</pre>"
      ],
      "text/plain": [
       "<IPython.core.display.HTML object>"
      ]
     },
     "metadata": {},
     "output_type": "display_data"
    },
    {
     "name": "stdout",
     "output_type": "stream",
     "text": [
      "DOCTOR STRANGE     255\n",
      "THE ANCIENT ONE     67\n",
      "CHRISTINE           64\n",
      "MORDO               52\n",
      "KAECILIUS           28\n",
      "WONG                19\n",
      "DORMAMMU            12\n",
      "BILLY                8\n",
      "PANGBORN             7\n",
      "DOCTOR WEST          7\n",
      "THOR                 6\n",
      "YOUNG DOCTOR         5\n",
      "ETIENNE              4\n",
      "JONATHAN             4\n",
      "SIGN                 1\n",
      "DOCTOR TWO           1\n",
      "MASTER               1\n",
      "DOCTOR ONE           1\n",
      "DOCTOR               1\n",
      "Name: character, dtype: int64\n"
     ]
    },
    {
     "data": {
      "text/html": [
       "<div>\n",
       "<style scoped>\n",
       "    .dataframe tbody tr th:only-of-type {\n",
       "        vertical-align: middle;\n",
       "    }\n",
       "\n",
       "    .dataframe tbody tr th {\n",
       "        vertical-align: top;\n",
       "    }\n",
       "\n",
       "    .dataframe thead th {\n",
       "        text-align: right;\n",
       "    }\n",
       "</style>\n",
       "<table border=\"1\" class=\"dataframe\">\n",
       "  <thead>\n",
       "    <tr style=\"text-align: right;\">\n",
       "      <th></th>\n",
       "      <th>character</th>\n",
       "      <th>line</th>\n",
       "    </tr>\n",
       "  </thead>\n",
       "  <tbody>\n",
       "    <tr>\n",
       "      <th>0</th>\n",
       "      <td>THE ANCIENT ONE</td>\n",
       "      <td>Master Kaecilius. That ritual will bring you o...</td>\n",
       "    </tr>\n",
       "    <tr>\n",
       "      <th>1</th>\n",
       "      <td>KAECILIUS</td>\n",
       "      <td>Hypocrite!</td>\n",
       "    </tr>\n",
       "    <tr>\n",
       "      <th>2</th>\n",
       "      <td>DOCTOR STRANGE</td>\n",
       "      <td>Challenge round, Billy.</td>\n",
       "    </tr>\n",
       "    <tr>\n",
       "      <th>3</th>\n",
       "      <td>DOCTOR STRANGE</td>\n",
       "      <td>Oh, come on, Billy. You’ve got to be messing w...</td>\n",
       "    </tr>\n",
       "    <tr>\n",
       "      <th>4</th>\n",
       "      <td>BILLY</td>\n",
       "      <td>Heheh. No, doctor.</td>\n",
       "    </tr>\n",
       "  </tbody>\n",
       "</table>\n",
       "</div>"
      ],
      "text/plain": [
       "         character                                               line\n",
       "0  THE ANCIENT ONE  Master Kaecilius. That ritual will bring you o...\n",
       "1        KAECILIUS                                         Hypocrite!\n",
       "2   DOCTOR STRANGE                            Challenge round, Billy.\n",
       "3   DOCTOR STRANGE  Oh, come on, Billy. You’ve got to be messing w...\n",
       "4            BILLY                                 Heheh. No, doctor."
      ]
     },
     "execution_count": 53,
     "metadata": {},
     "output_type": "execute_result"
    }
   ],
   "source": [
    "character_lines = re.findall(string=script_lines_only, pattern='((?:[A-Z][a-z]+[\\-\\.]? ?)+):\\s*(.*)')\n",
    "character_lines = pd.DataFrame(character_lines, columns=['character', 'line'])\n",
    "character_lines['character'] = ['Doctor Strange' if x =='Stephen' or x == 'Strange'\\\n",
    "                                else x.rstrip().lstrip().replace('Dr.', 'Doctor').replace('Karl ', '').replace(' Palmer', '').replace('Crhstine', 'Christine').replace('Stephen ', '').replace('Doctor Billy', 'Billy') \\\n",
    "                                for x in character_lines['character']]\n",
    "character_lines['character'] = character_lines['character'].apply(str.upper)\n",
    "character_lines['line'] = [x.rstrip().lstrip() for x in character_lines['line']]\n",
    "print(character_lines['character'].value_counts())\n",
    "character_lines.head()"
   ]
  },
  {
   "cell_type": "markdown",
   "id": "9b17f94f-6de3-42c3-a7ac-e2aa199901eb",
   "metadata": {},
   "source": [
    "## Save Lines as CSV"
   ]
  },
  {
   "cell_type": "code",
   "execution_count": 54,
   "id": "9ba5d3fc-dbd9-4677-b833-5d410cc5688b",
   "metadata": {},
   "outputs": [
    {
     "data": {
      "text/html": [
       "<pre>✔️ 0 ns (2021-11-28T13:06:51/2021-11-28T13:06:51)</pre>"
      ],
      "text/plain": [
       "<IPython.core.display.HTML object>"
      ]
     },
     "metadata": {},
     "output_type": "display_data"
    }
   ],
   "source": [
    "character_lines.to_csv('../clean_data/dr_strange.csv', index=False)"
   ]
  }
 ],
 "metadata": {
  "kernelspec": {
   "display_name": "Python 3 (ipykernel)",
   "language": "python",
   "name": "python3"
  },
  "language_info": {
   "codemirror_mode": {
    "name": "ipython",
    "version": 3
   },
   "file_extension": ".py",
   "mimetype": "text/x-python",
   "name": "python",
   "nbconvert_exporter": "python",
   "pygments_lexer": "ipython3",
   "version": "3.9.7"
  }
 },
 "nbformat": 4,
 "nbformat_minor": 5
}

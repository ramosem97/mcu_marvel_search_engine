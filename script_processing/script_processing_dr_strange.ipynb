{
 "cells": [
  {
   "cell_type": "markdown",
   "id": "f3bdda6b-837b-45ae-843c-8c6c6cac8852",
   "metadata": {},
   "source": [
    "# MCU Scripts"
   ]
  },
  {
   "cell_type": "markdown",
   "id": "28f6f788-98ab-4b8e-99bc-b61351c3be07",
   "metadata": {},
   "source": [
    "## Configuration"
   ]
  },
  {
   "cell_type": "code",
   "execution_count": 1,
   "id": "0796cb39-d488-402f-b6d7-893d13898d6b",
   "metadata": {},
   "outputs": [
    {
     "data": {
      "text/html": [
       "<pre>✔️ 0 ns (2021-11-28T08:33:27/2021-11-28T08:33:27)</pre>"
      ],
      "text/plain": [
       "<IPython.core.display.HTML object>"
      ]
     },
     "metadata": {},
     "output_type": "display_data"
    }
   ],
   "source": [
    "%load_ext autotime"
   ]
  },
  {
   "cell_type": "code",
   "execution_count": 2,
   "id": "95f740cb-7a0c-4388-9be5-64e3bde29dde",
   "metadata": {},
   "outputs": [
    {
     "data": {
      "text/html": [
       "<pre>✔️ 2.22 s (2021-11-28T08:33:27/2021-11-28T08:33:29)</pre>"
      ],
      "text/plain": [
       "<IPython.core.display.HTML object>"
      ]
     },
     "metadata": {},
     "output_type": "display_data"
    }
   ],
   "source": [
    "import pandas as pd\n",
    "import numpy as np\n",
    "\n",
    "import seaborn as sns\n",
    "import matplotlib.pyplot as plt\n",
    "\n",
    "import os"
   ]
  },
  {
   "cell_type": "code",
   "execution_count": 3,
   "id": "f8a832da-1352-4aee-80a8-88f549cbcdf2",
   "metadata": {},
   "outputs": [
    {
     "data": {
      "text/html": [
       "<pre>✔️ 0 ns (2021-11-28T08:33:29/2021-11-28T08:33:29)</pre>"
      ],
      "text/plain": [
       "<IPython.core.display.HTML object>"
      ]
     },
     "metadata": {},
     "output_type": "display_data"
    }
   ],
   "source": [
    "import re"
   ]
  },
  {
   "cell_type": "markdown",
   "id": "2d68845b-c7d3-475c-a232-661e707cd024",
   "metadata": {},
   "source": [
    "## Analysis"
   ]
  },
  {
   "cell_type": "markdown",
   "id": "5b50d351-7546-43a0-8103-67441172b957",
   "metadata": {},
   "source": [
    "### About the Data"
   ]
  },
  {
   "cell_type": "markdown",
   "id": "0f01f66e-6a3d-4749-bd94-fd09de9330ea",
   "metadata": {},
   "source": [
    "#### Processed Scripts"
   ]
  },
  {
   "cell_type": "code",
   "execution_count": 4,
   "id": "bca738cd-cb58-4a79-9592-e1c960063f48",
   "metadata": {},
   "outputs": [
    {
     "data": {
      "text/html": [
       "<pre>✔️ 47 ms (2021-11-28T08:33:30/2021-11-28T08:33:30)</pre>"
      ],
      "text/plain": [
       "<IPython.core.display.HTML object>"
      ]
     },
     "metadata": {},
     "output_type": "display_data"
    },
    {
     "name": "stdout",
     "output_type": "stream",
     "text": [
      "Entries:  6509\n"
     ]
    },
    {
     "data": {
      "text/html": [
       "<div>\n",
       "<style scoped>\n",
       "    .dataframe tbody tr th:only-of-type {\n",
       "        vertical-align: middle;\n",
       "    }\n",
       "\n",
       "    .dataframe tbody tr th {\n",
       "        vertical-align: top;\n",
       "    }\n",
       "\n",
       "    .dataframe thead th {\n",
       "        text-align: right;\n",
       "    }\n",
       "</style>\n",
       "<table border=\"1\" class=\"dataframe\">\n",
       "  <thead>\n",
       "    <tr style=\"text-align: right;\">\n",
       "      <th></th>\n",
       "      <th>movie</th>\n",
       "      <th>year</th>\n",
       "    </tr>\n",
       "  </thead>\n",
       "  <tbody>\n",
       "    <tr>\n",
       "      <th>0</th>\n",
       "      <td>Ant-Man</td>\n",
       "      <td>2015</td>\n",
       "    </tr>\n",
       "    <tr>\n",
       "      <th>1</th>\n",
       "      <td>Avengers: Age of Ultron</td>\n",
       "      <td>2015</td>\n",
       "    </tr>\n",
       "    <tr>\n",
       "      <th>2</th>\n",
       "      <td>Avengers: Endgame</td>\n",
       "      <td>2019</td>\n",
       "    </tr>\n",
       "    <tr>\n",
       "      <th>3</th>\n",
       "      <td>Avengers: Infinity War</td>\n",
       "      <td>2018</td>\n",
       "    </tr>\n",
       "    <tr>\n",
       "      <th>4</th>\n",
       "      <td>Captain America: Civil War</td>\n",
       "      <td>2016</td>\n",
       "    </tr>\n",
       "    <tr>\n",
       "      <th>5</th>\n",
       "      <td>Captain America: The First Avenger</td>\n",
       "      <td>2011</td>\n",
       "    </tr>\n",
       "    <tr>\n",
       "      <th>6</th>\n",
       "      <td>Captain America: The Winter Soldier</td>\n",
       "      <td>2014</td>\n",
       "    </tr>\n",
       "    <tr>\n",
       "      <th>7</th>\n",
       "      <td>Captain Marvel</td>\n",
       "      <td>2019</td>\n",
       "    </tr>\n",
       "    <tr>\n",
       "      <th>8</th>\n",
       "      <td>Iron Man</td>\n",
       "      <td>2008</td>\n",
       "    </tr>\n",
       "    <tr>\n",
       "      <th>9</th>\n",
       "      <td>Iron Man 2</td>\n",
       "      <td>2010</td>\n",
       "    </tr>\n",
       "    <tr>\n",
       "      <th>10</th>\n",
       "      <td>Iron Man 3</td>\n",
       "      <td>2013</td>\n",
       "    </tr>\n",
       "    <tr>\n",
       "      <th>11</th>\n",
       "      <td>Spider-Man: Homecoming</td>\n",
       "      <td>2017</td>\n",
       "    </tr>\n",
       "    <tr>\n",
       "      <th>12</th>\n",
       "      <td>The Avengers</td>\n",
       "      <td>2012</td>\n",
       "    </tr>\n",
       "    <tr>\n",
       "      <th>13</th>\n",
       "      <td>Thor</td>\n",
       "      <td>2011</td>\n",
       "    </tr>\n",
       "    <tr>\n",
       "      <th>14</th>\n",
       "      <td>Thor: Ragnarok</td>\n",
       "      <td>2017</td>\n",
       "    </tr>\n",
       "    <tr>\n",
       "      <th>15</th>\n",
       "      <td>Thor: The Dark World</td>\n",
       "      <td>2013</td>\n",
       "    </tr>\n",
       "  </tbody>\n",
       "</table>\n",
       "</div>"
      ],
      "text/plain": [
       "                                  movie  year\n",
       "0                               Ant-Man  2015\n",
       "1               Avengers: Age of Ultron  2015\n",
       "2                     Avengers: Endgame  2019\n",
       "3                Avengers: Infinity War  2018\n",
       "4            Captain America: Civil War  2016\n",
       "5    Captain America: The First Avenger  2011\n",
       "6   Captain America: The Winter Soldier  2014\n",
       "7                        Captain Marvel  2019\n",
       "8                              Iron Man  2008\n",
       "9                            Iron Man 2  2010\n",
       "10                           Iron Man 3  2013\n",
       "11               Spider-Man: Homecoming  2017\n",
       "12                         The Avengers  2012\n",
       "13                                 Thor  2011\n",
       "14                       Thor: Ragnarok  2017\n",
       "15                 Thor: The Dark World  2013"
      ]
     },
     "execution_count": 4,
     "metadata": {},
     "output_type": "execute_result"
    }
   ],
   "source": [
    "lines = pd.read_csv('../clean_data/mcu_data.csv', index_col=0).reset_index(drop=True)[['character', 'line', 'movie', 'year', 'words']]\n",
    "print('Entries: ', len(lines))\n",
    "lines.head()\n",
    "processed_movies = lines.groupby(['movie', 'year']).head(1)[['movie', 'year']].sort_values(['movie']).reset_index(drop=True)\n",
    "processed_movies"
   ]
  },
  {
   "cell_type": "markdown",
   "id": "e538aaf3-887a-40d3-97a2-63a433a839ab",
   "metadata": {},
   "source": [
    "#### Raw Scripts"
   ]
  },
  {
   "cell_type": "code",
   "execution_count": 5,
   "id": "55028b91-99c0-49e0-a0e3-597a77590650",
   "metadata": {},
   "outputs": [
    {
     "data": {
      "text/html": [
       "<pre>✔️ 47 ms (2021-11-28T08:33:30/2021-11-28T08:33:30)</pre>"
      ],
      "text/plain": [
       "<IPython.core.display.HTML object>"
      ]
     },
     "metadata": {},
     "output_type": "display_data"
    },
    {
     "name": "stdout",
     "output_type": "stream",
     "text": [
      "Entries:  23\n"
     ]
    },
    {
     "data": {
      "text/html": [
       "<div>\n",
       "<style scoped>\n",
       "    .dataframe tbody tr th:only-of-type {\n",
       "        vertical-align: middle;\n",
       "    }\n",
       "\n",
       "    .dataframe tbody tr th {\n",
       "        vertical-align: top;\n",
       "    }\n",
       "\n",
       "    .dataframe thead th {\n",
       "        text-align: right;\n",
       "    }\n",
       "</style>\n",
       "<table border=\"1\" class=\"dataframe\">\n",
       "  <thead>\n",
       "    <tr style=\"text-align: right;\">\n",
       "      <th></th>\n",
       "      <th>title</th>\n",
       "      <th>script</th>\n",
       "      <th>movie</th>\n",
       "      <th>year</th>\n",
       "      <th>script_length</th>\n",
       "    </tr>\n",
       "  </thead>\n",
       "  <tbody>\n",
       "    <tr>\n",
       "      <th>0</th>\n",
       "      <td>Ant-Man</td>\n",
       "      <td>Previous transcript:\\n Next transcript:\\n\\n\\n ...</td>\n",
       "      <td>Ant-Man</td>\n",
       "      <td>2015.0</td>\n",
       "      <td>82517</td>\n",
       "    </tr>\n",
       "    <tr>\n",
       "      <th>1</th>\n",
       "      <td>Ant-Man and the Wasp</td>\n",
       "      <td>This transcript is not finished!This page does...</td>\n",
       "      <td>NaN</td>\n",
       "      <td>NaN</td>\n",
       "      <td>67957</td>\n",
       "    </tr>\n",
       "    <tr>\n",
       "      <th>2</th>\n",
       "      <td>The Avengers</td>\n",
       "      <td>This transcript isn't tidy!This page's transcr...</td>\n",
       "      <td>The Avengers</td>\n",
       "      <td>2012.0</td>\n",
       "      <td>163543</td>\n",
       "    </tr>\n",
       "    <tr>\n",
       "      <th>3</th>\n",
       "      <td>Avengers: Age of Ultron</td>\n",
       "      <td>Previous transcript:\\n Next transcript:\\n\\n\\n ...</td>\n",
       "      <td>Avengers: Age of Ultron</td>\n",
       "      <td>2015.0</td>\n",
       "      <td>91399</td>\n",
       "    </tr>\n",
       "    <tr>\n",
       "      <th>4</th>\n",
       "      <td>Avengers: Endgame</td>\n",
       "      <td>Previous transcript:\\n Next transcript:\\n\\n\\n ...</td>\n",
       "      <td>Avengers: Endgame</td>\n",
       "      <td>2019.0</td>\n",
       "      <td>138200</td>\n",
       "    </tr>\n",
       "    <tr>\n",
       "      <th>5</th>\n",
       "      <td>Avengers: Infinity War</td>\n",
       "      <td>Previous transcript:\\n Next transcript:\\n\\n\\n ...</td>\n",
       "      <td>Avengers: Infinity War</td>\n",
       "      <td>2018.0</td>\n",
       "      <td>141191</td>\n",
       "    </tr>\n",
       "    <tr>\n",
       "      <th>6</th>\n",
       "      <td>Black Panther</td>\n",
       "      <td>This transcript isn't tidy!This page's transcr...</td>\n",
       "      <td>NaN</td>\n",
       "      <td>NaN</td>\n",
       "      <td>201332</td>\n",
       "    </tr>\n",
       "    <tr>\n",
       "      <th>7</th>\n",
       "      <td>Captain America: Civil War</td>\n",
       "      <td>Previous transcript:\\n Next transcript:\\n\\n\\n ...</td>\n",
       "      <td>Captain America: Civil War</td>\n",
       "      <td>2016.0</td>\n",
       "      <td>127046</td>\n",
       "    </tr>\n",
       "    <tr>\n",
       "      <th>8</th>\n",
       "      <td>Captain America: The First Avenger</td>\n",
       "      <td>Previous transcript:\\n Next transcript:\\n\\n\\n ...</td>\n",
       "      <td>Captain America: The First Avenger</td>\n",
       "      <td>2011.0</td>\n",
       "      <td>71770</td>\n",
       "    </tr>\n",
       "    <tr>\n",
       "      <th>9</th>\n",
       "      <td>Captain America: The Winter Soldier</td>\n",
       "      <td>Previous transcript:\\n Next transcript:\\n\\n\\n ...</td>\n",
       "      <td>Captain America: The Winter Soldier</td>\n",
       "      <td>2014.0</td>\n",
       "      <td>98173</td>\n",
       "    </tr>\n",
       "    <tr>\n",
       "      <th>10</th>\n",
       "      <td>Captain Marvel</td>\n",
       "      <td>Previous transcript:\\n Next transcript:\\n\\n\\n ...</td>\n",
       "      <td>Captain Marvel</td>\n",
       "      <td>2019.0</td>\n",
       "      <td>94229</td>\n",
       "    </tr>\n",
       "    <tr>\n",
       "      <th>11</th>\n",
       "      <td>Doctor Strange</td>\n",
       "      <td>This transcript isn't tidy!This page's transcr...</td>\n",
       "      <td>NaN</td>\n",
       "      <td>NaN</td>\n",
       "      <td>54685</td>\n",
       "    </tr>\n",
       "    <tr>\n",
       "      <th>12</th>\n",
       "      <td>Guardians of the Galaxy</td>\n",
       "      <td>Previous transcript:\\n Next transcript:\\n\\n\\n ...</td>\n",
       "      <td>NaN</td>\n",
       "      <td>NaN</td>\n",
       "      <td>67924</td>\n",
       "    </tr>\n",
       "    <tr>\n",
       "      <th>13</th>\n",
       "      <td>Guardians of the Galaxy Vol. 2</td>\n",
       "      <td>This transcript isn't tidy!This page's transcr...</td>\n",
       "      <td>NaN</td>\n",
       "      <td>NaN</td>\n",
       "      <td>63728</td>\n",
       "    </tr>\n",
       "    <tr>\n",
       "      <th>14</th>\n",
       "      <td>Spider-Man: Homecoming</td>\n",
       "      <td>Previous transcript:\\n Next transcript:\\n\\n\\n ...</td>\n",
       "      <td>Spider-Man: Homecoming</td>\n",
       "      <td>2017.0</td>\n",
       "      <td>162553</td>\n",
       "    </tr>\n",
       "    <tr>\n",
       "      <th>15</th>\n",
       "      <td>Iron Man</td>\n",
       "      <td>This transcript isn't tidy!This page's transcr...</td>\n",
       "      <td>Iron Man</td>\n",
       "      <td>2008.0</td>\n",
       "      <td>76243</td>\n",
       "    </tr>\n",
       "    <tr>\n",
       "      <th>16</th>\n",
       "      <td>Iron Man 2</td>\n",
       "      <td>Previous transcript:\\n Next transcript:\\n\\n\\n ...</td>\n",
       "      <td>Iron Man 2</td>\n",
       "      <td>2010.0</td>\n",
       "      <td>86198</td>\n",
       "    </tr>\n",
       "    <tr>\n",
       "      <th>17</th>\n",
       "      <td>Iron Man 3</td>\n",
       "      <td>Previous transcript:\\n Next transcript:\\n\\n\\n ...</td>\n",
       "      <td>Iron Man 3</td>\n",
       "      <td>2013.0</td>\n",
       "      <td>97630</td>\n",
       "    </tr>\n",
       "    <tr>\n",
       "      <th>18</th>\n",
       "      <td>Spider-Man: Far From Home</td>\n",
       "      <td>This transcript is not finished!This page does...</td>\n",
       "      <td>NaN</td>\n",
       "      <td>NaN</td>\n",
       "      <td>103341</td>\n",
       "    </tr>\n",
       "    <tr>\n",
       "      <th>19</th>\n",
       "      <td>The Incredible Hulk</td>\n",
       "      <td>Previous transcript:\\n Next transcript:\\n\\n\\n ...</td>\n",
       "      <td>NaN</td>\n",
       "      <td>NaN</td>\n",
       "      <td>29346</td>\n",
       "    </tr>\n",
       "    <tr>\n",
       "      <th>20</th>\n",
       "      <td>Thor</td>\n",
       "      <td>Previous transcript:\\n Next transcript:\\n\\n\\n ...</td>\n",
       "      <td>Thor</td>\n",
       "      <td>2011.0</td>\n",
       "      <td>242605</td>\n",
       "    </tr>\n",
       "    <tr>\n",
       "      <th>21</th>\n",
       "      <td>Thor: Ragnarok</td>\n",
       "      <td>Previous transcript:\\n Next transcript:\\n\\n\\n ...</td>\n",
       "      <td>Thor: Ragnarok</td>\n",
       "      <td>2017.0</td>\n",
       "      <td>202999</td>\n",
       "    </tr>\n",
       "    <tr>\n",
       "      <th>22</th>\n",
       "      <td>Thor: The Dark World</td>\n",
       "      <td>Previous transcript:\\n Next transcript:\\n\\n\\n ...</td>\n",
       "      <td>Thor: The Dark World</td>\n",
       "      <td>2013.0</td>\n",
       "      <td>77065</td>\n",
       "    </tr>\n",
       "  </tbody>\n",
       "</table>\n",
       "</div>"
      ],
      "text/plain": [
       "                                  title  \\\n",
       "0                               Ant-Man   \n",
       "1                  Ant-Man and the Wasp   \n",
       "2                          The Avengers   \n",
       "3               Avengers: Age of Ultron   \n",
       "4                     Avengers: Endgame   \n",
       "5                Avengers: Infinity War   \n",
       "6                         Black Panther   \n",
       "7            Captain America: Civil War   \n",
       "8    Captain America: The First Avenger   \n",
       "9   Captain America: The Winter Soldier   \n",
       "10                       Captain Marvel   \n",
       "11                       Doctor Strange   \n",
       "12              Guardians of the Galaxy   \n",
       "13       Guardians of the Galaxy Vol. 2   \n",
       "14               Spider-Man: Homecoming   \n",
       "15                             Iron Man   \n",
       "16                           Iron Man 2   \n",
       "17                           Iron Man 3   \n",
       "18            Spider-Man: Far From Home   \n",
       "19                  The Incredible Hulk   \n",
       "20                                 Thor   \n",
       "21                       Thor: Ragnarok   \n",
       "22                 Thor: The Dark World   \n",
       "\n",
       "                                               script  \\\n",
       "0   Previous transcript:\\n Next transcript:\\n\\n\\n ...   \n",
       "1   This transcript is not finished!This page does...   \n",
       "2   This transcript isn't tidy!This page's transcr...   \n",
       "3   Previous transcript:\\n Next transcript:\\n\\n\\n ...   \n",
       "4   Previous transcript:\\n Next transcript:\\n\\n\\n ...   \n",
       "5   Previous transcript:\\n Next transcript:\\n\\n\\n ...   \n",
       "6   This transcript isn't tidy!This page's transcr...   \n",
       "7   Previous transcript:\\n Next transcript:\\n\\n\\n ...   \n",
       "8   Previous transcript:\\n Next transcript:\\n\\n\\n ...   \n",
       "9   Previous transcript:\\n Next transcript:\\n\\n\\n ...   \n",
       "10  Previous transcript:\\n Next transcript:\\n\\n\\n ...   \n",
       "11  This transcript isn't tidy!This page's transcr...   \n",
       "12  Previous transcript:\\n Next transcript:\\n\\n\\n ...   \n",
       "13  This transcript isn't tidy!This page's transcr...   \n",
       "14  Previous transcript:\\n Next transcript:\\n\\n\\n ...   \n",
       "15  This transcript isn't tidy!This page's transcr...   \n",
       "16  Previous transcript:\\n Next transcript:\\n\\n\\n ...   \n",
       "17  Previous transcript:\\n Next transcript:\\n\\n\\n ...   \n",
       "18  This transcript is not finished!This page does...   \n",
       "19  Previous transcript:\\n Next transcript:\\n\\n\\n ...   \n",
       "20  Previous transcript:\\n Next transcript:\\n\\n\\n ...   \n",
       "21  Previous transcript:\\n Next transcript:\\n\\n\\n ...   \n",
       "22  Previous transcript:\\n Next transcript:\\n\\n\\n ...   \n",
       "\n",
       "                                  movie    year  script_length  \n",
       "0                               Ant-Man  2015.0          82517  \n",
       "1                                   NaN     NaN          67957  \n",
       "2                          The Avengers  2012.0         163543  \n",
       "3               Avengers: Age of Ultron  2015.0          91399  \n",
       "4                     Avengers: Endgame  2019.0         138200  \n",
       "5                Avengers: Infinity War  2018.0         141191  \n",
       "6                                   NaN     NaN         201332  \n",
       "7            Captain America: Civil War  2016.0         127046  \n",
       "8    Captain America: The First Avenger  2011.0          71770  \n",
       "9   Captain America: The Winter Soldier  2014.0          98173  \n",
       "10                       Captain Marvel  2019.0          94229  \n",
       "11                                  NaN     NaN          54685  \n",
       "12                                  NaN     NaN          67924  \n",
       "13                                  NaN     NaN          63728  \n",
       "14               Spider-Man: Homecoming  2017.0         162553  \n",
       "15                             Iron Man  2008.0          76243  \n",
       "16                           Iron Man 2  2010.0          86198  \n",
       "17                           Iron Man 3  2013.0          97630  \n",
       "18                                  NaN     NaN         103341  \n",
       "19                                  NaN     NaN          29346  \n",
       "20                                 Thor  2011.0         242605  \n",
       "21                       Thor: Ragnarok  2017.0         202999  \n",
       "22                 Thor: The Dark World  2013.0          77065  "
      ]
     },
     "execution_count": 5,
     "metadata": {},
     "output_type": "execute_result"
    }
   ],
   "source": [
    "df = pd.read_csv('../raw_data/mcu_scipts.csv', index_col=0).merge(processed_movies, right_on=['movie'], left_on=['title'], how='left')\n",
    "df['script_length'] = df['script'].apply(len)\n",
    "print('Entries: ', len(df))\n",
    "df.head(23)"
   ]
  },
  {
   "cell_type": "code",
   "execution_count": 6,
   "id": "bc2bd97e-3a5e-4a9c-83a5-829e957d530d",
   "metadata": {},
   "outputs": [
    {
     "data": {
      "text/html": [
       "<pre>✔️ 16 ms (2021-11-28T08:33:30/2021-11-28T08:33:30)</pre>"
      ],
      "text/plain": [
       "<IPython.core.display.HTML object>"
      ]
     },
     "metadata": {},
     "output_type": "display_data"
    },
    {
     "name": "stdout",
     "output_type": "stream",
     "text": [
      "This transcript isn't tidy!This page's transcript is incomplete for the following reason(s):unfixed/messedRemove this template once any and all issues are resolved.\n",
      "\n",
      "This article is a stub. You can help Transcripts Wiki by  expanding it.\n",
      "\n",
      "\n",
      "\n",
      " Previous transcript:\n",
      " Next transcript:\n",
      "\n",
      "\n",
      " Captain America: Civil War\n",
      " Guardians of the Galaxy Vol. 2\n",
      "\n",
      "     \n",
      "\n",
      "[scene at the temple, sound of bell ringing. Some people are walking around out of the temple’s library. Showing the librarian are putting back a book to its shelves. the leader of ‘the people’ are showing off with a hood, making the librarian pay attention. two of them follow by, walking through the librarian with their leader. All of them showing off. two of them making spell that hold the librarian’s two arms, and two others making spell by a stick that hold his two legs. making him lifted. the librarian grimacing in pain. someone put a jug below his head. the leader walking closely to the librarian. the leader took off his hood. the libr\n"
     ]
    }
   ],
   "source": [
    "script = df.script.values[11]\n",
    "print(script[:1000])"
   ]
  },
  {
   "cell_type": "markdown",
   "id": "5a0009b1-9e11-4ffe-a279-fd5f245e15f1",
   "metadata": {},
   "source": [
    "# Cleaning Up Script"
   ]
  },
  {
   "cell_type": "markdown",
   "id": "09862165-5241-4f25-b439-56c0dd9f53f0",
   "metadata": {},
   "source": [
    "## Find Actual Start of Script"
   ]
  },
  {
   "cell_type": "code",
   "execution_count": 7,
   "id": "0216a7d4-dd03-4618-b2e2-863ad847b048",
   "metadata": {},
   "outputs": [
    {
     "data": {
      "text/html": [
       "<pre>✔️ 0 ns (2021-11-28T08:33:30/2021-11-28T08:33:30)</pre>"
      ],
      "text/plain": [
       "<IPython.core.display.HTML object>"
      ]
     },
     "metadata": {},
     "output_type": "display_data"
    },
    {
     "data": {
      "text/plain": [
       "\"This transcript isn't tidy!This page's transcript is incomplete for the following reason(s):unfixed/messedRemove this template once any and all issues are resolved.\\n\\nThis article is a stub. You can help Transcripts Wiki by  expanding it.\\n\\n\\n\\n Previous transcript:\\n Next transcript:\\n\\n\\n Captain America: Civil War\\n Guardians of the Galaxy Vol. 2\\n\\n     \\n\\n\""
      ]
     },
     "execution_count": 7,
     "metadata": {},
     "output_type": "execute_result"
    }
   ],
   "source": [
    "script[:351]"
   ]
  },
  {
   "cell_type": "code",
   "execution_count": 8,
   "id": "c520e5f0-c942-4084-b8d5-c567d4ccd1d3",
   "metadata": {},
   "outputs": [
    {
     "data": {
      "text/html": [
       "<pre>✔️ 0 ns (2021-11-28T08:33:30/2021-11-28T08:33:30)</pre>"
      ],
      "text/plain": [
       "<IPython.core.display.HTML object>"
      ]
     },
     "metadata": {},
     "output_type": "display_data"
    },
    {
     "name": "stdout",
     "output_type": "stream",
     "text": [
      "[scene at the temple, sound of bell ringing. Some people are walking around out of the temple’s library. Showing the librarian are putting back a book to its shelves. the leader of ‘the people’ are showing off with a hood, making the librarian pay attention. two of them follow by, walking through the librarian with their leader. All of them showing off. two of them making spell that hold the librarian’s two arms, and two others making spell by a stick that hold his two legs. making him lifted. the librarian grimacing in pain. someone put a jug below his head. the leader walking closely to the librarian. the leader took off his hood. the librarian has a look at the leader. the leader places his hands onto his back and holding a pair of blades as he chops the librarian’s head off which falls into the jug. the leader takes the book that had been placed by the librarian. he opens the book searching for a page then rips it from the book, and throws the book away. he walks from his place and\n"
     ]
    }
   ],
   "source": [
    "script = script[351:]\n",
    "print(script[:1000])"
   ]
  },
  {
   "cell_type": "markdown",
   "id": "71c9e6c2-52aa-468d-a144-1b7ad70d368c",
   "metadata": {},
   "source": [
    "## Find Characters"
   ]
  },
  {
   "cell_type": "code",
   "execution_count": 9,
   "id": "9d92a443-b3fd-451c-bc99-0236ddec0d4d",
   "metadata": {},
   "outputs": [
    {
     "data": {
      "text/html": [
       "<pre>✔️ 16 ms (2021-11-28T08:33:30/2021-11-28T08:33:30)</pre>"
      ],
      "text/plain": [
       "<IPython.core.display.HTML object>"
      ]
     },
     "metadata": {},
     "output_type": "display_data"
    },
    {
     "data": {
      "text/plain": [
       "'[scene at the temple, sound of bell ringing. Some people are walking around out of the temple’s library. Showing the librarian are putting back a book to its shelves. the leader of ‘the people’ are showing off with a hood, making the librarian pay attention. two of them follow by, walking through the librarian with their leader. All of them showing off. two of them making spell that hold the librarian’s two arms, and two others making spell by a stick that hold his two legs. making him lifted. the librarian grimacing in pain. someone put a jug below his head. the leader walking closely to the librarian. the leader took off his hood. the librarian has a look at the leader. the leader places his hands onto his back and holding a pair of blades as he chops the librarian’s head off which falls into the jug. the leader takes the book that had been placed by the librarian. he opens the book searching for a page then rips it from the book, and throws the book away. he walks from his place and then…]\\nThe Ancient One: Master Kaecilius. That ritual will bring you only sorrow\\n[he sets his hands to his back, holding his blade. she walks closer with both hands on her back. he runs escaping with his team with a portal, leading to a city. they run all over the streets, then stops. facing them self as a scattered mirror. The Ancient one walking behind them, controlling it. making them enter the mirror universe. Kaecilius turn his back as The Ancient One makes a wave pattern with her hand that makes buildings around them start to move unpatterned. Kaecilius looking around them.]\\nKaecilius: Hypocrite!\\n[The Ancient One making a round pattern with both of his hands and turn the gravity as she hops off a wall of a building, and Kaecilius with his team do the same. The Ancient One making an upwards movement with both hands as the building behind them starts rolling itself. Kaecilius pulls out his blades as the others making spell and pull out their staff. two of them catch her feet with their spell as she pulls her feet back and makes them fall and she hops on them making a fan being spell for cutting they spells and they two got milled by the building under them as they scream. then she fights two other people and knocks them down. then she changes the spell to a round being spell as she kicks one of them to the rolling building that is getting closer to them. then she turns the spell into a fan being spell and she tackled two of them as she throws her spell to the other people left and holds it back. then she makes a turn around move with her hands that makes the gravity turn upside down. Kaecilius and the other are close to the position of falling, then Kaecilius makes a portal with a round and round pattern with his hand for him and his team to escape. then they hop onto that with Kaecilius still holding it open as The Ancient One still fighting three of them left. then Kaecilius hops onto the portal and closes it as The Ancient One knocks out the three people, and stares as the portal closes. then The Ancient One rewinds the rolling building and makes it as if none of this happened and hops of the building to the ground and she makes a portal out of the mirror universe to the real universe and walks through the street and removes her hood, revealing her bald head]\\n\\n\\n\\n\\n— At a hospital —\\n[showing someone washing his hand. drying them with a tissue. putting on a surgery suit. putting on his mask. putting on his rubber gloves. then facing a mirror with half raised back faced hand. showing a syringe been filled with a liquid. and a hand that is doing things with the body. and someone foot tapping and a little dancing body as he performs surgery. and some doctor outside writing and looking at them from the glass window]\\nDoctor Strange: Challenge round, Billy.\\n[Billy playing the other song]\\nDoctor Strange: Oh, come on, Billy. You’ve got to be messing with me.\\nBilly: Heheh. No, doctor.\\nDoctor Strange: Feels So Good, Chuck Mangione, 1977. Seriously, Billy, you said this one would be hard.\\nBilly: Hah! It’s 1978.\\nDoctor Strange: No, Billy, while Feels So Good may have charted in 1978, the album was released in December, 1977.\\nBilly: No, no. Wikipedia says the…\\nDoctor Strange: Check again.\\nBilly: When did you…?\\nDoctor that is helping Stephen: Where do you store all this useless information?\\nDoctor Strange: Useless? The man charted a top ten hit with a Flugelhorn. Status, Billy?\\nDr. Billy: 1977.\\nDoctor that is helping Stephen: Oh! Please. I hate you.\\nDoctor Strange: Woah! \"Feels so good\", doesn’t it?\\n[someone looking through the door’s glass]\\nDoctor Strange: Oh, I…\\nDoctor that is helping Stephen: I’ve got this, Stephen. You’ve done your bit. Go ahead, we’ll close up.\\nDr. Stephen Strange: What is that? [Christine hands him the device showing the patient\\'s situation.]\\nChristine Palmer: GSW.\\nDoctor Strange: It’s amazing you kept him alive. Apneic, further brain stem testing after reflex test… I think I found the problem, Dr. Palmer. You left a bullet in his head.\\nChristine Palmer: Thanks. It’s impinging on the medulla. I needed a specialist to diagnose brain death. Something about that doesn’t feel right to me.\\nDoctor Strange: We have to run.\\nChristine Palmer: Dr. West! What are you doing? Hey!\\nDr. West: Organ harvesting. He’s a donor.\\nChristine Palmer: Slow down. I did not agree to that.\\nDr. West: I don’t need you to. We’ve already called brain death.\\nDoctor Strange: Prematurely. We need to get him prepped for a suboccipital craniotomy.\\nDr. West: I’m not going to let you operate on a dead man.\\nDoctor Strange: [Holds up the scan of the patient\\'s brain.] What do you see?\\nDr. West: A bullet?\\nDoctor Strange: A perfect bullet. It’s been hardened. You harden a bullet by alloying lead with antimony. A toxic metal. And it\\'s leaking directly into the cerebral spinal fluid.\\nDr. West: Rapid-onset central nervous system shutdown. \\nChristine Palmer: We need to go.\\noctober Strange: The patient’s not dead, but he’s dying. Do you still want to harvest his organs?\\nDr. West: I’ll assist you.\\nDoctor Strange: [Wheels the patient\\'s bed down the hallway, Christine follows him.] No! Dr. Palmer will assist me.\\nChristine Palmer: Thank you. [Begins to hook the patient up to devices.] Image status, STAT.\\nDr. Stephen Strange: We do not have time for that.\\nChristine Palmer: You can’t do it freehand.\\nDoctor Strange: I can and I will.\\nDr. West: This isn’t the time for showing off, Strange.\\nDoctor Strange: How about 10 minutes ago, when you called the wrong time of death? [Selects a pair of bent scissors and inspects the patient\\'s brain on a screen.] Cranial nerves intact. [He artfully reaches into the brian with the thin scissors. There is a loud ticking noise coming from Dr. west\\'s watch. He doesn\\'t look away from the patient.] Dr. West, cover your watch.\\n[Dr. West slides a hand over his expensive watch. Back to Stephen Strange, who is delicately performing the surgery\\'s. His steady hand reaches in, and the scissors clasp around the billet. He slowly draws out th scissors and opens them, dropping the all blue bullet into a tray. It\\'s out. Cheers fill the room.]\\n\\n\\n\\n\\n[Doctor Palmer and Doctor Strange walk down the hospital hallway, talking to each other.]\\nChristine Palmer: You know, you didn’t have to humiliate him in front of everyone.\\nDoctor Strange: I didn’t have to save his patient either. [He dances slightly as when walks.] But, you know, sometimes I just can’t help myself.\\nChristine Palmer: Nick is a great doctor.\\nDoctor Strange: You came to me.\\nChristine Palmer: Yeah, well, I needed a second opinion.\\nDoctor Strange: You had a second opinion. What you needed was a competent one.\\nChristine Palmer: Well, all the more reason you should be my neurosurgeon on call. You could make such a difference.\\nDr. Stephen Strange: I can’t work in your butcher shop.\\nChristine Palmer: [slightly offended] Hey! Look, he…\\nDoctor Strange: Look, I’m fusing transected spinal cords. I\\'m stimulating neurogenesis in the central nervous system. The work I\\'m doing is gonna save thousands for years to come. In ER, you get to save one drunk idiot with a gun.\\nChristine Palmer: Yeah, you’re right. In the ER, you’re only saving lives. There’s no fame, there’s no CNN interviews… Well, I guess I’ll have to stick with Nick.\\nDoctor Strange: Wait a minute. You’re not…you guys aren’t…\\nChristine Palmer: What?\\nDoctor Strange: Sleeping together. Sorry, I thought that was implicit in my disgust.\\nCrhstine Palmer: Explicit, actually. And no, I have a very strict rule against dating colleagues.\\nDoctor Strange: Oh really?\\n[They come to a stop outside of Christine\\'s post.]\\nChristine Palmer: I call it the Strange policy.\\nDoctor Strange: Oh, good! I’m glad something is named after me. You know, I invented a laminectomy procedure, and yet, somehow, no one seems to want to call it the Strange technique.\\nChristine Palmer: We invented that technique.\\nDoctor Strange: You know, I gotta say, I’m very flattered by your policy. Look, I’m talking tonight at a Neurological Society dinner. Come with me.\\nChristine Palmer: Another speaking engagement? So romantic.\\nDoctor Strange: You used to love going to those things with me. We had fun together.\\nChristine Palmer: No. You had fun. They weren’t about us, they were about you.\\nDoctor Strange: Not only about me.\\nChristine Palmer: Stephen. Everything is about you.\\nDoctor Strange: Maybe we can hyphenate. Strange-Palmer technique. \\nChristine Palmer: [She walks as away, but looks back over her shoulder, grinning.] Palmer-Strange.\\n[He grins too. he\\'s gotten her.]\\n\\n\\n\\n\\n[We see a fancy, expensive apartment--huge windows looking out on a beautiful city, and Doctor Strange walks in front of the windows, arrogance in his step. Switch scenes to show him pulling open a drawer full of twenty or so watches, rotating on their display. He wonders for a moment and then picks an especially expensive looking one. Switch setting to show him driving recklessly out of his apartment building\\'s driveway in a'"
      ]
     },
     "execution_count": 9,
     "metadata": {},
     "output_type": "execute_result"
    }
   ],
   "source": [
    "script[:10000]"
   ]
  },
  {
   "cell_type": "code",
   "execution_count": 24,
   "id": "5bf577c4-1293-431e-bebe-7fec805ca5dd",
   "metadata": {},
   "outputs": [
    {
     "data": {
      "text/html": [
       "<pre>✔️ 16 ms (2021-11-28T08:35:32/2021-11-28T08:35:32)</pre>"
      ],
      "text/plain": [
       "<IPython.core.display.HTML object>"
      ]
     },
     "metadata": {},
     "output_type": "display_data"
    },
    {
     "name": "stdout",
     "output_type": "stream",
     "text": [
      "26\n"
     ]
    },
    {
     "data": {
      "text/html": [
       "<div>\n",
       "<style scoped>\n",
       "    .dataframe tbody tr th:only-of-type {\n",
       "        vertical-align: middle;\n",
       "    }\n",
       "\n",
       "    .dataframe tbody tr th {\n",
       "        vertical-align: top;\n",
       "    }\n",
       "\n",
       "    .dataframe thead th {\n",
       "        text-align: right;\n",
       "    }\n",
       "</style>\n",
       "<table border=\"1\" class=\"dataframe\">\n",
       "  <thead>\n",
       "    <tr style=\"text-align: right;\">\n",
       "      <th></th>\n",
       "      <th>character</th>\n",
       "      <th>line_count</th>\n",
       "    </tr>\n",
       "  </thead>\n",
       "  <tbody>\n",
       "    <tr>\n",
       "      <th>11</th>\n",
       "      <td>Dr. Stephen Strange</td>\n",
       "      <td>191</td>\n",
       "    </tr>\n",
       "    <tr>\n",
       "      <th>22</th>\n",
       "      <td>The Ancient One</td>\n",
       "      <td>67</td>\n",
       "    </tr>\n",
       "    <tr>\n",
       "      <th>7</th>\n",
       "      <td>Doctor Strange</td>\n",
       "      <td>59</td>\n",
       "    </tr>\n",
       "    <tr>\n",
       "      <th>19</th>\n",
       "      <td>Mordo</td>\n",
       "      <td>48</td>\n",
       "    </tr>\n",
       "    <tr>\n",
       "      <th>2</th>\n",
       "      <td>Christine Palmer</td>\n",
       "      <td>35</td>\n",
       "    </tr>\n",
       "    <tr>\n",
       "      <th>1</th>\n",
       "      <td>Christine</td>\n",
       "      <td>30</td>\n",
       "    </tr>\n",
       "    <tr>\n",
       "      <th>16</th>\n",
       "      <td>Kaecilius</td>\n",
       "      <td>28</td>\n",
       "    </tr>\n",
       "    <tr>\n",
       "      <th>24</th>\n",
       "      <td>Wong</td>\n",
       "      <td>19</td>\n",
       "    </tr>\n",
       "    <tr>\n",
       "      <th>9</th>\n",
       "      <td>Dormammu</td>\n",
       "      <td>12</td>\n",
       "    </tr>\n",
       "    <tr>\n",
       "      <th>0</th>\n",
       "      <td>Billy</td>\n",
       "      <td>7</td>\n",
       "    </tr>\n",
       "    <tr>\n",
       "      <th>20</th>\n",
       "      <td>Pangborn</td>\n",
       "      <td>7</td>\n",
       "    </tr>\n",
       "    <tr>\n",
       "      <th>13</th>\n",
       "      <td>Dr. West</td>\n",
       "      <td>7</td>\n",
       "    </tr>\n",
       "    <tr>\n",
       "      <th>23</th>\n",
       "      <td>Thor</td>\n",
       "      <td>6</td>\n",
       "    </tr>\n",
       "    <tr>\n",
       "      <th>25</th>\n",
       "      <td>Young Doctor</td>\n",
       "      <td>5</td>\n",
       "    </tr>\n",
       "    <tr>\n",
       "      <th>14</th>\n",
       "      <td>Etienne</td>\n",
       "      <td>4</td>\n",
       "    </tr>\n",
       "    <tr>\n",
       "      <th>15</th>\n",
       "      <td>Jonathan</td>\n",
       "      <td>4</td>\n",
       "    </tr>\n",
       "    <tr>\n",
       "      <th>17</th>\n",
       "      <td>Karl Mordo</td>\n",
       "      <td>4</td>\n",
       "    </tr>\n",
       "    <tr>\n",
       "      <th>12</th>\n",
       "      <td>Dr. Strange</td>\n",
       "      <td>1</td>\n",
       "    </tr>\n",
       "    <tr>\n",
       "      <th>10</th>\n",
       "      <td>Dr. Billy</td>\n",
       "      <td>1</td>\n",
       "    </tr>\n",
       "    <tr>\n",
       "      <th>8</th>\n",
       "      <td>Doctor Two</td>\n",
       "      <td>1</td>\n",
       "    </tr>\n",
       "    <tr>\n",
       "      <th>18</th>\n",
       "      <td>Master</td>\n",
       "      <td>1</td>\n",
       "    </tr>\n",
       "    <tr>\n",
       "      <th>6</th>\n",
       "      <td>Doctor Stephen Strange</td>\n",
       "      <td>1</td>\n",
       "    </tr>\n",
       "    <tr>\n",
       "      <th>5</th>\n",
       "      <td>Doctor One</td>\n",
       "      <td>1</td>\n",
       "    </tr>\n",
       "    <tr>\n",
       "      <th>21</th>\n",
       "      <td>Sign</td>\n",
       "      <td>1</td>\n",
       "    </tr>\n",
       "    <tr>\n",
       "      <th>4</th>\n",
       "      <td>Doctor</td>\n",
       "      <td>1</td>\n",
       "    </tr>\n",
       "    <tr>\n",
       "      <th>3</th>\n",
       "      <td>Crhstine Palmer</td>\n",
       "      <td>1</td>\n",
       "    </tr>\n",
       "  </tbody>\n",
       "</table>\n",
       "</div>"
      ],
      "text/plain": [
       "                 character  line_count\n",
       "11     Dr. Stephen Strange         191\n",
       "22         The Ancient One          67\n",
       "7           Doctor Strange          59\n",
       "19                   Mordo          48\n",
       "2         Christine Palmer          35\n",
       "1                Christine          30\n",
       "16               Kaecilius          28\n",
       "24                    Wong          19\n",
       "9                 Dormammu          12\n",
       "0                    Billy           7\n",
       "20                Pangborn           7\n",
       "13                Dr. West           7\n",
       "23                    Thor           6\n",
       "25            Young Doctor           5\n",
       "14                 Etienne           4\n",
       "15                Jonathan           4\n",
       "17              Karl Mordo           4\n",
       "12             Dr. Strange           1\n",
       "10               Dr. Billy           1\n",
       "8               Doctor Two           1\n",
       "18                  Master           1\n",
       "6   Doctor Stephen Strange           1\n",
       "5               Doctor One           1\n",
       "21                    Sign           1\n",
       "4                   Doctor           1\n",
       "3          Crhstine Palmer           1"
      ]
     },
     "execution_count": 24,
     "metadata": {},
     "output_type": "execute_result"
    }
   ],
   "source": [
    "characters = np.unique(re.findall(string=script, pattern='\\n((?:[A-Z][a-z]+\\.? ?)+):'), return_counts=True)\n",
    "characters = pd.DataFrame(zip(characters[0], characters[1]), columns=['character', 'line_count'])\n",
    "print(len(characters))\n",
    "characters.sort_values(['line_count'], ascending=False)"
   ]
  },
  {
   "cell_type": "markdown",
   "id": "8dc5de33-8eca-43dd-8068-096a3e26d5c8",
   "metadata": {},
   "source": [
    "## Remove Narration"
   ]
  },
  {
   "cell_type": "code",
   "execution_count": 25,
   "id": "103780fd-96d8-4cf0-b6d9-8bac1837d6fa",
   "metadata": {},
   "outputs": [
    {
     "data": {
      "text/html": [
       "<pre>✔️ 0 ns (2021-11-28T08:37:45/2021-11-28T08:37:45)</pre>"
      ],
      "text/plain": [
       "<IPython.core.display.HTML object>"
      ]
     },
     "metadata": {},
     "output_type": "display_data"
    },
    {
     "name": "stdout",
     "output_type": "stream",
     "text": [
      "The Ancient One: Master Kaecilius. That ritual will bring you only sorrow\n",
      "Kaecilius: Hypocrite!\n",
      "\n",
      "\n",
      "\n",
      "\n",
      "— At a hospital —\n",
      "Doctor Strange: Challenge round, Billy.\n",
      "Doctor Strange: Oh, come on, Billy. You’ve got to be messing with me.\n",
      "Billy: Heheh. No, doctor.\n",
      "Doctor Strange: Feels So Good, Chuck Mangione, 1977. Seriously, Billy, you said this one would be hard.\n",
      "Billy: Hah! It’s 1978.\n",
      "Doctor Strange: No, Billy, while Feels So Good may have charted in 1978, the album was released in December, 1977.\n",
      "Billy: No, no. Wikipedia says the…\n",
      "Doctor Strange: Check again.\n",
      "Billy: When did you…?\n",
      "Doctor that is helping Stephen: Where do you store all this useless information?\n",
      "Doctor Strange: Useless? The man charted a top ten hit with a Flugelhorn. Status, Billy?\n",
      "Dr. Billy: 1977.\n",
      "Doctor that is helping Stephen: Oh! Please. I hate you.\n",
      "Doctor Strange: Woah! \"Feels so good\", doesn’t it?\n",
      "Doctor Strange: Oh, I…\n",
      "Doctor that is helping Stephen: I’ve got this, Stephen. You’ve done your bit. Go ahead, we’ll close u\n"
     ]
    }
   ],
   "source": [
    "script_lines_only = re.sub(string=script, pattern='(\\[.*\\])\\n?', repl='')\n",
    "script_lines_only = re.sub(string=script_lines_only, pattern='\\n(\\[.*\\]?)\\n', repl='\\n')\n",
    "script_lines_only = re.sub(string=script_lines_only, pattern='\\n(\\(.*\\)?)\\n', repl='\\n')\n",
    "script_lines_only = re.sub(string=script_lines_only, pattern='\\xa0', repl=' ')\n",
    "\n",
    "print(script_lines_only[:1000])"
   ]
  },
  {
   "cell_type": "markdown",
   "id": "7a339a3b-56c5-479d-a48e-ca0f95409000",
   "metadata": {},
   "source": [
    "## Charactater Line Extractions"
   ]
  },
  {
   "cell_type": "code",
   "execution_count": 27,
   "id": "f5f28a33-0153-40be-afdb-9c52495b8e2c",
   "metadata": {},
   "outputs": [
    {
     "data": {
      "text/html": [
       "<pre>✔️ 0 ns (2021-11-28T08:38:13/2021-11-28T08:38:13)</pre>"
      ],
      "text/plain": [
       "<IPython.core.display.HTML object>"
      ]
     },
     "metadata": {},
     "output_type": "display_data"
    },
    {
     "data": {
      "text/plain": [
       "Dr. Stephen Strange       191\n",
       "The Ancient One            67\n",
       "Doctor Strange             58\n",
       "Mordo                      48\n",
       "Christine Palmer           33\n",
       "Christine                  30\n",
       "Kaecilius                  28\n",
       "Wong                       19\n",
       "Dormammu                   12\n",
       "Billy                       7\n",
       "Dr. West                    7\n",
       "Pangborn                    7\n",
       "Thor                        6\n",
       "Young Doctor                5\n",
       "Etienne                     4\n",
       "Jonathan                    4\n",
       "Karl Mordo                  4\n",
       "Stephen                     3\n",
       "Doctor Two                  1\n",
       "Doctor Stephen Strange      1\n",
       "Doctor One                  1\n",
       "Sign                        1\n",
       "Doctor                      1\n",
       "Crhstine Palmer             1\n",
       "Master                      1\n",
       "Strange                     1\n",
       "Dr. Billy                   1\n",
       "Dr. Strange                 1\n",
       "Name: character, dtype: int64"
      ]
     },
     "execution_count": 27,
     "metadata": {},
     "output_type": "execute_result"
    }
   ],
   "source": [
    "lines = re.findall(string=script_lines_only, pattern='((?:[A-Z][a-z]+[\\-\\.]? ?)+):\\s*(.*)')\n",
    "lines = pd.DataFrame(lines, columns=['character', 'line'])\n",
    "lines['line'] = [x.rstrip().lstrip() for x in lines['line']]\n",
    "lines['character'].value_counts()"
   ]
  },
  {
   "cell_type": "code",
   "execution_count": null,
   "id": "a77a3cb3-a837-4437-bb3c-94b7fe4e0520",
   "metadata": {},
   "outputs": [],
   "source": []
  }
 ],
 "metadata": {
  "kernelspec": {
   "display_name": "Python 3 (ipykernel)",
   "language": "python",
   "name": "python3"
  },
  "language_info": {
   "codemirror_mode": {
    "name": "ipython",
    "version": 3
   },
   "file_extension": ".py",
   "mimetype": "text/x-python",
   "name": "python",
   "nbconvert_exporter": "python",
   "pygments_lexer": "ipython3",
   "version": "3.9.7"
  }
 },
 "nbformat": 4,
 "nbformat_minor": 5
}

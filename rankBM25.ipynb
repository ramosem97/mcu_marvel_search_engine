{
 "cells": [
  {
   "cell_type": "markdown",
   "id": "a94e61fa-f538-4edf-a9f6-91d2d9524271",
   "metadata": {},
   "source": [
    "# Rank BM 25 Search Engine"
   ]
  },
  {
   "cell_type": "markdown",
   "id": "9040d0fb-624e-452e-8f92-06be856b079d",
   "metadata": {},
   "source": [
    "## Configuration"
   ]
  },
  {
   "cell_type": "code",
   "execution_count": 1,
   "id": "b48d84d4-adeb-442d-989d-511aa4e5a276",
   "metadata": {},
   "outputs": [
    {
     "data": {
      "text/html": [
       "<pre>✔️ 0 ns (2021-11-16T14:40:06/2021-11-16T14:40:06)</pre>"
      ],
      "text/plain": [
       "<IPython.core.display.HTML object>"
      ]
     },
     "metadata": {},
     "output_type": "display_data"
    }
   ],
   "source": [
    "%load_ext autotime"
   ]
  },
  {
   "cell_type": "code",
   "execution_count": 2,
   "id": "6af25b7e-3abc-430e-b8b1-b336b357b5be",
   "metadata": {},
   "outputs": [
    {
     "data": {
      "text/html": [
       "<pre>✔️ 937 ms (2021-11-16T14:40:07/2021-11-16T14:40:07)</pre>"
      ],
      "text/plain": [
       "<IPython.core.display.HTML object>"
      ]
     },
     "metadata": {},
     "output_type": "display_data"
    }
   ],
   "source": [
    "from rank_bm25 import *\n",
    "\n",
    "import pandas as pd\n",
    "import numpy as np\n",
    "\n",
    "import seaborn as sns\n",
    "import matplotlib.pyplot as plt\n",
    "\n",
    "import os"
   ]
  },
  {
   "cell_type": "code",
   "execution_count": 3,
   "id": "f02104b7-61fc-4964-8d6e-4a83b459ebe4",
   "metadata": {},
   "outputs": [
    {
     "data": {
      "text/html": [
       "<pre>✔️ 0 ns (2021-11-16T14:40:08/2021-11-16T14:40:08)</pre>"
      ],
      "text/plain": [
       "<IPython.core.display.HTML object>"
      ]
     },
     "metadata": {},
     "output_type": "display_data"
    },
    {
     "name": "stdout",
     "output_type": "stream",
     "text": [
      "Path:  C:\\Users\\ramos\\OneDrive\\Documents\\SyracuseUniversity\\9th_Quarter\\IST736\\Project\\full_data\\\n"
     ]
    }
   ],
   "source": [
    "path = os.getcwd()+'\\\\full_data\\\\'\n",
    "print('Path: ', path)"
   ]
  },
  {
   "cell_type": "markdown",
   "id": "2a233f79-9cce-4e00-bdf5-8daf893a60ff",
   "metadata": {},
   "source": [
    "## Analysis"
   ]
  },
  {
   "cell_type": "markdown",
   "id": "ab561196-0f01-4ee6-bf9b-3c323215a8eb",
   "metadata": {},
   "source": [
    "### About the Data"
   ]
  },
  {
   "cell_type": "code",
   "execution_count": 4,
   "id": "e046f976-dd73-4254-8c29-6301108aeb88",
   "metadata": {},
   "outputs": [
    {
     "data": {
      "text/html": [
       "<pre>✔️ 32 ms (2021-11-16T14:40:08/2021-11-16T14:40:08)</pre>"
      ],
      "text/plain": [
       "<IPython.core.display.HTML object>"
      ]
     },
     "metadata": {},
     "output_type": "display_data"
    },
    {
     "name": "stdout",
     "output_type": "stream",
     "text": [
      "Entries:  6509\n"
     ]
    },
    {
     "data": {
      "text/html": [
       "<div>\n",
       "<style scoped>\n",
       "    .dataframe tbody tr th:only-of-type {\n",
       "        vertical-align: middle;\n",
       "    }\n",
       "\n",
       "    .dataframe tbody tr th {\n",
       "        vertical-align: top;\n",
       "    }\n",
       "\n",
       "    .dataframe thead th {\n",
       "        text-align: right;\n",
       "    }\n",
       "</style>\n",
       "<table border=\"1\" class=\"dataframe\">\n",
       "  <thead>\n",
       "    <tr style=\"text-align: right;\">\n",
       "      <th></th>\n",
       "      <th>character</th>\n",
       "      <th>line</th>\n",
       "      <th>movie</th>\n",
       "      <th>year</th>\n",
       "      <th>words</th>\n",
       "    </tr>\n",
       "  </thead>\n",
       "  <tbody>\n",
       "    <tr>\n",
       "      <th>0</th>\n",
       "      <td>TONY STARK</td>\n",
       "      <td>Oh, I get it.  You guys aren’t allowed to talk...</td>\n",
       "      <td>Iron Man</td>\n",
       "      <td>2008</td>\n",
       "      <td>22</td>\n",
       "    </tr>\n",
       "    <tr>\n",
       "      <th>1</th>\n",
       "      <td>TONY STARK</td>\n",
       "      <td>Oh.  I see.  So it’s personal.</td>\n",
       "      <td>Iron Man</td>\n",
       "      <td>2008</td>\n",
       "      <td>8</td>\n",
       "    </tr>\n",
       "    <tr>\n",
       "      <th>2</th>\n",
       "      <td>TONY STARK</td>\n",
       "      <td>Good God, you’re a woman. I, honestly, I could...</td>\n",
       "      <td>Iron Man</td>\n",
       "      <td>2008</td>\n",
       "      <td>31</td>\n",
       "    </tr>\n",
       "    <tr>\n",
       "      <th>3</th>\n",
       "      <td>TONY STARK</td>\n",
       "      <td>Please.</td>\n",
       "      <td>Iron Man</td>\n",
       "      <td>2008</td>\n",
       "      <td>1</td>\n",
       "    </tr>\n",
       "    <tr>\n",
       "      <th>4</th>\n",
       "      <td>TONY STARK</td>\n",
       "      <td>Excellent question. Yes and no. March and I ha...</td>\n",
       "      <td>Iron Man</td>\n",
       "      <td>2008</td>\n",
       "      <td>28</td>\n",
       "    </tr>\n",
       "  </tbody>\n",
       "</table>\n",
       "</div>"
      ],
      "text/plain": [
       "    character                                               line     movie  \\\n",
       "0  TONY STARK  Oh, I get it.  You guys aren’t allowed to talk...  Iron Man   \n",
       "1  TONY STARK                     Oh.  I see.  So it’s personal.  Iron Man   \n",
       "2  TONY STARK  Good God, you’re a woman. I, honestly, I could...  Iron Man   \n",
       "3  TONY STARK                                            Please.  Iron Man   \n",
       "4  TONY STARK  Excellent question. Yes and no. March and I ha...  Iron Man   \n",
       "\n",
       "   year  words  \n",
       "0  2008     22  \n",
       "1  2008      8  \n",
       "2  2008     31  \n",
       "3  2008      1  \n",
       "4  2008     28  "
      ]
     },
     "execution_count": 4,
     "metadata": {},
     "output_type": "execute_result"
    }
   ],
   "source": [
    "df = pd.read_csv(path + 'mcu_data.csv', index_col=0).reset_index(drop=True)[['character', 'line', 'movie', 'year', 'words']]\n",
    "print('Entries: ', len(df))\n",
    "df.head()"
   ]
  },
  {
   "cell_type": "code",
   "execution_count": 6,
   "id": "9cf36f5f-c254-492a-a78c-b7ed6652631d",
   "metadata": {},
   "outputs": [
    {
     "data": {
      "text/html": [
       "<pre>✔️ 0 ns (2021-11-16T14:40:36/2021-11-16T14:40:36)</pre>"
      ],
      "text/plain": [
       "<IPython.core.display.HTML object>"
      ]
     },
     "metadata": {},
     "output_type": "display_data"
    },
    {
     "data": {
      "text/html": [
       "<div>\n",
       "<style scoped>\n",
       "    .dataframe tbody tr th:only-of-type {\n",
       "        vertical-align: middle;\n",
       "    }\n",
       "\n",
       "    .dataframe tbody tr th {\n",
       "        vertical-align: top;\n",
       "    }\n",
       "\n",
       "    .dataframe thead th {\n",
       "        text-align: right;\n",
       "    }\n",
       "</style>\n",
       "<table border=\"1\" class=\"dataframe\">\n",
       "  <thead>\n",
       "    <tr style=\"text-align: right;\">\n",
       "      <th></th>\n",
       "      <th>movie</th>\n",
       "      <th>year</th>\n",
       "    </tr>\n",
       "  </thead>\n",
       "  <tbody>\n",
       "    <tr>\n",
       "      <th>0</th>\n",
       "      <td>Iron Man</td>\n",
       "      <td>2008</td>\n",
       "    </tr>\n",
       "    <tr>\n",
       "      <th>433</th>\n",
       "      <td>Iron Man 2</td>\n",
       "      <td>2010</td>\n",
       "    </tr>\n",
       "    <tr>\n",
       "      <th>1104</th>\n",
       "      <td>Thor</td>\n",
       "      <td>2011</td>\n",
       "    </tr>\n",
       "    <tr>\n",
       "      <th>1364</th>\n",
       "      <td>Captain America: The First Avenger</td>\n",
       "      <td>2011</td>\n",
       "    </tr>\n",
       "    <tr>\n",
       "      <th>1556</th>\n",
       "      <td>The Avengers</td>\n",
       "      <td>2012</td>\n",
       "    </tr>\n",
       "    <tr>\n",
       "      <th>2265</th>\n",
       "      <td>Iron Man 3</td>\n",
       "      <td>2013</td>\n",
       "    </tr>\n",
       "    <tr>\n",
       "      <th>2797</th>\n",
       "      <td>Thor: The Dark World</td>\n",
       "      <td>2013</td>\n",
       "    </tr>\n",
       "    <tr>\n",
       "      <th>3032</th>\n",
       "      <td>Captain America: The Winter Soldier</td>\n",
       "      <td>2014</td>\n",
       "    </tr>\n",
       "    <tr>\n",
       "      <th>3437</th>\n",
       "      <td>Avengers: Age of Ultron</td>\n",
       "      <td>2015</td>\n",
       "    </tr>\n",
       "    <tr>\n",
       "      <th>4006</th>\n",
       "      <td>Ant-Man</td>\n",
       "      <td>2015</td>\n",
       "    </tr>\n",
       "    <tr>\n",
       "      <th>4010</th>\n",
       "      <td>Captain America: Civil War</td>\n",
       "      <td>2016</td>\n",
       "    </tr>\n",
       "    <tr>\n",
       "      <th>4494</th>\n",
       "      <td>Spider-Man: Homecoming</td>\n",
       "      <td>2017</td>\n",
       "    </tr>\n",
       "    <tr>\n",
       "      <th>5015</th>\n",
       "      <td>Thor: Ragnarok</td>\n",
       "      <td>2017</td>\n",
       "    </tr>\n",
       "    <tr>\n",
       "      <th>5452</th>\n",
       "      <td>Avengers: Infinity War</td>\n",
       "      <td>2018</td>\n",
       "    </tr>\n",
       "    <tr>\n",
       "      <th>5822</th>\n",
       "      <td>Captain Marvel</td>\n",
       "      <td>2019</td>\n",
       "    </tr>\n",
       "    <tr>\n",
       "      <th>5953</th>\n",
       "      <td>Avengers: Endgame</td>\n",
       "      <td>2019</td>\n",
       "    </tr>\n",
       "  </tbody>\n",
       "</table>\n",
       "</div>"
      ],
      "text/plain": [
       "                                    movie  year\n",
       "0                                Iron Man  2008\n",
       "433                            Iron Man 2  2010\n",
       "1104                                 Thor  2011\n",
       "1364   Captain America: The First Avenger  2011\n",
       "1556                         The Avengers  2012\n",
       "2265                           Iron Man 3  2013\n",
       "2797                 Thor: The Dark World  2013\n",
       "3032  Captain America: The Winter Soldier  2014\n",
       "3437              Avengers: Age of Ultron  2015\n",
       "4006                              Ant-Man  2015\n",
       "4010           Captain America: Civil War  2016\n",
       "4494               Spider-Man: Homecoming  2017\n",
       "5015                       Thor: Ragnarok  2017\n",
       "5452               Avengers: Infinity War  2018\n",
       "5822                       Captain Marvel  2019\n",
       "5953                    Avengers: Endgame  2019"
      ]
     },
     "execution_count": 6,
     "metadata": {},
     "output_type": "execute_result"
    }
   ],
   "source": [
    "df.groupby(['movie', 'year']).head(1)[['movie', 'year']]"
   ]
  },
  {
   "cell_type": "code",
   "execution_count": 5,
   "id": "a8149b77-08e7-4e5b-884a-fff984bf0414",
   "metadata": {},
   "outputs": [
    {
     "data": {
      "text/html": [
       "<pre>✔️ 0 ns (2021-11-14T08:46:51/2021-11-14T08:46:51)</pre>"
      ],
      "text/plain": [
       "<IPython.core.display.HTML object>"
      ]
     },
     "metadata": {},
     "output_type": "display_data"
    },
    {
     "data": {
      "text/html": [
       "<div>\n",
       "<style scoped>\n",
       "    .dataframe tbody tr th:only-of-type {\n",
       "        vertical-align: middle;\n",
       "    }\n",
       "\n",
       "    .dataframe tbody tr th {\n",
       "        vertical-align: top;\n",
       "    }\n",
       "\n",
       "    .dataframe thead th {\n",
       "        text-align: right;\n",
       "    }\n",
       "</style>\n",
       "<table border=\"1\" class=\"dataframe\">\n",
       "  <thead>\n",
       "    <tr style=\"text-align: right;\">\n",
       "      <th></th>\n",
       "      <th>character</th>\n",
       "      <th>line</th>\n",
       "      <th>movie</th>\n",
       "      <th>year</th>\n",
       "    </tr>\n",
       "  </thead>\n",
       "  <tbody>\n",
       "    <tr>\n",
       "      <th>4526</th>\n",
       "      <td>PETER PARKER</td>\n",
       "      <td>Mm-hmm.</td>\n",
       "      <td>Spider-Man: Homecoming</td>\n",
       "      <td>2017</td>\n",
       "    </tr>\n",
       "    <tr>\n",
       "      <th>4283</th>\n",
       "      <td>TONY STARK</td>\n",
       "      <td>Alright, Spider-Man.  Get me out of this.</td>\n",
       "      <td>Captain America: Civil War</td>\n",
       "      <td>2016</td>\n",
       "    </tr>\n",
       "    <tr>\n",
       "      <th>3915</th>\n",
       "      <td>TONY STARK</td>\n",
       "      <td>The spire's Vibranium. If I get Thor to hit it...</td>\n",
       "      <td>Avengers: Age of Ultron</td>\n",
       "      <td>2015</td>\n",
       "    </tr>\n",
       "    <tr>\n",
       "      <th>4637</th>\n",
       "      <td>PETER PARKER</td>\n",
       "      <td>This is a mistake. Hey, let’s just go home.</td>\n",
       "      <td>Spider-Man: Homecoming</td>\n",
       "      <td>2017</td>\n",
       "    </tr>\n",
       "    <tr>\n",
       "      <th>6157</th>\n",
       "      <td>BRUCE BANNER</td>\n",
       "      <td>We didn’t say we were here to see-</td>\n",
       "      <td>Avengers: Endgame</td>\n",
       "      <td>2019</td>\n",
       "    </tr>\n",
       "    <tr>\n",
       "      <th>5877</th>\n",
       "      <td>NICK FURY</td>\n",
       "      <td>Well, she's dead.</td>\n",
       "      <td>Captain Marvel</td>\n",
       "      <td>2019</td>\n",
       "    </tr>\n",
       "    <tr>\n",
       "      <th>3542</th>\n",
       "      <td>THOR</td>\n",
       "      <td>That's the whole story?</td>\n",
       "      <td>Avengers: Age of Ultron</td>\n",
       "      <td>2015</td>\n",
       "    </tr>\n",
       "    <tr>\n",
       "      <th>2385</th>\n",
       "      <td>PEPPER POTTS</td>\n",
       "      <td>It would be incredible.</td>\n",
       "      <td>Iron Man 3</td>\n",
       "      <td>2013</td>\n",
       "    </tr>\n",
       "    <tr>\n",
       "      <th>3606</th>\n",
       "      <td>THOR</td>\n",
       "      <td>Yes, well that's, uh, that's a very, very inte...</td>\n",
       "      <td>Avengers: Age of Ultron</td>\n",
       "      <td>2015</td>\n",
       "    </tr>\n",
       "    <tr>\n",
       "      <th>1569</th>\n",
       "      <td>NICK FURY</td>\n",
       "      <td>That can be harmful. Where’s agent Barton?</td>\n",
       "      <td>The Avengers</td>\n",
       "      <td>2012</td>\n",
       "    </tr>\n",
       "    <tr>\n",
       "      <th>4781</th>\n",
       "      <td>PETER PARKER</td>\n",
       "      <td>I did it! Whoa! Ahem. Hey, how you doing? Don'...</td>\n",
       "      <td>Spider-Man: Homecoming</td>\n",
       "      <td>2017</td>\n",
       "    </tr>\n",
       "    <tr>\n",
       "      <th>3753</th>\n",
       "      <td>NICK FURY</td>\n",
       "      <td>Artificial intelligence. You never even hesita...</td>\n",
       "      <td>Avengers: Age of Ultron</td>\n",
       "      <td>2015</td>\n",
       "    </tr>\n",
       "    <tr>\n",
       "      <th>3975</th>\n",
       "      <td>STEVE ROGERS</td>\n",
       "      <td>Well, the Vision's artificial intelligence.</td>\n",
       "      <td>Avengers: Age of Ultron</td>\n",
       "      <td>2015</td>\n",
       "    </tr>\n",
       "    <tr>\n",
       "      <th>2952</th>\n",
       "      <td>LOKI</td>\n",
       "      <td>I'm sorry.</td>\n",
       "      <td>Thor: The Dark World</td>\n",
       "      <td>2013</td>\n",
       "    </tr>\n",
       "    <tr>\n",
       "      <th>4517</th>\n",
       "      <td>TONY STARK</td>\n",
       "      <td>It’s all right. I’d probably do the same.</td>\n",
       "      <td>Spider-Man: Homecoming</td>\n",
       "      <td>2017</td>\n",
       "    </tr>\n",
       "    <tr>\n",
       "      <th>3338</th>\n",
       "      <td>NATASHA ROMANOFF</td>\n",
       "      <td>Insight's launching in sixteen hours, we're cu...</td>\n",
       "      <td>Captain America: The Winter Soldier</td>\n",
       "      <td>2014</td>\n",
       "    </tr>\n",
       "    <tr>\n",
       "      <th>5399</th>\n",
       "      <td>BRUCE BANNER</td>\n",
       "      <td>None of them are for flying alien spaceships! ...</td>\n",
       "      <td>Thor: Ragnarok</td>\n",
       "      <td>2017</td>\n",
       "    </tr>\n",
       "    <tr>\n",
       "      <th>3867</th>\n",
       "      <td>THOR</td>\n",
       "      <td>The Avengers cannot defeat Ultron.</td>\n",
       "      <td>Avengers: Age of Ultron</td>\n",
       "      <td>2015</td>\n",
       "    </tr>\n",
       "    <tr>\n",
       "      <th>3210</th>\n",
       "      <td>STEVE ROGERS</td>\n",
       "      <td>What's on it?</td>\n",
       "      <td>Captain America: The Winter Soldier</td>\n",
       "      <td>2014</td>\n",
       "    </tr>\n",
       "    <tr>\n",
       "      <th>2741</th>\n",
       "      <td>JAMES RHODES</td>\n",
       "      <td>This is how you've been managing your down tim...</td>\n",
       "      <td>Iron Man 3</td>\n",
       "      <td>2013</td>\n",
       "    </tr>\n",
       "  </tbody>\n",
       "</table>\n",
       "</div>"
      ],
      "text/plain": [
       "             character                                               line  \\\n",
       "4526      PETER PARKER                                            Mm-hmm.   \n",
       "4283        TONY STARK          Alright, Spider-Man.  Get me out of this.   \n",
       "3915        TONY STARK  The spire's Vibranium. If I get Thor to hit it...   \n",
       "4637      PETER PARKER        This is a mistake. Hey, let’s just go home.   \n",
       "6157      BRUCE BANNER                 We didn’t say we were here to see-   \n",
       "5877         NICK FURY                                  Well, she's dead.   \n",
       "3542              THOR                            That's the whole story?   \n",
       "2385      PEPPER POTTS                            It would be incredible.   \n",
       "3606              THOR  Yes, well that's, uh, that's a very, very inte...   \n",
       "1569         NICK FURY         That can be harmful. Where’s agent Barton?   \n",
       "4781      PETER PARKER  I did it! Whoa! Ahem. Hey, how you doing? Don'...   \n",
       "3753         NICK FURY  Artificial intelligence. You never even hesita...   \n",
       "3975      STEVE ROGERS        Well, the Vision's artificial intelligence.   \n",
       "2952              LOKI                                         I'm sorry.   \n",
       "4517        TONY STARK          It’s all right. I’d probably do the same.   \n",
       "3338  NATASHA ROMANOFF  Insight's launching in sixteen hours, we're cu...   \n",
       "5399      BRUCE BANNER  None of them are for flying alien spaceships! ...   \n",
       "3867              THOR                 The Avengers cannot defeat Ultron.   \n",
       "3210      STEVE ROGERS                                      What's on it?   \n",
       "2741      JAMES RHODES  This is how you've been managing your down tim...   \n",
       "\n",
       "                                    movie  year  \n",
       "4526               Spider-Man: Homecoming  2017  \n",
       "4283           Captain America: Civil War  2016  \n",
       "3915              Avengers: Age of Ultron  2015  \n",
       "4637               Spider-Man: Homecoming  2017  \n",
       "6157                    Avengers: Endgame  2019  \n",
       "5877                       Captain Marvel  2019  \n",
       "3542              Avengers: Age of Ultron  2015  \n",
       "2385                           Iron Man 3  2013  \n",
       "3606              Avengers: Age of Ultron  2015  \n",
       "1569                         The Avengers  2012  \n",
       "4781               Spider-Man: Homecoming  2017  \n",
       "3753              Avengers: Age of Ultron  2015  \n",
       "3975              Avengers: Age of Ultron  2015  \n",
       "2952                 Thor: The Dark World  2013  \n",
       "4517               Spider-Man: Homecoming  2017  \n",
       "3338  Captain America: The Winter Soldier  2014  \n",
       "5399                       Thor: Ragnarok  2017  \n",
       "3867              Avengers: Age of Ultron  2015  \n",
       "3210  Captain America: The Winter Soldier  2014  \n",
       "2741                           Iron Man 3  2013  "
      ]
     },
     "execution_count": 5,
     "metadata": {},
     "output_type": "execute_result"
    }
   ],
   "source": [
    "df.sample(20)[['character', 'line', 'movie', 'year']].head(20)"
   ]
  },
  {
   "cell_type": "markdown",
   "id": "877b8911-ff24-4a56-80d3-93c6145f7559",
   "metadata": {},
   "source": [
    "### Processing Data"
   ]
  },
  {
   "cell_type": "code",
   "execution_count": 6,
   "id": "5f860f32-8e49-4ec3-94fd-c271089f3341",
   "metadata": {},
   "outputs": [
    {
     "data": {
      "text/html": [
       "<pre>✔️ 703 ms (2021-11-14T08:46:52/2021-11-14T08:46:52)</pre>"
      ],
      "text/plain": [
       "<IPython.core.display.HTML object>"
      ]
     },
     "metadata": {},
     "output_type": "display_data"
    }
   ],
   "source": [
    "### Define RegexpTokenizer Tokenizer\n",
    "from nltk.tokenize import RegexpTokenizer\n",
    "tokenizer = RegexpTokenizer('\\w+|\\$[\\d\\.]+|\\S+')\n",
    "\n",
    "### Define Unwanted Words / Punctuation\n",
    "import re\n",
    "from nltk.corpus import stopwords\n",
    "stopWords = stopwords.words('english')\n",
    "\n",
    "### Define Lemmatizer\n",
    "from nltk.stem.wordnet import WordNetLemmatizer\n",
    "lmt = WordNetLemmatizer()\n",
    "\n",
    "### Define Stemmer\n",
    "from nltk.stem import SnowballStemmer\n",
    "stemmer = SnowballStemmer(\"english\")\n",
    "\n",
    "def preprocess_text(doc):\n",
    "    \"\"\"\n",
    "    Function used to preprocess review into a standarized format.\n",
    "    The function tokenizes, standarizes, removes punctuation, removes stopwords, lemmatizes and stemms.\n",
    "    \"\"\"\n",
    "    \n",
    "    tokens = tokenizer.tokenize(doc)\n",
    "    \n",
    "    clean_tokL = []\n",
    "    for tkn in tokens:\n",
    "        \n",
    "        ### Standarize Text\n",
    "        # lower case\n",
    "        tkn_processed = tkn.lower()\n",
    "        # remove digits\n",
    "        tkn_processed = re.sub(r'\\d+', '', tkn_processed)\n",
    "        # remove punctuation and special chars\n",
    "        tkn_processed = re.sub(r'[^\\w\\s]+', ' ', tkn_processed)\n",
    "        # strip whitespace\n",
    "        tkn_processed = tkn_processed.strip()\n",
    "        \n",
    "        ### Remove Stop Words\n",
    "        if tkn_processed in stopWords:\n",
    "            continue\n",
    "            \n",
    "        ### Lemmatize\n",
    "        # tkn_processed = lmt.lemmatize(tkn_processed)\n",
    "        \n",
    "        ### Stem Token\n",
    "        # tkn_processed = stemmer.stem(tkn_processed)\n",
    "            \n",
    "        # If word is not empy, then add to document token list\n",
    "        if tkn_processed != '':\n",
    "            clean_tokL.append(tkn_processed)\n",
    "            \n",
    "    return clean_tokL\n",
    "\n",
    "### Pre Process Reviews with Function\n",
    "df['line_processed'] = [preprocess_text(doc) for doc in df['line'].values]"
   ]
  },
  {
   "cell_type": "markdown",
   "id": "8431baa8-7ba6-4587-8fb2-6655886ccc41",
   "metadata": {},
   "source": [
    "## Modeling"
   ]
  },
  {
   "cell_type": "markdown",
   "id": "a1e767a7-7735-4e8e-ab30-65aa19e2eaff",
   "metadata": {},
   "source": [
    "### Simple Search by Matching String Value"
   ]
  },
  {
   "cell_type": "code",
   "execution_count": 7,
   "id": "e7964b48-5563-4892-8b8e-cdc830a6af18",
   "metadata": {},
   "outputs": [
    {
     "data": {
      "text/html": [
       "<pre>✔️ 15 ms (2021-11-14T08:46:52/2021-11-14T08:46:52)</pre>"
      ],
      "text/plain": [
       "<IPython.core.display.HTML object>"
      ]
     },
     "metadata": {},
     "output_type": "display_data"
    }
   ],
   "source": [
    "tokenized_corpus = df['line_processed'].values\n",
    "bm25 = BM25Okapi(tokenized_corpus)"
   ]
  },
  {
   "cell_type": "code",
   "execution_count": 8,
   "id": "66a596a8-2ae6-48b5-a549-84d6bec63233",
   "metadata": {},
   "outputs": [
    {
     "data": {
      "text/html": [
       "<pre>✔️ 78 ms (2021-11-14T08:46:52/2021-11-14T08:46:53)</pre>"
      ],
      "text/plain": [
       "<IPython.core.display.HTML object>"
      ]
     },
     "metadata": {},
     "output_type": "display_data"
    },
    {
     "data": {
      "text/html": [
       "<div>\n",
       "<style scoped>\n",
       "    .dataframe tbody tr th:only-of-type {\n",
       "        vertical-align: middle;\n",
       "    }\n",
       "\n",
       "    .dataframe tbody tr th {\n",
       "        vertical-align: top;\n",
       "    }\n",
       "\n",
       "    .dataframe thead th {\n",
       "        text-align: right;\n",
       "    }\n",
       "</style>\n",
       "<table border=\"1\" class=\"dataframe\">\n",
       "  <thead>\n",
       "    <tr style=\"text-align: right;\">\n",
       "      <th></th>\n",
       "      <th>character</th>\n",
       "      <th>line</th>\n",
       "      <th>movie</th>\n",
       "    </tr>\n",
       "  </thead>\n",
       "  <tbody>\n",
       "    <tr>\n",
       "      <th>5463</th>\n",
       "      <td>BRUCE BANNER</td>\n",
       "      <td>Thanos is coming. He's coming...</td>\n",
       "      <td>Avengers: Infinity War</td>\n",
       "    </tr>\n",
       "    <tr>\n",
       "      <th>5608</th>\n",
       "      <td>THOR</td>\n",
       "      <td>The Thanos killing kind.</td>\n",
       "      <td>Avengers: Infinity War</td>\n",
       "    </tr>\n",
       "    <tr>\n",
       "      <th>5718</th>\n",
       "      <td>PETER PARKER</td>\n",
       "      <td>So, you're not with Thanos?</td>\n",
       "      <td>Avengers: Infinity War</td>\n",
       "    </tr>\n",
       "    <tr>\n",
       "      <th>5774</th>\n",
       "      <td>THOR</td>\n",
       "      <td>BRING ME THANOS!</td>\n",
       "      <td>Avengers: Infinity War</td>\n",
       "    </tr>\n",
       "    <tr>\n",
       "      <th>6172</th>\n",
       "      <td>BRUCE BANNER</td>\n",
       "      <td>Like Thanos.</td>\n",
       "      <td>Avengers: Endgame</td>\n",
       "    </tr>\n",
       "  </tbody>\n",
       "</table>\n",
       "</div>"
      ],
      "text/plain": [
       "         character                              line                   movie\n",
       "5463  BRUCE BANNER  Thanos is coming. He's coming...  Avengers: Infinity War\n",
       "5608          THOR          The Thanos killing kind.  Avengers: Infinity War\n",
       "5718  PETER PARKER       So, you're not with Thanos?  Avengers: Infinity War\n",
       "5774          THOR                  BRING ME THANOS!  Avengers: Infinity War\n",
       "6172  BRUCE BANNER                      Like Thanos.       Avengers: Endgame"
      ]
     },
     "execution_count": 8,
     "metadata": {},
     "output_type": "execute_result"
    },
    {
     "data": {
      "image/png": "[encoded data removed]",
      "text/plain": [
       "<Figure size 432x288 with 1 Axes>"
      ]
     },
     "metadata": {
      "needs_background": "light"
     },
     "output_type": "display_data"
    }
   ],
   "source": [
    "query = 'thanos' ## Enter search query\n",
    "tokenized_query = query.split(' ')\n",
    "doc_scores = bm25.get_scores(tokenized_query)\n",
    "sns.boxplot(x=doc_scores)\n",
    "\n",
    "docs = bm25.get_top_n(tokenized_query, df['line'].values, n=5)\n",
    "df_search = df[df['line'].isin(docs)]\n",
    "df_search[['character', 'line', 'movie']].head()"
   ]
  },
  {
   "cell_type": "code",
   "execution_count": 17,
   "id": "42ec626b-ff3b-4330-8f5a-f8e33011abc4",
   "metadata": {},
   "outputs": [
    {
     "data": {
      "text/html": [
       "<pre>✔️ 16 ms (2021-11-14T08:53:30/2021-11-14T08:53:30)</pre>"
      ],
      "text/plain": [
       "<IPython.core.display.HTML object>"
      ]
     },
     "metadata": {},
     "output_type": "display_data"
    },
    {
     "data": {
      "text/html": [
       "<div>\n",
       "<style scoped>\n",
       "    .dataframe tbody tr th:only-of-type {\n",
       "        vertical-align: middle;\n",
       "    }\n",
       "\n",
       "    .dataframe tbody tr th {\n",
       "        vertical-align: top;\n",
       "    }\n",
       "\n",
       "    .dataframe thead th {\n",
       "        text-align: right;\n",
       "    }\n",
       "</style>\n",
       "<table border=\"1\" class=\"dataframe\">\n",
       "  <thead>\n",
       "    <tr style=\"text-align: right;\">\n",
       "      <th></th>\n",
       "      <th>character</th>\n",
       "      <th>line</th>\n",
       "      <th>movie</th>\n",
       "    </tr>\n",
       "  </thead>\n",
       "  <tbody>\n",
       "    <tr>\n",
       "      <th>435</th>\n",
       "      <td>TONY STARK</td>\n",
       "      <td>I know that it’s confusing. It is one thing to...</td>\n",
       "      <td>Iron Man 2</td>\n",
       "    </tr>\n",
       "    <tr>\n",
       "      <th>2163</th>\n",
       "      <td>TONY STARK</td>\n",
       "      <td>Well, performance issues. You know? JARVIS, an...</td>\n",
       "      <td>The Avengers</td>\n",
       "    </tr>\n",
       "    <tr>\n",
       "      <th>2164</th>\n",
       "      <td>LOKI</td>\n",
       "      <td>You will all fall before me.</td>\n",
       "      <td>The Avengers</td>\n",
       "    </tr>\n",
       "    <tr>\n",
       "      <th>2172</th>\n",
       "      <td>NATASHA ROMANOFF</td>\n",
       "      <td>I see ’em.</td>\n",
       "      <td>The Avengers</td>\n",
       "    </tr>\n",
       "    <tr>\n",
       "      <th>6508</th>\n",
       "      <td>STEVE ROGERS</td>\n",
       "      <td>Nope.  I don’t think I will.</td>\n",
       "      <td>Avengers: Endgame</td>\n",
       "    </tr>\n",
       "  </tbody>\n",
       "</table>\n",
       "</div>"
      ],
      "text/plain": [
       "             character                                               line  \\\n",
       "435         TONY STARK  I know that it’s confusing. It is one thing to...   \n",
       "2163        TONY STARK  Well, performance issues. You know? JARVIS, an...   \n",
       "2164              LOKI                       You will all fall before me.   \n",
       "2172  NATASHA ROMANOFF                                         I see ’em.   \n",
       "6508      STEVE ROGERS                       Nope.  I don’t think I will.   \n",
       "\n",
       "                  movie  \n",
       "435          Iron Man 2  \n",
       "2163       The Avengers  \n",
       "2164       The Avengers  \n",
       "2172       The Avengers  \n",
       "6508  Avengers: Endgame  "
      ]
     },
     "execution_count": 17,
     "metadata": {},
     "output_type": "execute_result"
    }
   ],
   "source": [
    "query = 'character' ## Enter search query\n",
    "tokenized_query = query.split(' ')\n",
    "doc_scores = bm25.get_scores(tokenized_query)\n",
    "\n",
    "docs = bm25.get_top_n(tokenized_query, df['line'].values, n=5)\n",
    "df_search = df[df['line'].isin(docs)]\n",
    "df_search[['character', 'line', 'movie']].head()"
   ]
  },
  {
   "cell_type": "markdown",
   "id": "440ac98f-c25b-4908-8e1a-e88a76c97601",
   "metadata": {},
   "source": [
    "#### Google Universal Sentence Encoder"
   ]
  },
  {
   "cell_type": "code",
   "execution_count": 10,
   "id": "7ed3827c-5e74-4762-8845-6bd445134b47",
   "metadata": {},
   "outputs": [
    {
     "data": {
      "text/html": [
       "<pre>✔️ 2.81 s (2021-11-14T08:46:53/2021-11-14T08:46:56)</pre>"
      ],
      "text/plain": [
       "<IPython.core.display.HTML object>"
      ]
     },
     "metadata": {},
     "output_type": "display_data"
    }
   ],
   "source": [
    "import tensorflow as tf\n",
    "import tensorflow_hub as hub\n",
    "\n",
    "from sklearn.metrics.pairwise import linear_kernel"
   ]
  },
  {
   "cell_type": "code",
   "execution_count": 11,
   "id": "989e89a8-91d2-438d-95f4-4171dfa55dc4",
   "metadata": {},
   "outputs": [
    {
     "data": {
      "text/html": [
       "<pre>✔️ 8.22 s (2021-11-14T08:46:56/2021-11-14T08:47:04)</pre>"
      ],
      "text/plain": [
       "<IPython.core.display.HTML object>"
      ]
     },
     "metadata": {},
     "output_type": "display_data"
    }
   ],
   "source": [
    "#Model load through URL path:\n",
    "\n",
    "module_url = \"https://tfhub.dev/google/universal-sentence-encoder/4\"\n",
    "model = hub.load(module_url)\n",
    "\n",
    "#Create function for using model training\n",
    "def embed(input):\n",
    "    return model(input)"
   ]
  },
  {
   "cell_type": "code",
   "execution_count": 12,
   "id": "5f927aa0-e723-4c86-b4ba-1fbb6608f25e",
   "metadata": {},
   "outputs": [
    {
     "data": {
      "text/html": [
       "<pre>✔️ 1.55 s (2021-11-14T08:47:04/2021-11-14T08:47:05)</pre>"
      ],
      "text/plain": [
       "<IPython.core.display.HTML object>"
      ]
     },
     "metadata": {},
     "output_type": "display_data"
    },
    {
     "name": "stdout",
     "output_type": "stream",
     "text": [
      "INFO:tensorflow:Assets written to: C:\\Users\\ramos\\OneDrive\\Documents\\SyracuseUniversity\\9th_Quarter\\IST736\\Project\\pretrained_model\\TrainModel\\assets\n"
     ]
    },
    {
     "name": "stderr",
     "output_type": "stream",
     "text": [
      "INFO:tensorflow:Assets written to: C:\\Users\\ramos\\OneDrive\\Documents\\SyracuseUniversity\\9th_Quarter\\IST736\\Project\\pretrained_model\\TrainModel\\assets\n"
     ]
    }
   ],
   "source": [
    "## Training\n",
    "Model_USE= embed(df.line)\n",
    "\n",
    "## Save model\n",
    "exported = tf.train.Checkpoint(v=tf.Variable(Model_USE))\n",
    "exported.f = tf.function(\n",
    "    lambda  x: exported.v * x,\n",
    "    input_signature=[tf.TensorSpec(shape=None, dtype=tf.float32)])\n",
    "tf.saved_model.save(exported,os.getcwd()+'\\\\pretrained_model\\\\' + 'TrainModel')"
   ]
  },
  {
   "cell_type": "code",
   "execution_count": 13,
   "id": "4d125d09-cbb1-4af6-b1fa-cb7ddaabc30f",
   "metadata": {},
   "outputs": [
    {
     "data": {
      "text/html": [
       "<pre>✔️ 0 ns (2021-11-14T08:47:05/2021-11-14T08:47:05)</pre>"
      ],
      "text/plain": [
       "<IPython.core.display.HTML object>"
      ]
     },
     "metadata": {},
     "output_type": "display_data"
    }
   ],
   "source": [
    "## Function for Document Search\n",
    "def SearchDocument(query, topn=10):\n",
    "    \n",
    "    ## Create Query\n",
    "    q =[query]\n",
    "    \n",
    "    # embed the query for calcluating the similarity\n",
    "    Q_Train = embed(q)\n",
    "    \n",
    "    ## Load Model\n",
    "    imported_m = tf.saved_model.load(os.getcwd()+'\\\\pretrained_model\\\\' + 'TrainModel')\n",
    "    loadedmodel = imported_m.v.numpy()\n",
    "    \n",
    "    # Calculate the Similarity\n",
    "    linear_similarities = linear_kernel(Q_Train, loadedmodel).flatten()\n",
    "    # return linear_similarities\n",
    "\n",
    "    #Sort top 10 index with similarity score\n",
    "    Top_index_doc = linear_similarities.argsort()[:-(topn + 1):-1]\n",
    "     \n",
    "    # sort by similarity score\n",
    "    linear_similarities.sort()\n",
    "    a = df.loc[df.index.isin(Top_index_doc)].reset_index(drop=True)\n",
    "    a['Score'] = linear_similarities[:-(topn+1):-1]\n",
    "    \n",
    "    return a.sort_values(['Score'], ascending=False)[['character', 'line', 'movie', 'year', 'Score']]"
   ]
  },
  {
   "cell_type": "code",
   "execution_count": 19,
   "id": "d76dea27-a540-4155-9d55-e326b3feb100",
   "metadata": {},
   "outputs": [
    {
     "data": {
      "text/html": [
       "<pre>✔️ 78 ms (2021-11-14T08:54:08/2021-11-14T08:54:08)</pre>"
      ],
      "text/plain": [
       "<IPython.core.display.HTML object>"
      ]
     },
     "metadata": {},
     "output_type": "display_data"
    },
    {
     "data": {
      "text/html": [
       "<div>\n",
       "<style scoped>\n",
       "    .dataframe tbody tr th:only-of-type {\n",
       "        vertical-align: middle;\n",
       "    }\n",
       "\n",
       "    .dataframe tbody tr th {\n",
       "        vertical-align: top;\n",
       "    }\n",
       "\n",
       "    .dataframe thead th {\n",
       "        text-align: right;\n",
       "    }\n",
       "</style>\n",
       "<table border=\"1\" class=\"dataframe\">\n",
       "  <thead>\n",
       "    <tr style=\"text-align: right;\">\n",
       "      <th></th>\n",
       "      <th>character</th>\n",
       "      <th>line</th>\n",
       "      <th>movie</th>\n",
       "      <th>year</th>\n",
       "      <th>Score</th>\n",
       "    </tr>\n",
       "  </thead>\n",
       "  <tbody>\n",
       "    <tr>\n",
       "      <th>0</th>\n",
       "      <td>JAMES RHODES</td>\n",
       "      <td>Vanko’s alive?</td>\n",
       "      <td>Iron Man 2</td>\n",
       "      <td>2010</td>\n",
       "      <td>0.414177</td>\n",
       "    </tr>\n",
       "    <tr>\n",
       "      <th>1</th>\n",
       "      <td>LOKI</td>\n",
       "      <td>Father is dead.</td>\n",
       "      <td>Thor</td>\n",
       "      <td>2011</td>\n",
       "      <td>0.372609</td>\n",
       "    </tr>\n",
       "    <tr>\n",
       "      <th>2</th>\n",
       "      <td>STEVE ROGERS</td>\n",
       "      <td>You lose someone?</td>\n",
       "      <td>Captain America: The Winter Soldier</td>\n",
       "      <td>2014</td>\n",
       "      <td>0.355951</td>\n",
       "    </tr>\n",
       "    <tr>\n",
       "      <th>3</th>\n",
       "      <td>STEVE ROGERS</td>\n",
       "      <td>Stark!</td>\n",
       "      <td>Avengers: Age of Ultron</td>\n",
       "      <td>2015</td>\n",
       "      <td>0.354970</td>\n",
       "    </tr>\n",
       "    <tr>\n",
       "      <th>4</th>\n",
       "      <td>STEVE ROGERS</td>\n",
       "      <td>Fatalities?</td>\n",
       "      <td>Avengers: Age of Ultron</td>\n",
       "      <td>2015</td>\n",
       "      <td>0.347357</td>\n",
       "    </tr>\n",
       "    <tr>\n",
       "      <th>5</th>\n",
       "      <td>STEVE ROGERS</td>\n",
       "      <td>Suit up.</td>\n",
       "      <td>Captain America: Civil War</td>\n",
       "      <td>2016</td>\n",
       "      <td>0.343662</td>\n",
       "    </tr>\n",
       "    <tr>\n",
       "      <th>6</th>\n",
       "      <td>PETER PARKER</td>\n",
       "      <td>Footage?</td>\n",
       "      <td>Spider-Man: Homecoming</td>\n",
       "      <td>2017</td>\n",
       "      <td>0.339325</td>\n",
       "    </tr>\n",
       "    <tr>\n",
       "      <th>7</th>\n",
       "      <td>THOR</td>\n",
       "      <td>Both dead.</td>\n",
       "      <td>Avengers: Infinity War</td>\n",
       "      <td>2018</td>\n",
       "      <td>0.334100</td>\n",
       "    </tr>\n",
       "    <tr>\n",
       "      <th>8</th>\n",
       "      <td>THOR</td>\n",
       "      <td>Killed by a dark elf.</td>\n",
       "      <td>Avengers: Infinity War</td>\n",
       "      <td>2018</td>\n",
       "      <td>0.326829</td>\n",
       "    </tr>\n",
       "    <tr>\n",
       "      <th>9</th>\n",
       "      <td>THOR</td>\n",
       "      <td>Noobmaster again?</td>\n",
       "      <td>Avengers: Endgame</td>\n",
       "      <td>2019</td>\n",
       "      <td>0.326669</td>\n",
       "    </tr>\n",
       "  </tbody>\n",
       "</table>\n",
       "</div>"
      ],
      "text/plain": [
       "      character                   line                                movie  \\\n",
       "0  JAMES RHODES         Vanko’s alive?                           Iron Man 2   \n",
       "1          LOKI        Father is dead.                                 Thor   \n",
       "2  STEVE ROGERS      You lose someone?  Captain America: The Winter Soldier   \n",
       "3  STEVE ROGERS                 Stark!              Avengers: Age of Ultron   \n",
       "4  STEVE ROGERS            Fatalities?              Avengers: Age of Ultron   \n",
       "5  STEVE ROGERS               Suit up.           Captain America: Civil War   \n",
       "6  PETER PARKER               Footage?               Spider-Man: Homecoming   \n",
       "7          THOR             Both dead.               Avengers: Infinity War   \n",
       "8          THOR  Killed by a dark elf.               Avengers: Infinity War   \n",
       "9          THOR      Noobmaster again?                    Avengers: Endgame   \n",
       "\n",
       "   year     Score  \n",
       "0  2010  0.414177  \n",
       "1  2011  0.372609  \n",
       "2  2014  0.355951  \n",
       "3  2015  0.354970  \n",
       "4  2015  0.347357  \n",
       "5  2016  0.343662  \n",
       "6  2017  0.339325  \n",
       "7  2018  0.334100  \n",
       "8  2018  0.326829  \n",
       "9  2019  0.326669  "
      ]
     },
     "execution_count": 19,
     "metadata": {},
     "output_type": "execute_result"
    }
   ],
   "source": [
    "SearchDocument('character dies')"
   ]
  },
  {
   "cell_type": "code",
   "execution_count": 15,
   "id": "c93e46cb-699f-4a84-9f47-3c1b6bdeb0fe",
   "metadata": {},
   "outputs": [
    {
     "data": {
      "text/html": [
       "<pre>✔️ 78 ms (2021-11-14T08:47:06/2021-11-14T08:47:06)</pre>"
      ],
      "text/plain": [
       "<IPython.core.display.HTML object>"
      ]
     },
     "metadata": {},
     "output_type": "display_data"
    },
    {
     "data": {
      "text/html": [
       "<div>\n",
       "<style scoped>\n",
       "    .dataframe tbody tr th:only-of-type {\n",
       "        vertical-align: middle;\n",
       "    }\n",
       "\n",
       "    .dataframe tbody tr th {\n",
       "        vertical-align: top;\n",
       "    }\n",
       "\n",
       "    .dataframe thead th {\n",
       "        text-align: right;\n",
       "    }\n",
       "</style>\n",
       "<table border=\"1\" class=\"dataframe\">\n",
       "  <thead>\n",
       "    <tr style=\"text-align: right;\">\n",
       "      <th></th>\n",
       "      <th>character</th>\n",
       "      <th>line</th>\n",
       "      <th>movie</th>\n",
       "      <th>year</th>\n",
       "      <th>Score</th>\n",
       "    </tr>\n",
       "  </thead>\n",
       "  <tbody>\n",
       "    <tr>\n",
       "      <th>0</th>\n",
       "      <td>BRUCE BANNER</td>\n",
       "      <td>Thanos is coming. He's coming...</td>\n",
       "      <td>Avengers: Infinity War</td>\n",
       "      <td>2018</td>\n",
       "      <td>0.827228</td>\n",
       "    </tr>\n",
       "    <tr>\n",
       "      <th>1</th>\n",
       "      <td>THOR</td>\n",
       "      <td>You seem to know a great deal about Thanos.</td>\n",
       "      <td>Avengers: Infinity War</td>\n",
       "      <td>2018</td>\n",
       "      <td>0.813733</td>\n",
       "    </tr>\n",
       "    <tr>\n",
       "      <th>2</th>\n",
       "      <td>THOR</td>\n",
       "      <td>The Thanos killing kind.</td>\n",
       "      <td>Avengers: Infinity War</td>\n",
       "      <td>2018</td>\n",
       "      <td>0.735027</td>\n",
       "    </tr>\n",
       "    <tr>\n",
       "      <th>3</th>\n",
       "      <td>BRUCE BANNER</td>\n",
       "      <td>There's an Ant-Man and a Spider-Man? Okay, loo...</td>\n",
       "      <td>Avengers: Infinity War</td>\n",
       "      <td>2018</td>\n",
       "      <td>0.734338</td>\n",
       "    </tr>\n",
       "    <tr>\n",
       "      <th>4</th>\n",
       "      <td>PETER PARKER</td>\n",
       "      <td>So, you're not with Thanos?</td>\n",
       "      <td>Avengers: Infinity War</td>\n",
       "      <td>2018</td>\n",
       "      <td>0.726994</td>\n",
       "    </tr>\n",
       "    <tr>\n",
       "      <th>5</th>\n",
       "      <td>THOR</td>\n",
       "      <td>So is facing Thanos without that ax.</td>\n",
       "      <td>Avengers: Infinity War</td>\n",
       "      <td>2018</td>\n",
       "      <td>0.690775</td>\n",
       "    </tr>\n",
       "    <tr>\n",
       "      <th>6</th>\n",
       "      <td>THOR</td>\n",
       "      <td>BRING ME THANOS!</td>\n",
       "      <td>Avengers: Infinity War</td>\n",
       "      <td>2018</td>\n",
       "      <td>0.681241</td>\n",
       "    </tr>\n",
       "    <tr>\n",
       "      <th>7</th>\n",
       "      <td>JAMES RHODES</td>\n",
       "      <td>It’s been twenty-three days since Thanos came ...</td>\n",
       "      <td>Avengers: Endgame</td>\n",
       "      <td>2019</td>\n",
       "      <td>0.673123</td>\n",
       "    </tr>\n",
       "    <tr>\n",
       "      <th>8</th>\n",
       "      <td>BRUCE BANNER</td>\n",
       "      <td>Like Thanos.</td>\n",
       "      <td>Avengers: Endgame</td>\n",
       "      <td>2019</td>\n",
       "      <td>0.636227</td>\n",
       "    </tr>\n",
       "    <tr>\n",
       "      <th>9</th>\n",
       "      <td>BRUCE BANNER</td>\n",
       "      <td>Strange gave Thanos the Time Stone.</td>\n",
       "      <td>Avengers: Endgame</td>\n",
       "      <td>2019</td>\n",
       "      <td>0.629709</td>\n",
       "    </tr>\n",
       "  </tbody>\n",
       "</table>\n",
       "</div>"
      ],
      "text/plain": [
       "      character                                               line  \\\n",
       "0  BRUCE BANNER                   Thanos is coming. He's coming...   \n",
       "1          THOR        You seem to know a great deal about Thanos.   \n",
       "2          THOR                           The Thanos killing kind.   \n",
       "3  BRUCE BANNER  There's an Ant-Man and a Spider-Man? Okay, loo...   \n",
       "4  PETER PARKER                        So, you're not with Thanos?   \n",
       "5          THOR               So is facing Thanos without that ax.   \n",
       "6          THOR                                   BRING ME THANOS!   \n",
       "7  JAMES RHODES  It’s been twenty-three days since Thanos came ...   \n",
       "8  BRUCE BANNER                                       Like Thanos.   \n",
       "9  BRUCE BANNER                Strange gave Thanos the Time Stone.   \n",
       "\n",
       "                    movie  year     Score  \n",
       "0  Avengers: Infinity War  2018  0.827228  \n",
       "1  Avengers: Infinity War  2018  0.813733  \n",
       "2  Avengers: Infinity War  2018  0.735027  \n",
       "3  Avengers: Infinity War  2018  0.734338  \n",
       "4  Avengers: Infinity War  2018  0.726994  \n",
       "5  Avengers: Infinity War  2018  0.690775  \n",
       "6  Avengers: Infinity War  2018  0.681241  \n",
       "7       Avengers: Endgame  2019  0.673123  \n",
       "8       Avengers: Endgame  2019  0.636227  \n",
       "9       Avengers: Endgame  2019  0.629709  "
      ]
     },
     "execution_count": 15,
     "metadata": {},
     "output_type": "execute_result"
    }
   ],
   "source": [
    "SearchDocument('thanos')"
   ]
  },
  {
   "cell_type": "code",
   "execution_count": 16,
   "id": "ed45567c-c504-442a-99f9-dbdf14e867e7",
   "metadata": {},
   "outputs": [
    {
     "data": {
      "text/html": [
       "<pre>✔️ 78 ms (2021-11-14T08:47:06/2021-11-14T08:47:06)</pre>"
      ],
      "text/plain": [
       "<IPython.core.display.HTML object>"
      ]
     },
     "metadata": {},
     "output_type": "display_data"
    },
    {
     "data": {
      "text/html": [
       "<div>\n",
       "<style scoped>\n",
       "    .dataframe tbody tr th:only-of-type {\n",
       "        vertical-align: middle;\n",
       "    }\n",
       "\n",
       "    .dataframe tbody tr th {\n",
       "        vertical-align: top;\n",
       "    }\n",
       "\n",
       "    .dataframe thead th {\n",
       "        text-align: right;\n",
       "    }\n",
       "</style>\n",
       "<table border=\"1\" class=\"dataframe\">\n",
       "  <thead>\n",
       "    <tr style=\"text-align: right;\">\n",
       "      <th></th>\n",
       "      <th>character</th>\n",
       "      <th>line</th>\n",
       "      <th>movie</th>\n",
       "      <th>year</th>\n",
       "      <th>Score</th>\n",
       "    </tr>\n",
       "  </thead>\n",
       "  <tbody>\n",
       "    <tr>\n",
       "      <th>0</th>\n",
       "      <td>TONY STARK</td>\n",
       "      <td>We have a Hulk.</td>\n",
       "      <td>The Avengers</td>\n",
       "      <td>2012</td>\n",
       "      <td>0.749868</td>\n",
       "    </tr>\n",
       "    <tr>\n",
       "      <th>1</th>\n",
       "      <td>NATASHA ROMANOFF</td>\n",
       "      <td>Thor, report on the Hulk?</td>\n",
       "      <td>Avengers: Age of Ultron</td>\n",
       "      <td>2015</td>\n",
       "      <td>0.740821</td>\n",
       "    </tr>\n",
       "    <tr>\n",
       "      <th>2</th>\n",
       "      <td>BRUCE BANNER</td>\n",
       "      <td>The world just saw the Hulk. The real Hulk, fo...</td>\n",
       "      <td>Avengers: Age of Ultron</td>\n",
       "      <td>2015</td>\n",
       "      <td>0.695066</td>\n",
       "    </tr>\n",
       "    <tr>\n",
       "      <th>3</th>\n",
       "      <td>STEVE ROGERS</td>\n",
       "      <td>Avengers...!</td>\n",
       "      <td>Avengers: Age of Ultron</td>\n",
       "      <td>2015</td>\n",
       "      <td>0.676475</td>\n",
       "    </tr>\n",
       "    <tr>\n",
       "      <th>4</th>\n",
       "      <td>PETER PARKER</td>\n",
       "      <td>The Avengers?</td>\n",
       "      <td>Spider-Man: Homecoming</td>\n",
       "      <td>2017</td>\n",
       "      <td>0.641309</td>\n",
       "    </tr>\n",
       "    <tr>\n",
       "      <th>5</th>\n",
       "      <td>THOR</td>\n",
       "      <td>Hulk, I need you to do something for me.</td>\n",
       "      <td>Thor: Ragnarok</td>\n",
       "      <td>2017</td>\n",
       "      <td>0.604614</td>\n",
       "    </tr>\n",
       "    <tr>\n",
       "      <th>6</th>\n",
       "      <td>BRUCE BANNER</td>\n",
       "      <td>What are you saying? I’ve been Hulk for two ye...</td>\n",
       "      <td>Thor: Ragnarok</td>\n",
       "      <td>2017</td>\n",
       "      <td>0.602069</td>\n",
       "    </tr>\n",
       "    <tr>\n",
       "      <th>7</th>\n",
       "      <td>THOR</td>\n",
       "      <td>So do I, but we have no choice. Surtur destroy...</td>\n",
       "      <td>Thor: Ragnarok</td>\n",
       "      <td>2017</td>\n",
       "      <td>0.580821</td>\n",
       "    </tr>\n",
       "    <tr>\n",
       "      <th>8</th>\n",
       "      <td>LOKI</td>\n",
       "      <td>Well, for one thing, I'm not Asgardian. And fo...</td>\n",
       "      <td>Avengers: Infinity War</td>\n",
       "      <td>2018</td>\n",
       "      <td>0.574890</td>\n",
       "    </tr>\n",
       "    <tr>\n",
       "      <th>9</th>\n",
       "      <td>BRUCE BANNER</td>\n",
       "      <td>Oh no, oh no you don't. This isn't going to be...</td>\n",
       "      <td>Avengers: Infinity War</td>\n",
       "      <td>2018</td>\n",
       "      <td>0.558523</td>\n",
       "    </tr>\n",
       "  </tbody>\n",
       "</table>\n",
       "</div>"
      ],
      "text/plain": [
       "          character                                               line  \\\n",
       "0        TONY STARK                                    We have a Hulk.   \n",
       "1  NATASHA ROMANOFF                          Thor, report on the Hulk?   \n",
       "2      BRUCE BANNER  The world just saw the Hulk. The real Hulk, fo...   \n",
       "3      STEVE ROGERS                                       Avengers...!   \n",
       "4      PETER PARKER                                      The Avengers?   \n",
       "5              THOR           Hulk, I need you to do something for me.   \n",
       "6      BRUCE BANNER  What are you saying? I’ve been Hulk for two ye...   \n",
       "7              THOR  So do I, but we have no choice. Surtur destroy...   \n",
       "8              LOKI  Well, for one thing, I'm not Asgardian. And fo...   \n",
       "9      BRUCE BANNER  Oh no, oh no you don't. This isn't going to be...   \n",
       "\n",
       "                     movie  year     Score  \n",
       "0             The Avengers  2012  0.749868  \n",
       "1  Avengers: Age of Ultron  2015  0.740821  \n",
       "2  Avengers: Age of Ultron  2015  0.695066  \n",
       "3  Avengers: Age of Ultron  2015  0.676475  \n",
       "4   Spider-Man: Homecoming  2017  0.641309  \n",
       "5           Thor: Ragnarok  2017  0.604614  \n",
       "6           Thor: Ragnarok  2017  0.602069  \n",
       "7           Thor: Ragnarok  2017  0.580821  \n",
       "8   Avengers: Infinity War  2018  0.574890  \n",
       "9   Avengers: Infinity War  2018  0.558523  "
      ]
     },
     "execution_count": 16,
     "metadata": {},
     "output_type": "execute_result"
    }
   ],
   "source": [
    "SearchDocument('hulk')"
   ]
  },
  {
   "cell_type": "code",
   "execution_count": null,
   "id": "1e3af8ab-ef5d-482c-805c-046316452e11",
   "metadata": {},
   "outputs": [],
   "source": []
  },
  {
   "cell_type": "code",
   "execution_count": null,
   "id": "1182e228-4b48-4d3c-bb0a-f1f1b4f0406b",
   "metadata": {},
   "outputs": [],
   "source": []
  },
  {
   "cell_type": "code",
   "execution_count": null,
   "id": "eb0781ab-d221-4ade-9be9-0b8158dfb06c",
   "metadata": {},
   "outputs": [],
   "source": []
  },
  {
   "cell_type": "code",
   "execution_count": null,
   "id": "44e4588f-76d5-4d2e-8e30-ca7292641643",
   "metadata": {},
   "outputs": [],
   "source": []
  },
  {
   "cell_type": "code",
   "execution_count": null,
   "id": "f141f27e-1082-409e-9f70-df9a98a67902",
   "metadata": {},
   "outputs": [],
   "source": []
  }
 ],
 "metadata": {
  "kernelspec": {
   "display_name": "Python 3 (ipykernel)",
   "language": "python",
   "name": "python3"
  },
  "language_info": {
   "codemirror_mode": {
    "name": "ipython",
    "version": 3
   },
   "file_extension": ".py",
   "mimetype": "text/x-python",
   "name": "python",
   "nbconvert_exporter": "python",
   "pygments_lexer": "ipython3",
   "version": "3.9.7"
  }
 },
 "nbformat": 4,
 "nbformat_minor": 5
}
